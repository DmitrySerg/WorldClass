{
 "cells": [
  {
   "cell_type": "markdown",
   "metadata": {
    "collapsed": true
   },
   "source": [
    "# WorldClass Machine Learning"
   ]
  },
  {
   "cell_type": "code",
   "execution_count": 1,
   "metadata": {
    "collapsed": true
   },
   "outputs": [],
   "source": [
    "import numpy as np\n",
    "import pandas as pd\n",
    "\n",
    "import matplotlib.pyplot as plt\n",
    "plt.style.use('ggplot')"
   ]
  },
  {
   "cell_type": "code",
   "execution_count": 2,
   "metadata": {
    "collapsed": true
   },
   "outputs": [],
   "source": [
    "%matplotlib inline"
   ]
  },
  {
   "cell_type": "code",
   "execution_count": 3,
   "metadata": {
    "collapsed": true
   },
   "outputs": [],
   "source": [
    "from sklearn.metrics import roc_auc_score, log_loss"
   ]
  },
  {
   "cell_type": "code",
   "execution_count": 4,
   "metadata": {
    "collapsed": true
   },
   "outputs": [],
   "source": [
    "from sklearn.preprocessing import LabelEncoder\n",
    "le = LabelEncoder()"
   ]
  },
  {
   "cell_type": "code",
   "execution_count": 342,
   "metadata": {
    "collapsed": false
   },
   "outputs": [],
   "source": [
    "data = pd.read_pickle('/home/dmitry/Desktop/WorldClass/final_data.pkl')\n",
    "labels = pd.read_csv('/home/dmitry/Desktop/WorldClass/LABELS.csv', header=None)"
   ]
  },
  {
   "cell_type": "code",
   "execution_count": 391,
   "metadata": {
    "collapsed": false
   },
   "outputs": [],
   "source": [
    "client_code = data.КодКлиента[data.Test==True]\n",
    "client_code = pd.DataFrame(client_code.reset_index())\n",
    "client_code.drop(['index'], axis=1, inplace=True)\n",
    "client_code = pd.to_numeric(client_code.КодКлиента)"
   ]
  },
  {
   "cell_type": "code",
   "execution_count": 394,
   "metadata": {
    "collapsed": false
   },
   "outputs": [],
   "source": [
    "clients = []\n",
    "for i in client_code:\n",
    "    try:\n",
    "        clients.append(int(i))\n",
    "    except:\n",
    "        clients.append(None)"
   ]
  },
  {
   "cell_type": "code",
   "execution_count": 6,
   "metadata": {
    "collapsed": true
   },
   "outputs": [],
   "source": [
    "data.drop(['КодКлиента', \"КодКонтракта\"], axis=1, inplace=True)"
   ]
  },
  {
   "cell_type": "code",
   "execution_count": 7,
   "metadata": {
    "collapsed": false
   },
   "outputs": [],
   "source": [
    "labels = labels[1]"
   ]
  },
  {
   "cell_type": "code",
   "execution_count": 8,
   "metadata": {
    "collapsed": true
   },
   "outputs": [],
   "source": [
    "to_dummies = ['Exp_beg_month',\n",
    "             'Exp_at_purchase',\n",
    "             'Pereoforml',\n",
    "             'age_group', \n",
    "             'club_segment',\n",
    "             'bought_freeze',\n",
    "             'contr_type',\n",
    "             'nom_lev',\n",
    "             'contract_month_per',\n",
    "             'purchase_month_group',\n",
    "             'Season']"
   ]
  },
  {
   "cell_type": "markdown",
   "metadata": {},
   "source": [
    "## Disclaimer\n",
    "Normalized data showed the best performance on random forest, non normalized - on XGB and NN, so, let's use 2 different datasets"
   ]
  },
  {
   "cell_type": "code",
   "execution_count": 9,
   "metadata": {
    "collapsed": false
   },
   "outputs": [],
   "source": [
    "to_normal = []\n",
    "for column in data.columns:\n",
    "    if column not in to_dummies and column!=\"Test\":\n",
    "        to_normal.append(column)"
   ]
  },
  {
   "cell_type": "code",
   "execution_count": 10,
   "metadata": {
    "collapsed": false
   },
   "outputs": [],
   "source": [
    "from sklearn import preprocessing\n",
    "# normalize the data attributes\n",
    "data_norm = data.copy()\n",
    "data_norm[to_normal] = pd.DataFrame(preprocessing.normalize(data[to_normal]))"
   ]
  },
  {
   "cell_type": "code",
   "execution_count": 11,
   "metadata": {
    "collapsed": false
   },
   "outputs": [
    {
     "data": {
      "text/html": [
       "<div>\n",
       "<table border=\"1\" class=\"dataframe\">\n",
       "  <thead>\n",
       "    <tr style=\"text-align: right;\">\n",
       "      <th></th>\n",
       "      <th>Pereoforml</th>\n",
       "      <th>AmPaySod</th>\n",
       "      <th>freeze_day_left</th>\n",
       "      <th>Test</th>\n",
       "      <th>Exp_beg_month</th>\n",
       "      <th>Exp_at_purchase</th>\n",
       "      <th>Cont_length</th>\n",
       "      <th>beg_month</th>\n",
       "      <th>beg_day</th>\n",
       "      <th>Season</th>\n",
       "      <th>...</th>\n",
       "      <th>Spring</th>\n",
       "      <th>Com_last_month</th>\n",
       "      <th>sum_commun</th>\n",
       "      <th>successful_commun</th>\n",
       "      <th>meeting</th>\n",
       "      <th>telephone_commun</th>\n",
       "      <th>other_commun</th>\n",
       "      <th>success_com_freq</th>\n",
       "      <th>contract_month_per</th>\n",
       "      <th>purchase_month_group</th>\n",
       "    </tr>\n",
       "  </thead>\n",
       "  <tbody>\n",
       "    <tr>\n",
       "      <th>0</th>\n",
       "      <td>0</td>\n",
       "      <td>0.0</td>\n",
       "      <td>0.000000</td>\n",
       "      <td>False</td>\n",
       "      <td>2</td>\n",
       "      <td>2</td>\n",
       "      <td>0.689884</td>\n",
       "      <td>0.019261</td>\n",
       "      <td>0.036770</td>\n",
       "      <td>3.0</td>\n",
       "      <td>...</td>\n",
       "      <td>0.0</td>\n",
       "      <td>0.001751</td>\n",
       "      <td>0.007004</td>\n",
       "      <td>0.005253</td>\n",
       "      <td>0.000000</td>\n",
       "      <td>0.001751</td>\n",
       "      <td>0.000000</td>\n",
       "      <td>0.001313</td>\n",
       "      <td>end</td>\n",
       "      <td>2</td>\n",
       "    </tr>\n",
       "    <tr>\n",
       "      <th>1</th>\n",
       "      <td>0</td>\n",
       "      <td>0.0</td>\n",
       "      <td>0.000000</td>\n",
       "      <td>False</td>\n",
       "      <td>2</td>\n",
       "      <td>0</td>\n",
       "      <td>0.266608</td>\n",
       "      <td>0.008838</td>\n",
       "      <td>0.038297</td>\n",
       "      <td>2.0</td>\n",
       "      <td>...</td>\n",
       "      <td>0.0</td>\n",
       "      <td>0.001473</td>\n",
       "      <td>0.013257</td>\n",
       "      <td>0.007365</td>\n",
       "      <td>0.001473</td>\n",
       "      <td>0.001473</td>\n",
       "      <td>0.000000</td>\n",
       "      <td>0.000818</td>\n",
       "      <td>end</td>\n",
       "      <td>1</td>\n",
       "    </tr>\n",
       "    <tr>\n",
       "      <th>2</th>\n",
       "      <td>0</td>\n",
       "      <td>0.0</td>\n",
       "      <td>0.000000</td>\n",
       "      <td>False</td>\n",
       "      <td>2</td>\n",
       "      <td>2</td>\n",
       "      <td>0.067395</td>\n",
       "      <td>0.001590</td>\n",
       "      <td>0.004610</td>\n",
       "      <td>3.0</td>\n",
       "      <td>...</td>\n",
       "      <td>0.0</td>\n",
       "      <td>0.000159</td>\n",
       "      <td>0.002702</td>\n",
       "      <td>0.001590</td>\n",
       "      <td>0.000159</td>\n",
       "      <td>0.000159</td>\n",
       "      <td>0.000000</td>\n",
       "      <td>0.000094</td>\n",
       "      <td>end</td>\n",
       "      <td>2</td>\n",
       "    </tr>\n",
       "    <tr>\n",
       "      <th>3</th>\n",
       "      <td>0</td>\n",
       "      <td>0.0</td>\n",
       "      <td>0.037871</td>\n",
       "      <td>False</td>\n",
       "      <td>2</td>\n",
       "      <td>2</td>\n",
       "      <td>0.894706</td>\n",
       "      <td>0.028403</td>\n",
       "      <td>0.004734</td>\n",
       "      <td>0.0</td>\n",
       "      <td>...</td>\n",
       "      <td>0.0</td>\n",
       "      <td>0.002367</td>\n",
       "      <td>0.007101</td>\n",
       "      <td>0.004734</td>\n",
       "      <td>0.000000</td>\n",
       "      <td>0.002367</td>\n",
       "      <td>0.002367</td>\n",
       "      <td>0.001578</td>\n",
       "      <td>begin</td>\n",
       "      <td>2</td>\n",
       "    </tr>\n",
       "    <tr>\n",
       "      <th>4</th>\n",
       "      <td>0</td>\n",
       "      <td>0.0</td>\n",
       "      <td>0.006074</td>\n",
       "      <td>False</td>\n",
       "      <td>2</td>\n",
       "      <td>2</td>\n",
       "      <td>0.592202</td>\n",
       "      <td>0.016703</td>\n",
       "      <td>0.024295</td>\n",
       "      <td>3.0</td>\n",
       "      <td>...</td>\n",
       "      <td>0.0</td>\n",
       "      <td>0.001518</td>\n",
       "      <td>0.006074</td>\n",
       "      <td>0.003037</td>\n",
       "      <td>0.001518</td>\n",
       "      <td>0.001518</td>\n",
       "      <td>0.000000</td>\n",
       "      <td>0.000759</td>\n",
       "      <td>mid</td>\n",
       "      <td>2</td>\n",
       "    </tr>\n",
       "  </tbody>\n",
       "</table>\n",
       "<p>5 rows × 40 columns</p>\n",
       "</div>"
      ],
      "text/plain": [
       "   Pereoforml  AmPaySod  freeze_day_left   Test  Exp_beg_month  \\\n",
       "0           0       0.0         0.000000  False              2   \n",
       "1           0       0.0         0.000000  False              2   \n",
       "2           0       0.0         0.000000  False              2   \n",
       "3           0       0.0         0.037871  False              2   \n",
       "4           0       0.0         0.006074  False              2   \n",
       "\n",
       "   Exp_at_purchase  Cont_length  beg_month   beg_day  Season  \\\n",
       "0                2     0.689884   0.019261  0.036770     3.0   \n",
       "1                0     0.266608   0.008838  0.038297     2.0   \n",
       "2                2     0.067395   0.001590  0.004610     3.0   \n",
       "3                2     0.894706   0.028403  0.004734     0.0   \n",
       "4                2     0.592202   0.016703  0.024295     3.0   \n",
       "\n",
       "           ...           Spring  Com_last_month  sum_commun  \\\n",
       "0          ...              0.0        0.001751    0.007004   \n",
       "1          ...              0.0        0.001473    0.013257   \n",
       "2          ...              0.0        0.000159    0.002702   \n",
       "3          ...              0.0        0.002367    0.007101   \n",
       "4          ...              0.0        0.001518    0.006074   \n",
       "\n",
       "   successful_commun   meeting  telephone_commun  other_commun  \\\n",
       "0           0.005253  0.000000          0.001751      0.000000   \n",
       "1           0.007365  0.001473          0.001473      0.000000   \n",
       "2           0.001590  0.000159          0.000159      0.000000   \n",
       "3           0.004734  0.000000          0.002367      0.002367   \n",
       "4           0.003037  0.001518          0.001518      0.000000   \n",
       "\n",
       "   success_com_freq  contract_month_per  purchase_month_group  \n",
       "0          0.001313                 end                     2  \n",
       "1          0.000818                 end                     1  \n",
       "2          0.000094                 end                     2  \n",
       "3          0.001578               begin                     2  \n",
       "4          0.000759                 mid                     2  \n",
       "\n",
       "[5 rows x 40 columns]"
      ]
     },
     "execution_count": 11,
     "metadata": {},
     "output_type": "execute_result"
    }
   ],
   "source": [
    "data_norm.head()"
   ]
  },
  {
   "cell_type": "code",
   "execution_count": 12,
   "metadata": {
    "collapsed": false
   },
   "outputs": [
    {
     "data": {
      "text/html": [
       "<div>\n",
       "<table border=\"1\" class=\"dataframe\">\n",
       "  <thead>\n",
       "    <tr style=\"text-align: right;\">\n",
       "      <th></th>\n",
       "      <th>Pereoforml</th>\n",
       "      <th>AmPaySod</th>\n",
       "      <th>freeze_day_left</th>\n",
       "      <th>Test</th>\n",
       "      <th>Exp_beg_month</th>\n",
       "      <th>Exp_at_purchase</th>\n",
       "      <th>Cont_length</th>\n",
       "      <th>beg_month</th>\n",
       "      <th>beg_day</th>\n",
       "      <th>Season</th>\n",
       "      <th>...</th>\n",
       "      <th>Spring</th>\n",
       "      <th>Com_last_month</th>\n",
       "      <th>sum_commun</th>\n",
       "      <th>successful_commun</th>\n",
       "      <th>meeting</th>\n",
       "      <th>telephone_commun</th>\n",
       "      <th>other_commun</th>\n",
       "      <th>success_com_freq</th>\n",
       "      <th>contract_month_per</th>\n",
       "      <th>purchase_month_group</th>\n",
       "    </tr>\n",
       "  </thead>\n",
       "  <tbody>\n",
       "    <tr>\n",
       "      <th>0</th>\n",
       "      <td>0</td>\n",
       "      <td>0</td>\n",
       "      <td>0</td>\n",
       "      <td>False</td>\n",
       "      <td>2</td>\n",
       "      <td>2</td>\n",
       "      <td>394.0</td>\n",
       "      <td>11</td>\n",
       "      <td>21</td>\n",
       "      <td>3.0</td>\n",
       "      <td>...</td>\n",
       "      <td>0.0</td>\n",
       "      <td>1.0</td>\n",
       "      <td>4.0</td>\n",
       "      <td>3.0</td>\n",
       "      <td>0.0</td>\n",
       "      <td>1.0</td>\n",
       "      <td>0.0</td>\n",
       "      <td>0.750000</td>\n",
       "      <td>end</td>\n",
       "      <td>2</td>\n",
       "    </tr>\n",
       "    <tr>\n",
       "      <th>1</th>\n",
       "      <td>0</td>\n",
       "      <td>0</td>\n",
       "      <td>0</td>\n",
       "      <td>False</td>\n",
       "      <td>2</td>\n",
       "      <td>0</td>\n",
       "      <td>181.0</td>\n",
       "      <td>6</td>\n",
       "      <td>26</td>\n",
       "      <td>2.0</td>\n",
       "      <td>...</td>\n",
       "      <td>0.0</td>\n",
       "      <td>1.0</td>\n",
       "      <td>9.0</td>\n",
       "      <td>5.0</td>\n",
       "      <td>1.0</td>\n",
       "      <td>1.0</td>\n",
       "      <td>0.0</td>\n",
       "      <td>0.555556</td>\n",
       "      <td>end</td>\n",
       "      <td>1</td>\n",
       "    </tr>\n",
       "    <tr>\n",
       "      <th>2</th>\n",
       "      <td>0</td>\n",
       "      <td>0</td>\n",
       "      <td>0</td>\n",
       "      <td>False</td>\n",
       "      <td>2</td>\n",
       "      <td>2</td>\n",
       "      <td>424.0</td>\n",
       "      <td>10</td>\n",
       "      <td>29</td>\n",
       "      <td>3.0</td>\n",
       "      <td>...</td>\n",
       "      <td>0.0</td>\n",
       "      <td>1.0</td>\n",
       "      <td>17.0</td>\n",
       "      <td>10.0</td>\n",
       "      <td>1.0</td>\n",
       "      <td>1.0</td>\n",
       "      <td>0.0</td>\n",
       "      <td>0.588235</td>\n",
       "      <td>end</td>\n",
       "      <td>2</td>\n",
       "    </tr>\n",
       "    <tr>\n",
       "      <th>3</th>\n",
       "      <td>0</td>\n",
       "      <td>0</td>\n",
       "      <td>16</td>\n",
       "      <td>False</td>\n",
       "      <td>2</td>\n",
       "      <td>2</td>\n",
       "      <td>378.0</td>\n",
       "      <td>12</td>\n",
       "      <td>2</td>\n",
       "      <td>0.0</td>\n",
       "      <td>...</td>\n",
       "      <td>0.0</td>\n",
       "      <td>1.0</td>\n",
       "      <td>3.0</td>\n",
       "      <td>2.0</td>\n",
       "      <td>0.0</td>\n",
       "      <td>1.0</td>\n",
       "      <td>1.0</td>\n",
       "      <td>0.666667</td>\n",
       "      <td>begin</td>\n",
       "      <td>2</td>\n",
       "    </tr>\n",
       "    <tr>\n",
       "      <th>4</th>\n",
       "      <td>0</td>\n",
       "      <td>0</td>\n",
       "      <td>4</td>\n",
       "      <td>False</td>\n",
       "      <td>2</td>\n",
       "      <td>2</td>\n",
       "      <td>390.0</td>\n",
       "      <td>11</td>\n",
       "      <td>16</td>\n",
       "      <td>3.0</td>\n",
       "      <td>...</td>\n",
       "      <td>0.0</td>\n",
       "      <td>1.0</td>\n",
       "      <td>4.0</td>\n",
       "      <td>2.0</td>\n",
       "      <td>1.0</td>\n",
       "      <td>1.0</td>\n",
       "      <td>0.0</td>\n",
       "      <td>0.500000</td>\n",
       "      <td>mid</td>\n",
       "      <td>2</td>\n",
       "    </tr>\n",
       "  </tbody>\n",
       "</table>\n",
       "<p>5 rows × 40 columns</p>\n",
       "</div>"
      ],
      "text/plain": [
       "   Pereoforml  AmPaySod  freeze_day_left   Test  Exp_beg_month  \\\n",
       "0           0         0                0  False              2   \n",
       "1           0         0                0  False              2   \n",
       "2           0         0                0  False              2   \n",
       "3           0         0               16  False              2   \n",
       "4           0         0                4  False              2   \n",
       "\n",
       "   Exp_at_purchase  Cont_length  beg_month  beg_day  Season  \\\n",
       "0                2        394.0         11       21     3.0   \n",
       "1                0        181.0          6       26     2.0   \n",
       "2                2        424.0         10       29     3.0   \n",
       "3                2        378.0         12        2     0.0   \n",
       "4                2        390.0         11       16     3.0   \n",
       "\n",
       "           ...           Spring  Com_last_month  sum_commun  \\\n",
       "0          ...              0.0             1.0         4.0   \n",
       "1          ...              0.0             1.0         9.0   \n",
       "2          ...              0.0             1.0        17.0   \n",
       "3          ...              0.0             1.0         3.0   \n",
       "4          ...              0.0             1.0         4.0   \n",
       "\n",
       "   successful_commun  meeting  telephone_commun  other_commun  \\\n",
       "0                3.0      0.0               1.0           0.0   \n",
       "1                5.0      1.0               1.0           0.0   \n",
       "2               10.0      1.0               1.0           0.0   \n",
       "3                2.0      0.0               1.0           1.0   \n",
       "4                2.0      1.0               1.0           0.0   \n",
       "\n",
       "   success_com_freq  contract_month_per  purchase_month_group  \n",
       "0          0.750000                 end                     2  \n",
       "1          0.555556                 end                     1  \n",
       "2          0.588235                 end                     2  \n",
       "3          0.666667               begin                     2  \n",
       "4          0.500000                 mid                     2  \n",
       "\n",
       "[5 rows x 40 columns]"
      ]
     },
     "execution_count": 12,
     "metadata": {},
     "output_type": "execute_result"
    }
   ],
   "source": [
    "data.head()"
   ]
  },
  {
   "cell_type": "code",
   "execution_count": 13,
   "metadata": {
    "collapsed": true
   },
   "outputs": [],
   "source": [
    "data_norm = pd.get_dummies(data_norm, columns=to_dummies)"
   ]
  },
  {
   "cell_type": "code",
   "execution_count": 14,
   "metadata": {
    "collapsed": true
   },
   "outputs": [],
   "source": [
    "data = pd.get_dummies(data, columns=to_dummies)"
   ]
  },
  {
   "cell_type": "code",
   "execution_count": 15,
   "metadata": {
    "collapsed": false
   },
   "outputs": [
    {
     "data": {
      "text/html": [
       "<div>\n",
       "<table border=\"1\" class=\"dataframe\">\n",
       "  <thead>\n",
       "    <tr style=\"text-align: right;\">\n",
       "      <th></th>\n",
       "      <th>AmPaySod</th>\n",
       "      <th>freeze_day_left</th>\n",
       "      <th>Test</th>\n",
       "      <th>Cont_length</th>\n",
       "      <th>beg_month</th>\n",
       "      <th>beg_day</th>\n",
       "      <th>bonus_left</th>\n",
       "      <th>visit_length</th>\n",
       "      <th>sport_sevice</th>\n",
       "      <th>health_beauty</th>\n",
       "      <th>...</th>\n",
       "      <th>contract_month_per_begin</th>\n",
       "      <th>contract_month_per_end</th>\n",
       "      <th>contract_month_per_mid</th>\n",
       "      <th>purchase_month_group_0</th>\n",
       "      <th>purchase_month_group_1</th>\n",
       "      <th>purchase_month_group_2</th>\n",
       "      <th>Season_0.0</th>\n",
       "      <th>Season_1.0</th>\n",
       "      <th>Season_2.0</th>\n",
       "      <th>Season_3.0</th>\n",
       "    </tr>\n",
       "  </thead>\n",
       "  <tbody>\n",
       "    <tr>\n",
       "      <th>0</th>\n",
       "      <td>0.0</td>\n",
       "      <td>0.000000</td>\n",
       "      <td>False</td>\n",
       "      <td>0.689884</td>\n",
       "      <td>0.019261</td>\n",
       "      <td>0.036770</td>\n",
       "      <td>0.682880</td>\n",
       "      <td>0.233313</td>\n",
       "      <td>0.003502</td>\n",
       "      <td>0.000000</td>\n",
       "      <td>...</td>\n",
       "      <td>0.0</td>\n",
       "      <td>1.0</td>\n",
       "      <td>0.0</td>\n",
       "      <td>0.0</td>\n",
       "      <td>0.0</td>\n",
       "      <td>1.0</td>\n",
       "      <td>0.0</td>\n",
       "      <td>0.0</td>\n",
       "      <td>0.0</td>\n",
       "      <td>1.0</td>\n",
       "    </tr>\n",
       "    <tr>\n",
       "      <th>1</th>\n",
       "      <td>0.0</td>\n",
       "      <td>0.000000</td>\n",
       "      <td>False</td>\n",
       "      <td>0.266608</td>\n",
       "      <td>0.008838</td>\n",
       "      <td>0.038297</td>\n",
       "      <td>0.950275</td>\n",
       "      <td>0.144575</td>\n",
       "      <td>0.025041</td>\n",
       "      <td>0.000000</td>\n",
       "      <td>...</td>\n",
       "      <td>0.0</td>\n",
       "      <td>1.0</td>\n",
       "      <td>0.0</td>\n",
       "      <td>0.0</td>\n",
       "      <td>1.0</td>\n",
       "      <td>0.0</td>\n",
       "      <td>0.0</td>\n",
       "      <td>0.0</td>\n",
       "      <td>1.0</td>\n",
       "      <td>0.0</td>\n",
       "    </tr>\n",
       "    <tr>\n",
       "      <th>2</th>\n",
       "      <td>0.0</td>\n",
       "      <td>0.000000</td>\n",
       "      <td>False</td>\n",
       "      <td>0.067395</td>\n",
       "      <td>0.001590</td>\n",
       "      <td>0.004610</td>\n",
       "      <td>0.997569</td>\n",
       "      <td>0.015382</td>\n",
       "      <td>0.001272</td>\n",
       "      <td>0.000000</td>\n",
       "      <td>...</td>\n",
       "      <td>0.0</td>\n",
       "      <td>1.0</td>\n",
       "      <td>0.0</td>\n",
       "      <td>0.0</td>\n",
       "      <td>0.0</td>\n",
       "      <td>1.0</td>\n",
       "      <td>0.0</td>\n",
       "      <td>0.0</td>\n",
       "      <td>0.0</td>\n",
       "      <td>1.0</td>\n",
       "    </tr>\n",
       "    <tr>\n",
       "      <th>3</th>\n",
       "      <td>0.0</td>\n",
       "      <td>0.037871</td>\n",
       "      <td>False</td>\n",
       "      <td>0.894706</td>\n",
       "      <td>0.028403</td>\n",
       "      <td>0.004734</td>\n",
       "      <td>0.001704</td>\n",
       "      <td>0.338067</td>\n",
       "      <td>0.125448</td>\n",
       "      <td>0.018936</td>\n",
       "      <td>...</td>\n",
       "      <td>1.0</td>\n",
       "      <td>0.0</td>\n",
       "      <td>0.0</td>\n",
       "      <td>0.0</td>\n",
       "      <td>0.0</td>\n",
       "      <td>1.0</td>\n",
       "      <td>1.0</td>\n",
       "      <td>0.0</td>\n",
       "      <td>0.0</td>\n",
       "      <td>0.0</td>\n",
       "    </tr>\n",
       "    <tr>\n",
       "      <th>4</th>\n",
       "      <td>0.0</td>\n",
       "      <td>0.006074</td>\n",
       "      <td>False</td>\n",
       "      <td>0.592202</td>\n",
       "      <td>0.016703</td>\n",
       "      <td>0.024295</td>\n",
       "      <td>0.789603</td>\n",
       "      <td>0.140257</td>\n",
       "      <td>0.000000</td>\n",
       "      <td>0.000000</td>\n",
       "      <td>...</td>\n",
       "      <td>0.0</td>\n",
       "      <td>0.0</td>\n",
       "      <td>1.0</td>\n",
       "      <td>0.0</td>\n",
       "      <td>0.0</td>\n",
       "      <td>1.0</td>\n",
       "      <td>0.0</td>\n",
       "      <td>0.0</td>\n",
       "      <td>0.0</td>\n",
       "      <td>1.0</td>\n",
       "    </tr>\n",
       "  </tbody>\n",
       "</table>\n",
       "<p>5 rows × 72 columns</p>\n",
       "</div>"
      ],
      "text/plain": [
       "   AmPaySod  freeze_day_left   Test  Cont_length  beg_month   beg_day  \\\n",
       "0       0.0         0.000000  False     0.689884   0.019261  0.036770   \n",
       "1       0.0         0.000000  False     0.266608   0.008838  0.038297   \n",
       "2       0.0         0.000000  False     0.067395   0.001590  0.004610   \n",
       "3       0.0         0.037871  False     0.894706   0.028403  0.004734   \n",
       "4       0.0         0.006074  False     0.592202   0.016703  0.024295   \n",
       "\n",
       "   bonus_left  visit_length  sport_sevice  health_beauty     ...      \\\n",
       "0    0.682880      0.233313      0.003502       0.000000     ...       \n",
       "1    0.950275      0.144575      0.025041       0.000000     ...       \n",
       "2    0.997569      0.015382      0.001272       0.000000     ...       \n",
       "3    0.001704      0.338067      0.125448       0.018936     ...       \n",
       "4    0.789603      0.140257      0.000000       0.000000     ...       \n",
       "\n",
       "   contract_month_per_begin  contract_month_per_end  contract_month_per_mid  \\\n",
       "0                       0.0                     1.0                     0.0   \n",
       "1                       0.0                     1.0                     0.0   \n",
       "2                       0.0                     1.0                     0.0   \n",
       "3                       1.0                     0.0                     0.0   \n",
       "4                       0.0                     0.0                     1.0   \n",
       "\n",
       "   purchase_month_group_0  purchase_month_group_1  purchase_month_group_2  \\\n",
       "0                     0.0                     0.0                     1.0   \n",
       "1                     0.0                     1.0                     0.0   \n",
       "2                     0.0                     0.0                     1.0   \n",
       "3                     0.0                     0.0                     1.0   \n",
       "4                     0.0                     0.0                     1.0   \n",
       "\n",
       "   Season_0.0  Season_1.0  Season_2.0  Season_3.0  \n",
       "0         0.0         0.0         0.0         1.0  \n",
       "1         0.0         0.0         1.0         0.0  \n",
       "2         0.0         0.0         0.0         1.0  \n",
       "3         1.0         0.0         0.0         0.0  \n",
       "4         0.0         0.0         0.0         1.0  \n",
       "\n",
       "[5 rows x 72 columns]"
      ]
     },
     "execution_count": 15,
     "metadata": {},
     "output_type": "execute_result"
    }
   ],
   "source": [
    "data_norm.head()"
   ]
  },
  {
   "cell_type": "code",
   "execution_count": 16,
   "metadata": {
    "collapsed": true
   },
   "outputs": [],
   "source": [
    "train_tree = data_norm[data_norm.Test==False]\n",
    "test_tree = data_norm[data_norm.Test==True]"
   ]
  },
  {
   "cell_type": "code",
   "execution_count": 17,
   "metadata": {
    "collapsed": true
   },
   "outputs": [],
   "source": [
    "train = data[data.Test == False]\n",
    "test = data[data.Test == True]"
   ]
  },
  {
   "cell_type": "code",
   "execution_count": 18,
   "metadata": {
    "collapsed": false
   },
   "outputs": [
    {
     "data": {
      "text/plain": [
       "8634"
      ]
     },
     "execution_count": 18,
     "metadata": {},
     "output_type": "execute_result"
    }
   ],
   "source": [
    "len(train)"
   ]
  },
  {
   "cell_type": "markdown",
   "metadata": {},
   "source": [
    "## Train-Test Split"
   ]
  },
  {
   "cell_type": "code",
   "execution_count": 19,
   "metadata": {
    "collapsed": true
   },
   "outputs": [],
   "source": [
    "X = train\n",
    "y = labels"
   ]
  },
  {
   "cell_type": "code",
   "execution_count": 20,
   "metadata": {
    "collapsed": true
   },
   "outputs": [],
   "source": [
    "X_tree = train_tree"
   ]
  },
  {
   "cell_type": "code",
   "execution_count": 21,
   "metadata": {
    "collapsed": true
   },
   "outputs": [],
   "source": [
    "from sklearn.cross_validation import train_test_split"
   ]
  },
  {
   "cell_type": "code",
   "execution_count": 22,
   "metadata": {
    "collapsed": true
   },
   "outputs": [],
   "source": [
    "Xtr, Xval, ytr, yval = train_test_split(X, y, test_size=0.15, random_state=42)"
   ]
  },
  {
   "cell_type": "code",
   "execution_count": 23,
   "metadata": {
    "collapsed": true
   },
   "outputs": [],
   "source": [
    "Xtr_tree, Xval_tree, ytr_tree, yval_tree = train_test_split(X_tree, y, test_size=0.15, random_state=42)"
   ]
  },
  {
   "cell_type": "code",
   "execution_count": 24,
   "metadata": {
    "collapsed": false
   },
   "outputs": [
    {
     "data": {
      "text/plain": [
       "((7338, 72), (1296, 72))"
      ]
     },
     "execution_count": 24,
     "metadata": {},
     "output_type": "execute_result"
    }
   ],
   "source": [
    "Xtr.shape, Xval.shape"
   ]
  },
  {
   "cell_type": "code",
   "execution_count": 25,
   "metadata": {
    "collapsed": false
   },
   "outputs": [
    {
     "data": {
      "text/plain": [
       "((7338, 72), (1296, 72))"
      ]
     },
     "execution_count": 25,
     "metadata": {},
     "output_type": "execute_result"
    }
   ],
   "source": [
    "Xtr_tree.shape, Xval_tree.shape"
   ]
  },
  {
   "cell_type": "markdown",
   "metadata": {},
   "source": [
    "# Random Forest"
   ]
  },
  {
   "cell_type": "code",
   "execution_count": 26,
   "metadata": {
    "collapsed": true
   },
   "outputs": [],
   "source": [
    "from sklearn.ensemble import RandomForestClassifier"
   ]
  },
  {
   "cell_type": "code",
   "execution_count": 27,
   "metadata": {
    "collapsed": false
   },
   "outputs": [
    {
     "name": "stdout",
     "output_type": "stream",
     "text": [
      "0.189873365652\n"
     ]
    }
   ],
   "source": [
    "rf = RandomForestClassifier(n_estimators=1000, n_jobs=3)\n",
    "rf.fit(Xtr_tree, ytr_tree)\n",
    "print(log_loss(yval_tree, rf.predict_proba(Xval_tree)))"
   ]
  },
  {
   "cell_type": "code",
   "execution_count": 28,
   "metadata": {
    "collapsed": false
   },
   "outputs": [
    {
     "name": "stdout",
     "output_type": "stream",
     "text": [
      "0.951575881376\n"
     ]
    }
   ],
   "source": [
    "print(roc_auc_score(yval_tree, rf.predict(Xval_tree)))"
   ]
  },
  {
   "cell_type": "code",
   "execution_count": 29,
   "metadata": {
    "collapsed": true
   },
   "outputs": [],
   "source": [
    "from sklearn.calibration import CalibratedClassifierCV"
   ]
  },
  {
   "cell_type": "code",
   "execution_count": 30,
   "metadata": {
    "collapsed": false
   },
   "outputs": [
    {
     "name": "stdout",
     "output_type": "stream",
     "text": [
      "0.183649001048\n",
      "0.949940768884\n"
     ]
    }
   ],
   "source": [
    "calib = CalibratedClassifierCV(RandomForestClassifier(n_jobs=3, n_estimators=1000), cv=10, method='isotonic')\n",
    "calib.fit(Xtr_tree, ytr_tree)\n",
    "print(log_loss(yval_tree, calib.predict_proba(Xval_tree)))\n",
    "print(roc_auc_score(yval_tree, calib.predict(Xval_tree)))"
   ]
  },
  {
   "cell_type": "markdown",
   "metadata": {},
   "source": [
    "# XGBoost"
   ]
  },
  {
   "cell_type": "code",
   "execution_count": 31,
   "metadata": {
    "collapsed": true
   },
   "outputs": [],
   "source": [
    "import sys\n",
    "sys.path.append('/home/dmitry/xgboost/python-package/')"
   ]
  },
  {
   "cell_type": "code",
   "execution_count": 32,
   "metadata": {
    "collapsed": true
   },
   "outputs": [],
   "source": [
    "import xgboost as xgb"
   ]
  },
  {
   "cell_type": "code",
   "execution_count": 33,
   "metadata": {
    "collapsed": true
   },
   "outputs": [],
   "source": [
    "dtrain = xgb.DMatrix(X, label=y)"
   ]
  },
  {
   "cell_type": "code",
   "execution_count": 34,
   "metadata": {
    "collapsed": false
   },
   "outputs": [],
   "source": [
    "params = {\n",
    "    'objective': 'binary:logistic',\n",
    "    'max_depth': 5,\n",
    "    'eta': 0.01,\n",
    "    'subsample': 0.5,\n",
    "    'min_child_weight': 1,\n",
    "    'colsample_bytree':0.6\n",
    "}\n",
    "trees = 1500"
   ]
  },
  {
   "cell_type": "code",
   "execution_count": 35,
   "metadata": {
    "collapsed": false,
    "scrolled": true
   },
   "outputs": [],
   "source": [
    "cv = xgb.cv(params, dtrain, metrics=('auc'), verbose_eval=False, nfold=7, show_stdv=False, num_boost_round=trees)"
   ]
  },
  {
   "cell_type": "code",
   "execution_count": 36,
   "metadata": {
    "collapsed": false
   },
   "outputs": [
    {
     "data": {
      "text/plain": [
       "<matplotlib.axes._subplots.AxesSubplot at 0x7f2edf691550>"
      ]
     },
     "execution_count": 36,
     "metadata": {},
     "output_type": "execute_result"
    },
    {
     "data": {
      "image/png": "[encoded data removed]",
      "text/plain": [
       "<matplotlib.figure.Figure at 0x7f2edf6b6fd0>"
      ]
     },
     "metadata": {},
     "output_type": "display_data"
    }
   ],
   "source": [
    "%matplotlib inline\n",
    "cv.plot(y=['test-auc-mean', 'train-auc-mean'])"
   ]
  },
  {
   "cell_type": "code",
   "execution_count": 37,
   "metadata": {
    "collapsed": false
   },
   "outputs": [
    {
     "data": {
      "text/plain": [
       "test-auc-mean     0.983871\n",
       "test-auc-std      0.001570\n",
       "train-auc-mean    0.996427\n",
       "train-auc-std     0.000096\n",
       "Name: 1002, dtype: float64"
      ]
     },
     "execution_count": 37,
     "metadata": {},
     "output_type": "execute_result"
    }
   ],
   "source": [
    "cv.loc[cv['test-auc-mean'].argmax()]"
   ]
  },
  {
   "cell_type": "code",
   "execution_count": 38,
   "metadata": {
    "collapsed": false
   },
   "outputs": [
    {
     "data": {
      "text/plain": [
       "1002"
      ]
     },
     "execution_count": 38,
     "metadata": {},
     "output_type": "execute_result"
    }
   ],
   "source": [
    "cv['test-auc-mean'].argmax()"
   ]
  },
  {
   "cell_type": "code",
   "execution_count": 39,
   "metadata": {
    "collapsed": false
   },
   "outputs": [],
   "source": [
    "bst = xgb.train(params, dtrain, num_boost_round=cv['test-auc-mean'].argmax())"
   ]
  },
  {
   "cell_type": "code",
   "execution_count": 40,
   "metadata": {
    "collapsed": true
   },
   "outputs": [],
   "source": [
    "imps = pd.Series(bst.get_fscore()).sort_values()"
   ]
  },
  {
   "cell_type": "code",
   "execution_count": 41,
   "metadata": {
    "collapsed": false
   },
   "outputs": [
    {
     "data": {
      "text/plain": [
       "<matplotlib.axes._subplots.AxesSubplot at 0x7f2edf83ac18>"
      ]
     },
     "execution_count": 41,
     "metadata": {},
     "output_type": "execute_result"
    },
    {
     "data": {
      "image/png": "[encoded data removed]",
      "text/plain": [
       "<matplotlib.figure.Figure at 0x7f2edf877ba8>"
      ]
     },
     "metadata": {},
     "output_type": "display_data"
    }
   ],
   "source": [
    "%matplotlib inline\n",
    "imps.plot(kind='bar', figsize=(15,6),logy=True)"
   ]
  },
  {
   "cell_type": "code",
   "execution_count": 42,
   "metadata": {
    "collapsed": false
   },
   "outputs": [],
   "source": [
    "good_columns = list(pd.DataFrame(imps.reset_index())['index'])"
   ]
  },
  {
   "cell_type": "markdown",
   "metadata": {},
   "source": [
    "\n",
    "\n",
    "\n",
    "\n",
    "\n",
    "Let's try to drop the columns which are not in the good_columns set"
   ]
  },
  {
   "cell_type": "code",
   "execution_count": 43,
   "metadata": {
    "collapsed": false
   },
   "outputs": [],
   "source": [
    "to_drop = []\n",
    "all_columns = list(train)\n",
    "for name in all_columns:\n",
    "    if name not in good_columns:\n",
    "        to_drop.append(name)"
   ]
  },
  {
   "cell_type": "code",
   "execution_count": 44,
   "metadata": {
    "collapsed": false
   },
   "outputs": [
    {
     "data": {
      "text/plain": [
       "['Test',\n",
       " 'Spring',\n",
       " 'Exp_beg_month_0',\n",
       " 'club_segment_4',\n",
       " 'bought_freeze_0',\n",
       " 'bought_freeze_1',\n",
       " 'bought_freeze_2',\n",
       " 'bought_freeze_3',\n",
       " 'bought_freeze_4',\n",
       " 'contr_type_1',\n",
       " 'contr_type_4']"
      ]
     },
     "execution_count": 44,
     "metadata": {},
     "output_type": "execute_result"
    }
   ],
   "source": [
    "to_drop"
   ]
  },
  {
   "cell_type": "code",
   "execution_count": 45,
   "metadata": {
    "collapsed": false
   },
   "outputs": [],
   "source": [
    "data_new = data_norm.drop(to_drop[1:], axis = 1)"
   ]
  },
  {
   "cell_type": "code",
   "execution_count": 46,
   "metadata": {
    "collapsed": true
   },
   "outputs": [],
   "source": [
    "data_xgb = data.drop(to_drop[1:], axis = 1)"
   ]
  },
  {
   "cell_type": "code",
   "execution_count": 47,
   "metadata": {
    "collapsed": true
   },
   "outputs": [],
   "source": [
    "train_new = data_new[data_new.Test==False]\n",
    "test_new = data_new[data_new.Test==True]"
   ]
  },
  {
   "cell_type": "code",
   "execution_count": 324,
   "metadata": {
    "collapsed": true
   },
   "outputs": [],
   "source": [
    "train_xgb = data_xgb[data_xgb.Test==False]\n",
    "test_xgb = data_xgb[data_xgb.Test==True]"
   ]
  },
  {
   "cell_type": "code",
   "execution_count": 49,
   "metadata": {
    "collapsed": true
   },
   "outputs": [],
   "source": [
    "X_xgb = train_xgb"
   ]
  },
  {
   "cell_type": "code",
   "execution_count": 50,
   "metadata": {
    "collapsed": true
   },
   "outputs": [],
   "source": [
    "X_new = train_new"
   ]
  },
  {
   "cell_type": "code",
   "execution_count": 51,
   "metadata": {
    "collapsed": true
   },
   "outputs": [],
   "source": [
    "Xtr_new, Xval_new, ytr, yval = train_test_split(X_new, y, test_size=0.15, random_state=42)"
   ]
  },
  {
   "cell_type": "code",
   "execution_count": 52,
   "metadata": {
    "collapsed": false
   },
   "outputs": [
    {
     "name": "stdout",
     "output_type": "stream",
     "text": [
      "0.180372672321\n",
      "0.952370793935\n"
     ]
    }
   ],
   "source": [
    "calib = CalibratedClassifierCV(RandomForestClassifier(n_jobs=3, n_estimators=1000), cv=10, method='isotonic')\n",
    "calib.fit(Xtr_new, ytr)\n",
    "print(log_loss(yval, calib.predict_proba(Xval_new)))\n",
    "print(roc_auc_score(yval, calib.predict(Xval_new)))"
   ]
  },
  {
   "cell_type": "code",
   "execution_count": 53,
   "metadata": {
    "collapsed": true
   },
   "outputs": [],
   "source": [
    "dtrain = xgb.DMatrix(X_xgb, label=y)"
   ]
  },
  {
   "cell_type": "code",
   "execution_count": 54,
   "metadata": {
    "collapsed": true
   },
   "outputs": [],
   "source": [
    "params = {\n",
    "    'objective': 'binary:logistic',\n",
    "    'max_depth': 5,\n",
    "    'eta': 0.01,\n",
    "    'subsample': 0.5,\n",
    "    'min_child_weight': 1,\n",
    "    'colsample_bytree':0.6\n",
    "}\n",
    "trees = 1300"
   ]
  },
  {
   "cell_type": "code",
   "execution_count": 55,
   "metadata": {
    "collapsed": false,
    "scrolled": true
   },
   "outputs": [],
   "source": [
    "cv = xgb.cv(params, dtrain, metrics=('auc'), verbose_eval=False, nfold=7, show_stdv=False, num_boost_round=trees)"
   ]
  },
  {
   "cell_type": "code",
   "execution_count": 56,
   "metadata": {
    "collapsed": false
   },
   "outputs": [
    {
     "data": {
      "text/plain": [
       "<matplotlib.axes._subplots.AxesSubplot at 0x7f2ede8fc1d0>"
      ]
     },
     "execution_count": 56,
     "metadata": {},
     "output_type": "execute_result"
    },
    {
     "data": {
      "image/png": "[encoded data removed]",
      "text/plain": [
       "<matplotlib.figure.Figure at 0x7f2edfcabc88>"
      ]
     },
     "metadata": {},
     "output_type": "display_data"
    }
   ],
   "source": [
    "%matplotlib inline\n",
    "cv.plot(y=['test-auc-mean', 'train-auc-mean'])"
   ]
  },
  {
   "cell_type": "code",
   "execution_count": 57,
   "metadata": {
    "collapsed": false
   },
   "outputs": [
    {
     "data": {
      "text/plain": [
       "1114"
      ]
     },
     "execution_count": 57,
     "metadata": {},
     "output_type": "execute_result"
    }
   ],
   "source": [
    "cv['test-auc-mean'].argmax()"
   ]
  },
  {
   "cell_type": "code",
   "execution_count": 58,
   "metadata": {
    "collapsed": false
   },
   "outputs": [
    {
     "data": {
      "text/plain": [
       "test-auc-mean     0.983884\n",
       "test-auc-std      0.001489\n",
       "train-auc-mean    0.997016\n",
       "train-auc-std     0.000064\n",
       "Name: 1114, dtype: float64"
      ]
     },
     "execution_count": 58,
     "metadata": {},
     "output_type": "execute_result"
    }
   ],
   "source": [
    "cv.loc[cv['test-auc-mean'].argmax()]"
   ]
  },
  {
   "cell_type": "markdown",
   "metadata": {},
   "source": [
    "Thus, after deleting 12 columns in total, the overall test-auc-meam increased by 0.003"
   ]
  },
  {
   "cell_type": "code",
   "execution_count": 59,
   "metadata": {
    "collapsed": true
   },
   "outputs": [],
   "source": [
    "bst = xgb.train(params, dtrain, num_boost_round=cv['test-auc-mean'].argmax())"
   ]
  },
  {
   "cell_type": "code",
   "execution_count": 60,
   "metadata": {
    "collapsed": false
   },
   "outputs": [
    {
     "data": {
      "text/plain": [
       "<matplotlib.axes._subplots.AxesSubplot at 0x7f2edf31ceb8>"
      ]
     },
     "execution_count": 60,
     "metadata": {},
     "output_type": "execute_result"
    },
    {
     "data": {
      "image/png": "[encoded data removed]",
      "text/plain": [
       "<matplotlib.figure.Figure at 0x7f2edf640898>"
      ]
     },
     "metadata": {},
     "output_type": "display_data"
    }
   ],
   "source": [
    "imps = pd.Series(bst.get_fscore()).sort_values()\n",
    "imps.plot(kind='bar', figsize=(15,6),logy=True)"
   ]
  },
  {
   "cell_type": "code",
   "execution_count": 61,
   "metadata": {
    "collapsed": true
   },
   "outputs": [],
   "source": [
    "good_columns = list(pd.DataFrame(imps.reset_index())['index'])"
   ]
  },
  {
   "cell_type": "code",
   "execution_count": 62,
   "metadata": {
    "collapsed": false
   },
   "outputs": [
    {
     "name": "stdout",
     "output_type": "stream",
     "text": [
      "['Test', 'age_group_1', 'nom_lev_4']\n"
     ]
    }
   ],
   "source": [
    "to_drop = []\n",
    "all_columns = list(train_new)\n",
    "for name in all_columns:\n",
    "    if name not in good_columns:\n",
    "        to_drop.append(name)\n",
    "print(to_drop)"
   ]
  },
  {
   "cell_type": "code",
   "execution_count": 270,
   "metadata": {
    "collapsed": true
   },
   "outputs": [],
   "source": [
    "data_xgb = data.drop(to_drop[1:], axis = 1)\n",
    "train_xgb = data_xgb[data_xgb.Test==False]\n",
    "test_xgb = data_xgb[data_xgb==True]\n",
    "X_xgb = train_xgb\n",
    "Xtr_xgb, Xval_xgb, ytr, yval = train_test_split(X_xgb, y, test_size=0.15, random_state=42)"
   ]
  },
  {
   "cell_type": "markdown",
   "metadata": {},
   "source": [
    "# Neural Networks"
   ]
  },
  {
   "cell_type": "code",
   "execution_count": 64,
   "metadata": {
    "collapsed": true
   },
   "outputs": [],
   "source": [
    "sys.path.append('/usr/local/lib/python3.5/dist-packages')"
   ]
  },
  {
   "cell_type": "code",
   "execution_count": 65,
   "metadata": {
    "collapsed": false
   },
   "outputs": [
    {
     "name": "stderr",
     "output_type": "stream",
     "text": [
      "Using Theano backend.\n"
     ]
    }
   ],
   "source": [
    "from keras.models import Sequential\n",
    "from keras.layers import Dense, Dropout, Activation\n",
    "from keras.optimizers import Adam\n",
    "from keras.utils.np_utils import to_categorical"
   ]
  },
  {
   "cell_type": "code",
   "execution_count": 66,
   "metadata": {
    "collapsed": true
   },
   "outputs": [],
   "source": [
    "nn = Sequential()\n",
    "nn.add(Dense(128, input_dim=72, init='uniform'))\n",
    "nn.add(Activation('sigmoid'))\n",
    "nn.add(Dense(2, init='uniform'))\n",
    "nn.add(Activation('softmax'))\n",
    "\n",
    "opt = Adam(lr=1e-3)\n",
    "nn.compile(loss='sparse_categorical_crossentropy', optimizer=opt)"
   ]
  },
  {
   "cell_type": "code",
   "execution_count": 67,
   "metadata": {
    "collapsed": true
   },
   "outputs": [],
   "source": [
    "from sklearn.preprocessing import StandardScaler\n",
    "ss = StandardScaler()"
   ]
  },
  {
   "cell_type": "code",
   "execution_count": 68,
   "metadata": {
    "collapsed": false
   },
   "outputs": [
    {
     "data": {
      "text/plain": [
       "((7338, 72), (7338,), (1296, 72), (1296,))"
      ]
     },
     "execution_count": 68,
     "metadata": {},
     "output_type": "execute_result"
    }
   ],
   "source": [
    "Xtr.shape, ytr.shape, Xval.shape, yval.shape"
   ]
  },
  {
   "cell_type": "code",
   "execution_count": 69,
   "metadata": {
    "collapsed": false,
    "scrolled": true
   },
   "outputs": [
    {
     "name": "stdout",
     "output_type": "stream",
     "text": [
      "Train on 7338 samples, validate on 1296 samples\n",
      "Epoch 1/80\n",
      "7338/7338 [==============================] - 1s - loss: 0.3842 - val_loss: 0.2237\n",
      "Epoch 2/80\n",
      "7338/7338 [==============================] - 1s - loss: 0.1965 - val_loss: 0.1931\n",
      "Epoch 3/80\n",
      "7338/7338 [==============================] - 1s - loss: 0.1832 - val_loss: 0.1926\n",
      "Epoch 4/80\n",
      "7338/7338 [==============================] - 1s - loss: 0.1807 - val_loss: 0.1925\n",
      "Epoch 5/80\n",
      "7338/7338 [==============================] - 1s - loss: 0.1804 - val_loss: 0.1884\n",
      "Epoch 6/80\n",
      "7338/7338 [==============================] - 1s - loss: 0.1784 - val_loss: 0.1901\n",
      "Epoch 7/80\n",
      "7338/7338 [==============================] - 1s - loss: 0.1787 - val_loss: 0.1918\n",
      "Epoch 8/80\n",
      "7338/7338 [==============================] - 1s - loss: 0.1781 - val_loss: 0.1870\n",
      "Epoch 9/80\n",
      "7338/7338 [==============================] - 1s - loss: 0.1769 - val_loss: 0.1878\n",
      "Epoch 10/80\n",
      "7338/7338 [==============================] - 1s - loss: 0.1763 - val_loss: 0.1849\n",
      "Epoch 11/80\n",
      "7338/7338 [==============================] - 1s - loss: 0.1766 - val_loss: 0.1881\n",
      "Epoch 12/80\n",
      "7338/7338 [==============================] - 1s - loss: 0.1736 - val_loss: 0.1954\n",
      "Epoch 13/80\n",
      "7338/7338 [==============================] - 1s - loss: 0.1743 - val_loss: 0.1905\n",
      "Epoch 14/80\n",
      "7338/7338 [==============================] - 1s - loss: 0.1730 - val_loss: 0.1823\n",
      "Epoch 15/80\n",
      "7338/7338 [==============================] - 1s - loss: 0.1719 - val_loss: 0.1843\n",
      "Epoch 16/80\n",
      "7338/7338 [==============================] - 1s - loss: 0.1719 - val_loss: 0.1808\n",
      "Epoch 17/80\n",
      "7338/7338 [==============================] - 1s - loss: 0.1696 - val_loss: 0.1828\n",
      "Epoch 18/80\n",
      "7338/7338 [==============================] - 1s - loss: 0.1690 - val_loss: 0.1806\n",
      "Epoch 19/80\n",
      "7338/7338 [==============================] - 1s - loss: 0.1659 - val_loss: 0.1795\n",
      "Epoch 20/80\n",
      "7338/7338 [==============================] - 1s - loss: 0.1650 - val_loss: 0.1808\n",
      "Epoch 21/80\n",
      "7338/7338 [==============================] - 1s - loss: 0.1643 - val_loss: 0.1754\n",
      "Epoch 22/80\n",
      "7338/7338 [==============================] - 1s - loss: 0.1623 - val_loss: 0.1732\n",
      "Epoch 23/80\n",
      "7338/7338 [==============================] - 1s - loss: 0.1607 - val_loss: 0.1731\n",
      "Epoch 24/80\n",
      "7338/7338 [==============================] - 1s - loss: 0.1597 - val_loss: 0.1721\n",
      "Epoch 25/80\n",
      "7338/7338 [==============================] - 1s - loss: 0.1588 - val_loss: 0.1725\n",
      "Epoch 26/80\n",
      "7338/7338 [==============================] - 1s - loss: 0.1561 - val_loss: 0.1704\n",
      "Epoch 27/80\n",
      "7338/7338 [==============================] - 1s - loss: 0.1559 - val_loss: 0.1717\n",
      "Epoch 28/80\n",
      "7338/7338 [==============================] - 1s - loss: 0.1540 - val_loss: 0.1663\n",
      "Epoch 29/80\n",
      "7338/7338 [==============================] - 1s - loss: 0.1526 - val_loss: 0.1676\n",
      "Epoch 30/80\n",
      "7338/7338 [==============================] - 1s - loss: 0.1517 - val_loss: 0.1663\n",
      "Epoch 31/80\n",
      "7338/7338 [==============================] - 1s - loss: 0.1502 - val_loss: 0.1646\n",
      "Epoch 32/80\n",
      "7338/7338 [==============================] - 1s - loss: 0.1491 - val_loss: 0.1659\n",
      "Epoch 33/80\n",
      "7338/7338 [==============================] - 1s - loss: 0.1478 - val_loss: 0.1631\n",
      "Epoch 34/80\n",
      "7338/7338 [==============================] - 1s - loss: 0.1460 - val_loss: 0.1638\n",
      "Epoch 35/80\n",
      "7338/7338 [==============================] - 1s - loss: 0.1455 - val_loss: 0.1618\n",
      "Epoch 36/80\n",
      "7338/7338 [==============================] - 1s - loss: 0.1440 - val_loss: 0.1598\n",
      "Epoch 37/80\n",
      "7338/7338 [==============================] - 1s - loss: 0.1421 - val_loss: 0.1611\n",
      "Epoch 38/80\n",
      "7338/7338 [==============================] - 1s - loss: 0.1425 - val_loss: 0.1604\n",
      "Epoch 39/80\n",
      "7338/7338 [==============================] - 1s - loss: 0.1399 - val_loss: 0.1608\n",
      "Epoch 40/80\n",
      "7338/7338 [==============================] - 1s - loss: 0.1395 - val_loss: 0.1621\n",
      "Epoch 41/80\n",
      "7338/7338 [==============================] - 1s - loss: 0.1379 - val_loss: 0.1592\n",
      "Epoch 42/80\n",
      "7338/7338 [==============================] - 1s - loss: 0.1372 - val_loss: 0.1614\n",
      "Epoch 43/80\n",
      "7338/7338 [==============================] - 1s - loss: 0.1363 - val_loss: 0.1589\n",
      "Epoch 44/80\n",
      "7338/7338 [==============================] - 1s - loss: 0.1341 - val_loss: 0.1610\n",
      "Epoch 45/80\n",
      "7338/7338 [==============================] - 1s - loss: 0.1332 - val_loss: 0.1630\n",
      "Epoch 46/80\n",
      "7338/7338 [==============================] - 1s - loss: 0.1310 - val_loss: 0.1613\n",
      "Epoch 47/80\n",
      "7338/7338 [==============================] - 1s - loss: 0.1305 - val_loss: 0.1587\n",
      "Epoch 48/80\n",
      "7338/7338 [==============================] - 1s - loss: 0.1293 - val_loss: 0.1603\n",
      "Epoch 49/80\n",
      "7338/7338 [==============================] - 1s - loss: 0.1282 - val_loss: 0.1578\n",
      "Epoch 50/80\n",
      "7338/7338 [==============================] - 1s - loss: 0.1267 - val_loss: 0.1594\n",
      "Epoch 51/80\n",
      "7338/7338 [==============================] - 1s - loss: 0.1262 - val_loss: 0.1623\n",
      "Epoch 52/80\n",
      "7338/7338 [==============================] - 1s - loss: 0.1242 - val_loss: 0.1640\n",
      "Epoch 53/80\n",
      "7338/7338 [==============================] - 1s - loss: 0.1230 - val_loss: 0.1600\n",
      "Epoch 54/80\n",
      "7338/7338 [==============================] - 1s - loss: 0.1219 - val_loss: 0.1596\n",
      "Epoch 55/80\n",
      "7338/7338 [==============================] - 1s - loss: 0.1200 - val_loss: 0.1592\n",
      "Epoch 56/80\n",
      "7338/7338 [==============================] - 1s - loss: 0.1189 - val_loss: 0.1597\n",
      "Epoch 57/80\n",
      "7338/7338 [==============================] - 1s - loss: 0.1181 - val_loss: 0.1597\n",
      "Epoch 58/80\n",
      "7338/7338 [==============================] - 1s - loss: 0.1151 - val_loss: 0.1725\n",
      "Epoch 59/80\n",
      "7338/7338 [==============================] - 1s - loss: 0.1149 - val_loss: 0.1607\n",
      "Epoch 60/80\n",
      "7338/7338 [==============================] - 1s - loss: 0.1127 - val_loss: 0.1623\n",
      "Epoch 61/80\n",
      "7338/7338 [==============================] - 1s - loss: 0.1106 - val_loss: 0.1601\n",
      "Epoch 62/80\n",
      "7338/7338 [==============================] - 1s - loss: 0.1098 - val_loss: 0.1590\n",
      "Epoch 63/80\n",
      "7338/7338 [==============================] - 1s - loss: 0.1083 - val_loss: 0.1602\n",
      "Epoch 64/80\n",
      "7338/7338 [==============================] - 1s - loss: 0.1059 - val_loss: 0.1617\n",
      "Epoch 65/80\n",
      "7338/7338 [==============================] - 1s - loss: 0.1048 - val_loss: 0.1613\n",
      "Epoch 66/80\n",
      "7338/7338 [==============================] - 1s - loss: 0.1031 - val_loss: 0.1631\n",
      "Epoch 67/80\n",
      "7338/7338 [==============================] - 1s - loss: 0.1014 - val_loss: 0.1647\n",
      "Epoch 68/80\n",
      "7338/7338 [==============================] - 1s - loss: 0.0995 - val_loss: 0.1691\n",
      "Epoch 69/80\n",
      "7338/7338 [==============================] - 1s - loss: 0.0969 - val_loss: 0.1640\n",
      "Epoch 70/80\n",
      "7338/7338 [==============================] - 1s - loss: 0.0962 - val_loss: 0.1663\n",
      "Epoch 71/80\n",
      "7338/7338 [==============================] - 1s - loss: 0.0942 - val_loss: 0.1667\n",
      "Epoch 72/80\n",
      "7338/7338 [==============================] - 1s - loss: 0.0927 - val_loss: 0.1698\n",
      "Epoch 73/80\n",
      "7338/7338 [==============================] - 1s - loss: 0.0911 - val_loss: 0.1679\n",
      "Epoch 74/80\n",
      "7338/7338 [==============================] - 1s - loss: 0.0892 - val_loss: 0.1689\n",
      "Epoch 75/80\n",
      "7338/7338 [==============================] - 1s - loss: 0.0871 - val_loss: 0.1701\n",
      "Epoch 76/80\n",
      "7338/7338 [==============================] - 1s - loss: 0.0854 - val_loss: 0.1692\n",
      "Epoch 77/80\n",
      "7338/7338 [==============================] - 1s - loss: 0.0839 - val_loss: 0.1705\n",
      "Epoch 78/80\n",
      "7338/7338 [==============================] - 1s - loss: 0.0825 - val_loss: 0.1697\n",
      "Epoch 79/80\n",
      "7338/7338 [==============================] - 1s - loss: 0.0801 - val_loss: 0.1764\n",
      "Epoch 80/80\n",
      "7338/7338 [==============================] - 1s - loss: 0.0784 - val_loss: 0.1744\n"
     ]
    }
   ],
   "source": [
    "hist = nn.fit(ss.fit_transform(Xtr), ytr, nb_epoch=80 ,validation_data=(ss.transform(Xval), yval))"
   ]
  },
  {
   "cell_type": "code",
   "execution_count": 70,
   "metadata": {
    "collapsed": false
   },
   "outputs": [
    {
     "data": {
      "text/plain": [
       "<matplotlib.legend.Legend at 0x7f2eb1ea15f8>"
      ]
     },
     "execution_count": 70,
     "metadata": {},
     "output_type": "execute_result"
    },
    {
     "data": {
      "image/png": "[encoded data removed]",
      "text/plain": [
       "<matplotlib.figure.Figure at 0x7f2eabbcf048>"
      ]
     },
     "metadata": {},
     "output_type": "display_data"
    }
   ],
   "source": [
    "start = 0\n",
    "plt.plot(hist.history['loss'][start:])\n",
    "plt.plot(hist.history['val_loss'][start:])\n",
    "plt.legend(['Train loss', 'Validation loss'])"
   ]
  },
  {
   "cell_type": "code",
   "execution_count": 71,
   "metadata": {
    "collapsed": false
   },
   "outputs": [
    {
     "data": {
      "text/plain": [
       "0.15777405843506626"
      ]
     },
     "execution_count": 71,
     "metadata": {},
     "output_type": "execute_result"
    }
   ],
   "source": [
    "min(hist.history['val_loss'])"
   ]
  },
  {
   "cell_type": "code",
   "execution_count": 72,
   "metadata": {
    "collapsed": false
   },
   "outputs": [
    {
     "data": {
      "text/plain": [
       "48"
      ]
     },
     "execution_count": 72,
     "metadata": {},
     "output_type": "execute_result"
    }
   ],
   "source": [
    "np.array(hist.history['val_loss']).argmin()"
   ]
  },
  {
   "cell_type": "markdown",
   "metadata": {},
   "source": [
    "# SVM (Support Vector Machines) "
   ]
  },
  {
   "cell_type": "code",
   "execution_count": 73,
   "metadata": {
    "collapsed": false
   },
   "outputs": [
    {
     "name": "stdout",
     "output_type": "stream",
     "text": [
      "             precision    recall  f1-score   support\n",
      "\n",
      "          0       0.88      0.97      0.92       667\n",
      "          1       0.97      0.86      0.91       629\n",
      "\n",
      "avg / total       0.92      0.92      0.92      1296\n",
      "\n",
      "[[649  18]\n",
      " [ 91 538]]\n"
     ]
    }
   ],
   "source": [
    "from sklearn import metrics\n",
    "from sklearn.svm import SVC\n",
    "# fit a SVM model to the data\n",
    "\n",
    "model_SVM = SVC(probability=True)\n",
    "model_SVM.fit(Xtr_new, ytr)\n",
    "#print(model_SVM)\n",
    "# make predictions\n",
    "expected = yval\n",
    "predicted = model_SVM.predict(Xval_new)\n",
    "# summarize the fit of the model\n",
    "print(metrics.classification_report(expected, predicted))\n",
    "print(metrics.confusion_matrix(expected, predicted))"
   ]
  },
  {
   "cell_type": "code",
   "execution_count": 74,
   "metadata": {
    "collapsed": false
   },
   "outputs": [
    {
     "data": {
      "text/plain": [
       "array([[ 0.03926838,  0.96073162],\n",
       "       [ 0.8936348 ,  0.1063652 ],\n",
       "       [ 0.89464411,  0.10535589],\n",
       "       ..., \n",
       "       [ 0.03723459,  0.96276541],\n",
       "       [ 0.8953612 ,  0.1046388 ],\n",
       "       [ 0.03730476,  0.96269524]])"
      ]
     },
     "execution_count": 74,
     "metadata": {},
     "output_type": "execute_result"
    }
   ],
   "source": [
    "model_SVM.predict_proba(Xval_new)"
   ]
  },
  {
   "cell_type": "markdown",
   "metadata": {},
   "source": [
    "# kNN"
   ]
  },
  {
   "cell_type": "code",
   "execution_count": 75,
   "metadata": {
    "collapsed": false
   },
   "outputs": [
    {
     "name": "stdout",
     "output_type": "stream",
     "text": [
      "KNeighborsClassifier(algorithm='auto', leaf_size=30, metric='minkowski',\n",
      "           metric_params=None, n_jobs=1, n_neighbors=5, p=2,\n",
      "           weights='uniform')\n",
      "             precision    recall  f1-score   support\n",
      "\n",
      "          0       0.87      0.95      0.91       667\n",
      "          1       0.94      0.85      0.89       629\n",
      "\n",
      "avg / total       0.91      0.90      0.90      1296\n",
      "\n",
      "[[633  34]\n",
      " [ 93 536]]\n"
     ]
    }
   ],
   "source": [
    "from sklearn.neighbors import KNeighborsClassifier\n",
    "# fit a k-nearest neighbor model to the data\n",
    "model_kNN = KNeighborsClassifier()\n",
    "model_kNN.fit(Xtr_new, ytr)\n",
    "print(model_kNN)\n",
    "# make predictions\n",
    "expected = yval\n",
    "predicted = model_kNN.predict(Xval_new)\n",
    "# summarize the fit of the model\n",
    "print(metrics.classification_report(expected, predicted))\n",
    "print(metrics.confusion_matrix(expected, predicted))"
   ]
  },
  {
   "cell_type": "markdown",
   "metadata": {},
   "source": [
    "# Naive Bayes"
   ]
  },
  {
   "cell_type": "code",
   "execution_count": 76,
   "metadata": {
    "collapsed": false
   },
   "outputs": [
    {
     "name": "stdout",
     "output_type": "stream",
     "text": [
      "GaussianNB()\n",
      "             precision    recall  f1-score   support\n",
      "\n",
      "          0       0.92      0.92      0.92       667\n",
      "          1       0.92      0.91      0.91       629\n",
      "\n",
      "avg / total       0.92      0.92      0.92      1296\n",
      "\n",
      "[[615  52]\n",
      " [ 57 572]]\n"
     ]
    }
   ],
   "source": [
    "from sklearn.naive_bayes import GaussianNB\n",
    "model_B = GaussianNB()\n",
    "model_B.fit(Xtr_new, ytr)\n",
    "print(model_B)\n",
    "# make predictions\n",
    "expected = yval\n",
    "predicted = model_B.predict(Xval_new)\n",
    "# summarize the fit of the model\n",
    "print(metrics.classification_report(expected, predicted))\n",
    "print(metrics.confusion_matrix(expected, predicted))"
   ]
  },
  {
   "cell_type": "markdown",
   "metadata": {},
   "source": [
    "# Logregression"
   ]
  },
  {
   "cell_type": "code",
   "execution_count": 77,
   "metadata": {
    "collapsed": false
   },
   "outputs": [
    {
     "name": "stdout",
     "output_type": "stream",
     "text": [
      "Train logloss 0.217003252716\n",
      "Train roc_auc 0.92344169757\n",
      "Validation logloss 0.22452928465\n",
      "Validation roc_auc 0.920619578923\n"
     ]
    }
   ],
   "source": [
    "from sklearn.linear_model import LogisticRegression\n",
    "lr = LogisticRegression()\n",
    "lr.fit(Xtr_new, ytr)\n",
    "print('Train logloss', log_loss(ytr, lr.predict_proba(Xtr_new)))\n",
    "print('Train roc_auc', roc_auc_score(ytr, lr.predict(Xtr_new)))\n",
    "print('Validation logloss', log_loss(yval, lr.predict_proba(Xval_new)))\n",
    "print('Validation roc_auc', roc_auc_score(yval, lr.predict(Xval_new)))"
   ]
  },
  {
   "cell_type": "code",
   "execution_count": 78,
   "metadata": {
    "collapsed": false
   },
   "outputs": [
    {
     "data": {
      "text/plain": [
       "array([  1.00000000e-01,   3.72759372e-01,   1.38949549e+00,\n",
       "         5.17947468e+00,   1.93069773e+01,   7.19685673e+01,\n",
       "         2.68269580e+02,   1.00000000e+03,   3.72759372e+03,\n",
       "         1.38949549e+04,   5.17947468e+04,   1.93069773e+05,\n",
       "         7.19685673e+05,   2.68269580e+06,   1.00000000e+07])"
      ]
     },
     "execution_count": 78,
     "metadata": {},
     "output_type": "execute_result"
    }
   ],
   "source": [
    "from sklearn.grid_search import GridSearchCV\n",
    "Cs = 10**np.linspace(-1, 7, num=15)\n",
    "Cs"
   ]
  },
  {
   "cell_type": "code",
   "execution_count": 79,
   "metadata": {
    "collapsed": false
   },
   "outputs": [
    {
     "name": "stdout",
     "output_type": "stream",
     "text": [
      "CPU times: user 3min 8s, sys: 1.2 s, total: 3min 9s\n",
      "Wall time: 2min 42s\n"
     ]
    },
    {
     "data": {
      "text/plain": [
       "GridSearchCV(cv=6, error_score='raise',\n",
       "       estimator=LogisticRegression(C=1.0, class_weight=None, dual=False, fit_intercept=True,\n",
       "          intercept_scaling=1, max_iter=100, multi_class='ovr', n_jobs=1,\n",
       "          penalty='l2', random_state=None, solver='liblinear', tol=0.0001,\n",
       "          verbose=0, warm_start=False),\n",
       "       fit_params={}, iid=True, n_jobs=1,\n",
       "       param_grid={'C': array([  1.00000e-01,   3.72759e-01,   1.38950e+00,   5.17947e+00,\n",
       "         1.93070e+01,   7.19686e+01,   2.68270e+02,   1.00000e+03,\n",
       "         3.72759e+03,   1.38950e+04,   5.17947e+04,   1.93070e+05,\n",
       "         7.19686e+05,   2.68270e+06,   1.00000e+07])},\n",
       "       pre_dispatch='2*n_jobs', refit=True, scoring='log_loss', verbose=0)"
      ]
     },
     "execution_count": 79,
     "metadata": {},
     "output_type": "execute_result"
    }
   ],
   "source": [
    "grid = {'C': Cs}\n",
    "gridsearch = GridSearchCV(LogisticRegression(), grid, scoring='log_loss', cv=6)\n",
    "%time gridsearch.fit(X_new, y)"
   ]
  },
  {
   "cell_type": "code",
   "execution_count": 80,
   "metadata": {
    "collapsed": false
   },
   "outputs": [
    {
     "data": {
      "image/png": "[encoded data removed]",
      "text/plain": [
       "<matplotlib.figure.Figure at 0x7f2ede897128>"
      ]
     },
     "metadata": {},
     "output_type": "display_data"
    }
   ],
   "source": [
    "scores = [-x.mean_validation_score for x in  gridsearch.grid_scores_]\n",
    "plt.plot(Cs, scores)\n",
    "plt.scatter(Cs, scores)\n",
    "plt.scatter(Cs[np.argmin(scores)], scores[np.argmin(scores)], c='g', s=100)\n",
    "plt.xscale('log')"
   ]
  },
  {
   "cell_type": "code",
   "execution_count": 81,
   "metadata": {
    "collapsed": false
   },
   "outputs": [
    {
     "data": {
      "text/plain": [
       "13894.95494373136"
      ]
     },
     "execution_count": 81,
     "metadata": {},
     "output_type": "execute_result"
    }
   ],
   "source": [
    "C = Cs[np.argmin(scores)]\n",
    "C"
   ]
  },
  {
   "cell_type": "code",
   "execution_count": 82,
   "metadata": {
    "collapsed": false
   },
   "outputs": [
    {
     "name": "stdout",
     "output_type": "stream",
     "text": [
      "Train logloss 0.187845978492\n",
      "Train roc_auc 0.936800398032\n",
      "Validation logloss 0.202908070614\n",
      "Validation roc_auc 0.940582967658\n"
     ]
    }
   ],
   "source": [
    "lr = LogisticRegression(C=C)\n",
    "lr.fit(Xtr_new, ytr)\n",
    "print('Train logloss', log_loss(ytr, lr.predict_proba(Xtr_new)))\n",
    "print('Train roc_auc', roc_auc_score(ytr, lr.predict(Xtr_new)))\n",
    "print('Validation logloss', log_loss(yval, lr.predict_proba(Xval_new)))\n",
    "print('Validation roc_auc', roc_auc_score(yval, lr.predict(Xval_new)))"
   ]
  },
  {
   "cell_type": "markdown",
   "metadata": {},
   "source": [
    "# Some more random forests but on partial data"
   ]
  },
  {
   "cell_type": "code",
   "execution_count": 83,
   "metadata": {
    "collapsed": false
   },
   "outputs": [],
   "source": [
    "import random"
   ]
  },
  {
   "cell_type": "code",
   "execution_count": 84,
   "metadata": {
    "collapsed": false
   },
   "outputs": [],
   "source": [
    "colums_dict = {}\n",
    "bad_models = {}\n",
    "n_trees = 100"
   ]
  },
  {
   "cell_type": "code",
   "execution_count": 85,
   "metadata": {
    "collapsed": false
   },
   "outputs": [],
   "source": [
    "for i in range(n_trees):\n",
    "    colums_dict[i] = random.sample(set(Xtr_new.columns), 5)"
   ]
  },
  {
   "cell_type": "code",
   "execution_count": 86,
   "metadata": {
    "collapsed": true
   },
   "outputs": [],
   "source": [
    "bad_calib = CalibratedClassifierCV(RandomForestClassifier(n_jobs=-1, n_estimators=60), cv=10, method='isotonic')"
   ]
  },
  {
   "cell_type": "code",
   "execution_count": 87,
   "metadata": {
    "collapsed": false,
    "scrolled": true
   },
   "outputs": [
    {
     "name": "stdout",
     "output_type": "stream",
     "text": [
      "Current model: 0 Score is: 0.629582664947\n",
      "Current model: 1 Score is: 0.884551762275\n",
      "Current model: 2 Score is: 0.67149612793\n",
      "Current model: 3 Score is: 0.687661336264\n",
      "Current model: 4 Score is: 0.49336897529\n",
      "Current model: 5 Score is: 0.586777755796\n",
      "Current model: 6 Score is: 0.65070326522\n",
      "Current model: 7 Score is: 0.625014599219\n",
      "Current model: 8 Score is: 0.625578307825\n",
      "Current model: 9 Score is: 0.807777748646\n",
      "Current model: 10 Score is: 0.574622863449\n",
      "Current model: 11 Score is: 0.914169703701\n",
      "Current model: 12 Score is: 0.497413852692\n",
      "Current model: 13 Score is: 0.803139368313\n",
      "Current model: 14 Score is: 0.693431900902\n",
      "Current model: 15 Score is: 0.499325456509\n",
      "Current model: 16 Score is: 0.696364854139\n",
      "Current model: 17 Score is: 0.909012902134\n",
      "Current model: 18 Score is: 0.77399932784\n",
      "Current model: 19 Score is: 0.526844685765\n",
      "Current model: 20 Score is: 0.54201357191\n",
      "Current model: 21 Score is: 0.545462562836\n",
      "Current model: 22 Score is: 0.756939098019\n",
      "Current model: 23 Score is: 0.751349682869\n",
      "Current model: 24 Score is: 0.535425451026\n",
      "Current model: 25 Score is: 0.637210011846\n",
      "Current model: 26 Score is: 0.592749730063\n",
      "Current model: 27 Score is: 0.666737378529\n",
      "Current model: 28 Score is: 0.490189325051\n",
      "Current model: 29 Score is: 0.567156405899\n",
      "Current model: 30 Score is: 0.769793561089\n",
      "Current model: 31 Score is: 0.613720166944\n",
      "Current model: 32 Score is: 0.906447014966\n",
      "Current model: 33 Score is: 0.569445801741\n",
      "Current model: 34 Score is: 0.576871739011\n",
      "Current model: 35 Score is: 0.67453514896\n",
      "Current model: 36 Score is: 0.640908083319\n",
      "Current model: 37 Score is: 0.500025027232\n",
      "Current model: 38 Score is: 0.663220456544\n",
      "Current model: 39 Score is: 0.90070147756\n",
      "Current model: 40 Score is: 0.503451374472\n",
      "Current model: 41 Score is: 0.697159766699\n",
      "Current model: 42 Score is: 0.520314961756\n",
      "Current model: 43 Score is: 0.580166991226\n",
      "Current model: 44 Score is: 0.648660566378\n",
      "Current model: 45 Score is: 0.81188817356\n",
      "Current model: 46 Score is: 0.543938285229\n",
      "Current model: 47 Score is: 0.718420996179\n",
      "Current model: 48 Score is: 0.748149772491\n",
      "Current model: 49 Score is: 0.563367759681\n",
      "Current model: 50 Score is: 0.627021544871\n",
      "Current model: 51 Score is: 0.538781483662\n",
      "Current model: 52 Score is: 0.548807869515\n",
      "Current model: 53 Score is: 0.560083233423\n",
      "Current model: 54 Score is: 0.641843625087\n",
      "Current model: 55 Score is: 0.662647213754\n",
      "Current model: 56 Score is: 0.570059564812\n",
      "Current model: 57 Score is: 0.526133197312\n",
      "Current model: 58 Score is: 0.708469692022\n",
      "Current model: 59 Score is: 0.660604514913\n",
      "Current model: 60 Score is: 0.908217989574\n",
      "Current model: 61 Score is: 0.564899187926\n",
      "Current model: 62 Score is: 0.79944129684\n",
      "Current model: 63 Score is: 0.701808872988\n",
      "Current model: 64 Score is: 0.59545624644\n",
      "Current model: 65 Score is: 0.699399108077\n",
      "Current model: 66 Score is: 0.550498995335\n",
      "Current model: 67 Score is: 0.588689359613\n",
      "Current model: 68 Score is: 0.879510562684\n",
      "Current model: 69 Score is: 0.912625165954\n",
      "Current model: 70 Score is: 0.498752213718\n",
      "Current model: 71 Score is: 0.705108892295\n",
      "Current model: 72 Score is: 0.678484684526\n",
      "Current model: 73 Score is: 0.867451012173\n",
      "Current model: 74 Score is: 0.901586964864\n",
      "Current model: 75 Score is: 0.623690539468\n",
      "Current model: 76 Score is: 0.604974937015\n",
      "Current model: 77 Score is: 0.536462293496\n",
      "Current model: 78 Score is: 0.568016865971\n",
      "Current model: 79 Score is: 0.617276417435\n",
      "Current model: 80 Score is: 0.513962811917\n",
      "Current model: 81 Score is: 0.642754139623\n",
      "Current model: 82 Score is: 0.570734108304\n",
      "Current model: 83 Score is: 0.667743234901\n",
      "Current model: 84 Score is: 0.648826222819\n",
      "Current model: 85 Score is: 0.581917705694\n",
      "Current model: 86 Score is: 0.71864743304\n",
      "Current model: 87 Score is: 0.584363223794\n",
      "Current model: 88 Score is: 0.750287813168\n",
      "Current model: 89 Score is: 0.547138195608\n",
      "Current model: 90 Score is: 0.671581935582\n",
      "Current model: 91 Score is: 0.812386334655\n",
      "Current model: 92 Score is: 0.547480234446\n",
      "Current model: 93 Score is: 0.907423077015\n",
      "Current model: 94 Score is: 0.645415368627\n",
      "Current model: 95 Score is: 0.535420683935\n",
      "Current model: 96 Score is: 0.697728242397\n",
      "Current model: 97 Score is: 0.524151278892\n",
      "Current model: 98 Score is: 0.600191160382\n",
      "Current model: 99 Score is: 0.555891767948\n"
     ]
    }
   ],
   "source": [
    "for i in range(n_trees):\n",
    "    bad_models[i] = bad_calib.fit(Xtr_new[colums_dict[i]], ytr)\n",
    "    print(\"Current model:\", i, \"Score is:\", roc_auc_score(yval, bad_calib.predict(Xval_new[colums_dict[i]])))"
   ]
  },
  {
   "cell_type": "markdown",
   "metadata": {
    "collapsed": true
   },
   "source": [
    "# Meta classifier"
   ]
  },
  {
   "cell_type": "markdown",
   "metadata": {},
   "source": [
    "### XGB"
   ]
  },
  {
   "cell_type": "code",
   "execution_count": 243,
   "metadata": {
    "collapsed": false
   },
   "outputs": [
    {
     "data": {
      "text/plain": [
       "array([ 0.4693374 ,  0.04026079,  0.02761482,  0.38594019], dtype=float32)"
      ]
     },
     "execution_count": 243,
     "metadata": {},
     "output_type": "execute_result"
    }
   ],
   "source": [
    "trees = cv['test-auc-mean'].argmax()\n",
    "dXtr = xgb.DMatrix(Xtr_xgb, label=ytr)\n",
    "dXval = xgb.DMatrix(Xval_xgb, label=yval)\n",
    "xgb_Xtr_only = xgb.train(params, dXtr, num_boost_round=trees)\n",
    "clf1_p = xgb_Xtr_only.predict(dXval)\n",
    "clf1_p[1:5]"
   ]
  },
  {
   "cell_type": "code",
   "execution_count": 244,
   "metadata": {
    "collapsed": false
   },
   "outputs": [
    {
     "data": {
      "text/plain": [
       "0.98258104651966538"
      ]
     },
     "execution_count": 244,
     "metadata": {},
     "output_type": "execute_result"
    }
   ],
   "source": [
    "roc_auc_score(yval, clf1_p)"
   ]
  },
  {
   "cell_type": "markdown",
   "metadata": {},
   "source": [
    "---\n",
    "All prediction from other models give a two-column arrays, first column - probabilities of being \"0\", second - \"1\". Time to make one column one and for all!"
   ]
  },
  {
   "cell_type": "code",
   "execution_count": 90,
   "metadata": {
    "collapsed": true
   },
   "outputs": [],
   "source": [
    "def two_to_one(vector):\n",
    "    val = []\n",
    "    for i in range(len(vector)):\n",
    "        val.append(vector[i][1])\n",
    "    return val"
   ]
  },
  {
   "cell_type": "markdown",
   "metadata": {},
   "source": [
    "### Calib Forest"
   ]
  },
  {
   "cell_type": "code",
   "execution_count": 91,
   "metadata": {
    "collapsed": false
   },
   "outputs": [],
   "source": [
    "clf2_p = calib.predict_proba(Xval_new)\n",
    "clf2_p = two_to_one(clf2_p)"
   ]
  },
  {
   "cell_type": "markdown",
   "metadata": {},
   "source": [
    "### NN"
   ]
  },
  {
   "cell_type": "code",
   "execution_count": 288,
   "metadata": {
    "collapsed": false
   },
   "outputs": [
    {
     "name": "stdout",
     "output_type": "stream",
     "text": [
      "1296/1296 [==============================] - 0s     \n"
     ]
    }
   ],
   "source": [
    "clf3_p = nn.predict_proba(ss.transform(Xval))\n",
    "clf3_p = two_to_one(clf3_p)"
   ]
  },
  {
   "cell_type": "markdown",
   "metadata": {},
   "source": [
    "### SVM"
   ]
  },
  {
   "cell_type": "code",
   "execution_count": 93,
   "metadata": {
    "collapsed": false
   },
   "outputs": [],
   "source": [
    "clf4_p = model_SVM.predict_proba(Xval_new)\n",
    "clf4_p = two_to_one(clf4_p)"
   ]
  },
  {
   "cell_type": "markdown",
   "metadata": {
    "collapsed": true
   },
   "source": [
    "### k-NN"
   ]
  },
  {
   "cell_type": "code",
   "execution_count": 94,
   "metadata": {
    "collapsed": true
   },
   "outputs": [],
   "source": [
    "clf5_p = model_kNN.predict_proba(Xval_new)\n",
    "clf5_p = two_to_one(clf5_p)"
   ]
  },
  {
   "cell_type": "markdown",
   "metadata": {
    "collapsed": true
   },
   "source": [
    "### Naive bayes"
   ]
  },
  {
   "cell_type": "code",
   "execution_count": 95,
   "metadata": {
    "collapsed": true
   },
   "outputs": [],
   "source": [
    "clf6_p = model_B.predict_proba(Xval_new)\n",
    "clf6_p = two_to_one(clf6_p)"
   ]
  },
  {
   "cell_type": "markdown",
   "metadata": {},
   "source": [
    "### Logreg"
   ]
  },
  {
   "cell_type": "code",
   "execution_count": 96,
   "metadata": {
    "collapsed": false
   },
   "outputs": [],
   "source": [
    "clf7_p = lr.predict_proba(Xval_new)\n",
    "clf7_p = two_to_one(clf7_p)"
   ]
  },
  {
   "cell_type": "markdown",
   "metadata": {},
   "source": [
    "### Limited forests"
   ]
  },
  {
   "cell_type": "code",
   "execution_count": 97,
   "metadata": {
    "collapsed": false
   },
   "outputs": [],
   "source": [
    "clf_dict = {}\n",
    "for i in range(n_trees):\n",
    "    clf_dict[i] = two_to_one(bad_models[i].predict_proba(Xval_new[colums_dict[i]]))"
   ]
  },
  {
   "cell_type": "markdown",
   "metadata": {},
   "source": [
    "# Hard voting classifier of limited forests"
   ]
  },
  {
   "cell_type": "code",
   "execution_count": 98,
   "metadata": {
    "collapsed": false
   },
   "outputs": [],
   "source": [
    "bad_forest = pd.DataFrame(clf_dict)"
   ]
  },
  {
   "cell_type": "code",
   "execution_count": 99,
   "metadata": {
    "collapsed": false
   },
   "outputs": [],
   "source": [
    "def majority(row):\n",
    "    yes = 0\n",
    "    no = 0\n",
    "    for i in row:\n",
    "        if i>0.3901:\n",
    "            yes+=1\n",
    "        else:\n",
    "            no+=1\n",
    "    if yes>no:\n",
    "        return 0.9999999999999999\n",
    "    else:\n",
    "        return 0.0000000000000001"
   ]
  },
  {
   "cell_type": "code",
   "execution_count": 100,
   "metadata": {
    "collapsed": false
   },
   "outputs": [
    {
     "name": "stdout",
     "output_type": "stream",
     "text": [
      "0.67675899729\n"
     ]
    }
   ],
   "source": [
    "bad_predictions = np.array(bad_forest.apply(lambda row: majority(row), axis=1))\n",
    "print(roc_auc_score(yval, bad_predictions))"
   ]
  },
  {
   "cell_type": "code",
   "execution_count": 289,
   "metadata": {
    "collapsed": true
   },
   "outputs": [],
   "source": [
    "classifiers = [clf1_p, \n",
    "               clf2_p, \n",
    "               clf3_p, \n",
    "               clf4_p, \n",
    "               clf5_p, \n",
    "               clf6_p, \n",
    "               clf7_p,\n",
    "               bad_predictions]"
   ]
  },
  {
   "cell_type": "markdown",
   "metadata": {},
   "source": [
    "### Now creating the predictions matrix and use it as a predictors matrix for final ensebmle classifier"
   ]
  },
  {
   "cell_type": "code",
   "execution_count": 290,
   "metadata": {
    "collapsed": false
   },
   "outputs": [],
   "source": [
    "predictions = pd.DataFrame(classifiers[0:5]).T"
   ]
  },
  {
   "cell_type": "code",
   "execution_count": 291,
   "metadata": {
    "collapsed": false
   },
   "outputs": [
    {
     "data": {
      "text/plain": [
       "0.98433823031346257"
      ]
     },
     "execution_count": 291,
     "metadata": {},
     "output_type": "execute_result"
    }
   ],
   "source": [
    "from sklearn import cross_validation\n",
    "scores = cross_validation.cross_val_score(LogisticRegression(), predictions, yval, scoring='roc_auc', cv=18)\n",
    "scores.mean()"
   ]
  },
  {
   "cell_type": "code",
   "execution_count": 292,
   "metadata": {
    "collapsed": false,
    "scrolled": true
   },
   "outputs": [
    {
     "name": "stdout",
     "output_type": "stream",
     "text": [
      "0.147586551319\n",
      "0.180373289294\n",
      "0.174429145055\n",
      "0.272634023439\n",
      "1.26724742882\n",
      "1.52323781873\n",
      "0.202908070614\n",
      "11.1666055726\n"
     ]
    }
   ],
   "source": [
    "for classif in classifiers:\n",
    "    print(log_loss(yval, classif))"
   ]
  },
  {
   "cell_type": "code",
   "execution_count": 293,
   "metadata": {
    "collapsed": false,
    "scrolled": true
   },
   "outputs": [
    {
     "name": "stdout",
     "output_type": "stream",
     "text": [
      "0.98258104652\n",
      "0.981450053987\n",
      "0.98011526828\n",
      "0.967881718918\n",
      "0.940089573655\n",
      "0.93473612955\n",
      "0.967969910116\n",
      "0.67675899729\n"
     ]
    }
   ],
   "source": [
    "for classif in classifiers:\n",
    "    print(roc_auc_score(yval, classif))"
   ]
  },
  {
   "cell_type": "code",
   "execution_count": 294,
   "metadata": {
    "collapsed": false
   },
   "outputs": [
    {
     "name": "stdout",
     "output_type": "stream",
     "text": [
      "[[ True  True  True  True False  True  True False]\n",
      " [ True  True  True  True  True  True  True False]\n",
      " [ True  True  True False False False  True False]\n",
      " [ True  True False  True  True False  True False]\n",
      " [False  True False  True  True False  True False]\n",
      " [ True  True False False False  True  True False]\n",
      " [ True  True  True  True  True  True  True False]\n",
      " [False False False False False False False  True]]\n"
     ]
    }
   ],
   "source": [
    "print(np.corrcoef(classifiers)>0.9)"
   ]
  },
  {
   "cell_type": "code",
   "execution_count": 295,
   "metadata": {
    "collapsed": true
   },
   "outputs": [],
   "source": [
    "Ps = np.array(classifiers).T\n",
    "def ensemble_logloss(w):\n",
    "    return log_loss(yval, (Ps*w).sum(1).T/np.sum(w))"
   ]
  },
  {
   "cell_type": "code",
   "execution_count": 296,
   "metadata": {
    "collapsed": false
   },
   "outputs": [
    {
     "data": {
      "text/plain": [
       "0.18375186643376454"
      ]
     },
     "execution_count": 296,
     "metadata": {},
     "output_type": "execute_result"
    }
   ],
   "source": [
    "ensemble_logloss(np.ones(len(classifiers)))"
   ]
  },
  {
   "cell_type": "code",
   "execution_count": 297,
   "metadata": {
    "collapsed": true
   },
   "outputs": [],
   "source": [
    "def ensemble_roc_auc(w):\n",
    "    return roc_auc_score(yval, (Ps*w).sum(1).T/np.sum(w))"
   ]
  },
  {
   "cell_type": "code",
   "execution_count": 298,
   "metadata": {
    "collapsed": false
   },
   "outputs": [
    {
     "data": {
      "text/plain": [
       "0.98171581935582275"
      ]
     },
     "execution_count": 298,
     "metadata": {},
     "output_type": "execute_result"
    }
   ],
   "source": [
    "ensemble_roc_auc(np.ones(len(classifiers)))"
   ]
  },
  {
   "cell_type": "code",
   "execution_count": 299,
   "metadata": {
    "collapsed": false
   },
   "outputs": [],
   "source": [
    "from scipy.optimize import minimize"
   ]
  },
  {
   "cell_type": "code",
   "execution_count": 300,
   "metadata": {
    "collapsed": false
   },
   "outputs": [
    {
     "name": "stdout",
     "output_type": "stream",
     "text": [
      "Function result: 0.14140056256323644\n",
      "Array: [ 6.61014099  1.47305272  0.97652865 -0.05139939  0.26658986  0.49623907\n",
      " -1.98586617  0.17256587]\n"
     ]
    }
   ],
   "source": [
    "opt = minimize(ensemble_logloss, x0=np.ones(len(classifiers)))\n",
    "print(\"Function result:\", opt.fun)\n",
    "print(\"Array:\", opt.x)"
   ]
  },
  {
   "cell_type": "code",
   "execution_count": 301,
   "metadata": {
    "collapsed": false
   },
   "outputs": [
    {
     "data": {
      "text/plain": [
       "array([ 0.83064391,  0.18510683,  0.1227126 , -0.00645895,  0.03350023,\n",
       "        0.06235842, -0.24954803,  0.02168498])"
      ]
     },
     "execution_count": 301,
     "metadata": {},
     "output_type": "execute_result"
    }
   ],
   "source": [
    "w = opt.x/opt.x.sum()\n",
    "w"
   ]
  },
  {
   "cell_type": "code",
   "execution_count": 302,
   "metadata": {
    "collapsed": true
   },
   "outputs": [],
   "source": [
    "ensebmle_prob_validation = np.zeros(len(clf1_p))\n",
    "for i in range(len(classifiers)):\n",
    "    ensebmle_prob_validation += np.array(classifiers[i]) * w[i]"
   ]
  },
  {
   "cell_type": "code",
   "execution_count": 303,
   "metadata": {
    "collapsed": false
   },
   "outputs": [],
   "source": [
    "ensebmle_prob_validation[ensebmle_prob_validation<0] = 0"
   ]
  },
  {
   "cell_type": "code",
   "execution_count": 304,
   "metadata": {
    "collapsed": true
   },
   "outputs": [],
   "source": [
    "ensebmle_prob_validation[ensebmle_prob_validation>1] = 1"
   ]
  },
  {
   "cell_type": "code",
   "execution_count": 305,
   "metadata": {
    "collapsed": false
   },
   "outputs": [
    {
     "data": {
      "text/plain": [
       "(0.14140057333071582, 0.98633989841327352)"
      ]
     },
     "execution_count": 305,
     "metadata": {},
     "output_type": "execute_result"
    }
   ],
   "source": [
    "log_loss(yval, ensebmle_prob_validation), roc_auc_score(yval, ensebmle_prob_validation)"
   ]
  },
  {
   "cell_type": "markdown",
   "metadata": {},
   "source": [
    "If optimal values are below zero - delete the classifier from ensemble"
   ]
  },
  {
   "cell_type": "code",
   "execution_count": 306,
   "metadata": {
    "collapsed": false
   },
   "outputs": [],
   "source": [
    "def optimal(values):\n",
    "    optimal_classifiers = []\n",
    "    for i in range(len(values)):\n",
    "        if values[i] > 0:\n",
    "            print(\"Classifier\", i+1, \"is good\")\n",
    "            optimal_classifiers.append(classifiers[i])\n",
    "    return optimal_classifiers"
   ]
  },
  {
   "cell_type": "code",
   "execution_count": 307,
   "metadata": {
    "collapsed": true
   },
   "outputs": [],
   "source": [
    "def full_negative_elimination(weights):\n",
    "    global classifiers, Ps\n",
    "    while sum(weights<0) > 0:\n",
    "        opt = minimize(ensemble_logloss, x0=np.ones(len(classifiers)))\n",
    "        print(\"Function result:\", opt.fun)\n",
    "        classifiers = optimal(opt.x)\n",
    "        Ps = np.array(classifiers).T\n",
    "        weights = opt.x/opt.x.sum()\n",
    "        print(\"Current weights:\", weights)\n",
    "        print('=======')\n",
    "    return weights"
   ]
  },
  {
   "cell_type": "code",
   "execution_count": 308,
   "metadata": {
    "collapsed": false,
    "scrolled": true
   },
   "outputs": [
    {
     "name": "stdout",
     "output_type": "stream",
     "text": [
      "Function result: 0.14140056256323644\n",
      "Classifier 1 is good\n",
      "Classifier 2 is good\n",
      "Classifier 3 is good\n",
      "Classifier 5 is good\n",
      "Classifier 6 is good\n",
      "Classifier 8 is good\n",
      "Current weights: [ 0.83064391  0.18510683  0.1227126  -0.00645895  0.03350023  0.06235842\n",
      " -0.24954803  0.02168498]\n",
      "=======\n",
      "Function result: 0.14406315287327792\n",
      "Classifier 1 is good\n",
      "Classifier 2 is good\n",
      "Classifier 3 is good\n",
      "Classifier 4 is good\n",
      "Classifier 5 is good\n",
      "Classifier 6 is good\n",
      "Current weights: [ 0.66159719  0.11316514  0.17892591  0.00460496  0.02733967  0.01436713]\n",
      "=======\n"
     ]
    }
   ],
   "source": [
    "w = full_negative_elimination(w)"
   ]
  },
  {
   "cell_type": "code",
   "execution_count": 309,
   "metadata": {
    "collapsed": false
   },
   "outputs": [],
   "source": [
    "ensebmle_prob_validation = np.zeros(len(clf1_p))\n",
    "for i in range(len(classifiers)):\n",
    "    ensebmle_prob_validation += np.array(classifiers[i]) * w[i]\n",
    "    \n",
    "ensebmle_prob_validation[ensebmle_prob_validation<0] = 0\n",
    "ensebmle_prob_validation[ensebmle_prob_validation>1] = 1"
   ]
  },
  {
   "cell_type": "code",
   "execution_count": 310,
   "metadata": {
    "collapsed": false
   },
   "outputs": [
    {
     "data": {
      "text/plain": [
       "(0.14406314243454185, 0.98485971640570802)"
      ]
     },
     "execution_count": 310,
     "metadata": {},
     "output_type": "execute_result"
    }
   ],
   "source": [
    "log_loss(yval, ensebmle_prob_validation), roc_auc_score(yval, ensebmle_prob_validation)"
   ]
  },
  {
   "cell_type": "code",
   "execution_count": 311,
   "metadata": {
    "collapsed": false
   },
   "outputs": [
    {
     "name": "stdout",
     "output_type": "stream",
     "text": [
      "0.98486\n"
     ]
    }
   ],
   "source": [
    "print(round(roc_auc_score(yval, ensebmle_prob_validation), 5))"
   ]
  },
  {
   "cell_type": "markdown",
   "metadata": {},
   "source": [
    "## Models that are left in ensebmle\n",
    "- 1 - XGB \n",
    "- 2 - RandomForest\n",
    "- 3 - NN\n",
    "- 4 - SVM\n",
    "- 5 - kNN\n",
    "- 6 - Naive Bayes"
   ]
  },
  {
   "cell_type": "markdown",
   "metadata": {},
   "source": [
    "# Now making predictions"
   ]
  },
  {
   "cell_type": "code",
   "execution_count": 325,
   "metadata": {
    "collapsed": true
   },
   "outputs": [],
   "source": [
    "dtest = xgb.DMatrix(test_xgb)"
   ]
  },
  {
   "cell_type": "code",
   "execution_count": 326,
   "metadata": {
    "collapsed": false
   },
   "outputs": [],
   "source": [
    "p1 = xgb_Xtr_only.predict(dtest)"
   ]
  },
  {
   "cell_type": "code",
   "execution_count": 281,
   "metadata": {
    "collapsed": false
   },
   "outputs": [],
   "source": [
    "p2 = two_to_one(calib.predict_proba(test_new))"
   ]
  },
  {
   "cell_type": "code",
   "execution_count": 312,
   "metadata": {
    "collapsed": false
   },
   "outputs": [
    {
     "name": "stdout",
     "output_type": "stream",
     "text": [
      "8998/8998 [==============================] - 0s     \n"
     ]
    }
   ],
   "source": [
    "p3 = two_to_one(nn.predict_proba(ss.transform(test)))"
   ]
  },
  {
   "cell_type": "code",
   "execution_count": 328,
   "metadata": {
    "collapsed": false
   },
   "outputs": [],
   "source": [
    "p4 = two_to_one(model_SVM.predict_proba(test_new))"
   ]
  },
  {
   "cell_type": "code",
   "execution_count": 332,
   "metadata": {
    "collapsed": false
   },
   "outputs": [],
   "source": [
    "p5 = two_to_one(model_kNN.predict_proba(test_new))"
   ]
  },
  {
   "cell_type": "code",
   "execution_count": 334,
   "metadata": {
    "collapsed": false
   },
   "outputs": [],
   "source": [
    "p6 = two_to_one(model_B.predict_proba(test_new))"
   ]
  },
  {
   "cell_type": "code",
   "execution_count": 336,
   "metadata": {
    "collapsed": true
   },
   "outputs": [],
   "source": [
    "test_predictions = [p1, p2, p3, p4, p5, p6]"
   ]
  },
  {
   "cell_type": "code",
   "execution_count": 337,
   "metadata": {
    "collapsed": false
   },
   "outputs": [],
   "source": [
    "ensebmle_prob_test = np.zeros(len(p1))\n",
    "for i in range(len(test_predictions)):\n",
    "    ensebmle_prob_test += np.array(test_predictions[i]) * w[i]\n",
    "    \n",
    "ensebmle_prob_test[ensebmle_prob_test<0] = 0\n",
    "ensebmle_prob_test[ensebmle_prob_test>1] = 1"
   ]
  },
  {
   "cell_type": "code",
   "execution_count": 341,
   "metadata": {
    "collapsed": false
   },
   "outputs": [
    {
     "data": {
      "text/plain": [
       "array([[<matplotlib.axes._subplots.AxesSubplot object at 0x7f2eabb52470>]], dtype=object)"
      ]
     },
     "execution_count": 341,
     "metadata": {},
     "output_type": "execute_result"
    },
    {
     "data": {
      "image/png": "[encoded data removed]",
      "text/plain": [
       "<matplotlib.figure.Figure at 0x7f2ec448d470>"
      ]
     },
     "metadata": {},
     "output_type": "display_data"
    }
   ],
   "source": [
    "pd.DataFrame(ensebmle_prob_validation).hist()"
   ]
  },
  {
   "cell_type": "code",
   "execution_count": 340,
   "metadata": {
    "collapsed": false
   },
   "outputs": [
    {
     "data": {
      "text/plain": [
       "array([[<matplotlib.axes._subplots.AxesSubplot object at 0x7f2eaba1bbe0>]], dtype=object)"
      ]
     },
     "execution_count": 340,
     "metadata": {},
     "output_type": "execute_result"
    },
    {
     "data": {
      "image/png": "[encoded data removed]",
      "text/plain": [
       "<matplotlib.figure.Figure at 0x7f2eaba1b2e8>"
      ]
     },
     "metadata": {},
     "output_type": "display_data"
    }
   ],
   "source": [
    "pd.DataFrame(ensebmle_prob_test).hist()"
   ]
  },
  {
   "cell_type": "markdown",
   "metadata": {},
   "source": [
    "# Save predictions"
   ]
  },
  {
   "cell_type": "code",
   "execution_count": 402,
   "metadata": {
    "collapsed": false
   },
   "outputs": [],
   "source": [
    "sub = pd.DataFrame()\n",
    "sub['КодКлиента'] = clients\n",
    "sub['Продлился'] = ensebmle_prob_test"
   ]
  },
  {
   "cell_type": "code",
   "execution_count": 407,
   "metadata": {
    "collapsed": false
   },
   "outputs": [
    {
     "data": {
      "text/html": [
       "<div>\n",
       "<table border=\"1\" class=\"dataframe\">\n",
       "  <thead>\n",
       "    <tr style=\"text-align: right;\">\n",
       "      <th></th>\n",
       "      <th>КодКлиента</th>\n",
       "      <th>Продлился</th>\n",
       "    </tr>\n",
       "  </thead>\n",
       "  <tbody>\n",
       "    <tr>\n",
       "      <th>0</th>\n",
       "      <td>129616.0</td>\n",
       "      <td>0.988075</td>\n",
       "    </tr>\n",
       "    <tr>\n",
       "      <th>1</th>\n",
       "      <td>657514.0</td>\n",
       "      <td>0.989483</td>\n",
       "    </tr>\n",
       "    <tr>\n",
       "      <th>2</th>\n",
       "      <td>658834.0</td>\n",
       "      <td>0.848037</td>\n",
       "    </tr>\n",
       "    <tr>\n",
       "      <th>3</th>\n",
       "      <td>658728.0</td>\n",
       "      <td>0.805136</td>\n",
       "    </tr>\n",
       "    <tr>\n",
       "      <th>4</th>\n",
       "      <td>654996.0</td>\n",
       "      <td>0.976665</td>\n",
       "    </tr>\n",
       "  </tbody>\n",
       "</table>\n",
       "</div>"
      ],
      "text/plain": [
       "   КодКлиента  Продлился\n",
       "0    129616.0   0.988075\n",
       "1    657514.0   0.989483\n",
       "2    658834.0   0.848037\n",
       "3    658728.0   0.805136\n",
       "4    654996.0   0.976665"
      ]
     },
     "execution_count": 407,
     "metadata": {},
     "output_type": "execute_result"
    }
   ],
   "source": [
    "sub.head()"
   ]
  },
  {
   "cell_type": "code",
   "execution_count": 411,
   "metadata": {
    "collapsed": false
   },
   "outputs": [],
   "source": [
    "sub.to_csv('/home/dmitry/Desktop/WorldClass/final_predictions.csv', index=False)"
   ]
  }
 ],
 "metadata": {
  "kernelspec": {
   "display_name": "Python 3",
   "language": "python",
   "name": "python3"
  },
  "language_info": {
   "codemirror_mode": {
    "name": "ipython",
    "version": 3
   },
   "file_extension": ".py",
   "mimetype": "text/x-python",
   "name": "python",
   "nbconvert_exporter": "python",
   "pygments_lexer": "ipython3",
   "version": "3.5.1"
  }
 },
 "nbformat": 4,
 "nbformat_minor": 0
}
