{
 "cells": [
  {
   "cell_type": "markdown",
   "metadata": {},
   "source": [
    "### What to do?\n",
    "- split columns into date/time format\n",
    "- transform date into datetime type\n",
    "- if there is some dublicates, they should be deleted\n",
    "- count the length of freeze by subtractint first day from the last one"
   ]
  },
  {
   "cell_type": "markdown",
   "metadata": {},
   "source": [
    "##### As usual install some packages"
   ]
  },
  {
   "cell_type": "code",
   "execution_count": 1,
   "metadata": {
    "collapsed": true
   },
   "outputs": [],
   "source": [
    "import datetime\n",
    "import pandas as pd\n",
    "import numpy as np\n",
    "import matplotlib\n",
    "import matplotlib.pyplot as plt\n",
    "from matplotlib.ticker import MaxNLocator\n",
    "from matplotlib import cm\n",
    "from mpl_toolkits.mplot3d import Axes3D\n",
    "from scipy import array, newaxis"
   ]
  },
  {
   "cell_type": "code",
   "execution_count": 2,
   "metadata": {
    "collapsed": true
   },
   "outputs": [],
   "source": [
    "from sklearn.preprocessing import LabelEncoder\n",
    "le = LabelEncoder()"
   ]
  },
  {
   "cell_type": "markdown",
   "metadata": {},
   "source": [
    "###### Unload some data about freeze"
   ]
  },
  {
   "cell_type": "code",
   "execution_count": 3,
   "metadata": {
    "collapsed": true
   },
   "outputs": [],
   "source": [
    "freeze_train = pd.read_csv('C://Users//Julia//Desktop//WorldClass//December//Freeze.csv',encoding = 'cp1251')\n",
    "freeze_test = pd.read_csv('C://Users//Julia//Desktop//WorldClass//March//Freeze.csv',encoding = 'cp1251')"
   ]
  },
  {
   "cell_type": "code",
   "execution_count": 247,
   "metadata": {
    "collapsed": true
   },
   "outputs": [],
   "source": [
    "freeze_train['Test'] = False\n",
    "freeze_test['Test'] = True"
   ]
  },
  {
   "cell_type": "code",
   "execution_count": 248,
   "metadata": {
    "collapsed": true
   },
   "outputs": [],
   "source": [
    "freeze_data = pd.concat([freeze_test, freeze_train], ignore_index = True)"
   ]
  },
  {
   "cell_type": "code",
   "execution_count": 249,
   "metadata": {
    "collapsed": false
   },
   "outputs": [
    {
     "name": "stdout",
     "output_type": "stream",
     "text": [
      "<class 'pandas.core.frame.DataFrame'>\n",
      "Int64Index: 135991 entries, 0 to 135990\n",
      "Data columns (total 4 columns):\n",
      "КодКонтракта     135991 non-null int64\n",
      "ДатаНачала       135985 non-null object\n",
      "ДатаОкончания    135991 non-null object\n",
      "Test             135991 non-null bool\n",
      "dtypes: bool(1), int64(1), object(2)\n",
      "memory usage: 4.3+ MB\n"
     ]
    }
   ],
   "source": [
    "freeze_data.info()"
   ]
  },
  {
   "cell_type": "code",
   "execution_count": 250,
   "metadata": {
    "collapsed": false
   },
   "outputs": [
    {
     "data": {
      "text/plain": [
       "КодКонтракта     0\n",
       "ДатаНачала       6\n",
       "ДатаОкончания    0\n",
       "Test             0\n",
       "dtype: int64"
      ]
     },
     "execution_count": 250,
     "metadata": {},
     "output_type": "execute_result"
    }
   ],
   "source": [
    "freeze_data.isnull().sum()"
   ]
  },
  {
   "cell_type": "code",
   "execution_count": 251,
   "metadata": {
    "collapsed": false
   },
   "outputs": [
    {
     "data": {
      "text/plain": [
       "91"
      ]
     },
     "execution_count": 251,
     "metadata": {},
     "output_type": "execute_result"
    }
   ],
   "source": [
    "freeze_data.duplicated().sum()"
   ]
  },
  {
   "cell_type": "code",
   "execution_count": 252,
   "metadata": {
    "collapsed": false
   },
   "outputs": [
    {
     "data": {
      "text/plain": [
       "True     83893\n",
       "False    52098\n",
       "Name: Test, dtype: int64"
      ]
     },
     "execution_count": 252,
     "metadata": {},
     "output_type": "execute_result"
    }
   ],
   "source": [
    "freeze_data.Test.value_counts()"
   ]
  },
  {
   "cell_type": "code",
   "execution_count": 253,
   "metadata": {
    "collapsed": true
   },
   "outputs": [],
   "source": [
    "no_test_col = freeze_data[['КодКонтракта', 'ДатаНачала','ДатаОкончания']]"
   ]
  },
  {
   "cell_type": "code",
   "execution_count": 254,
   "metadata": {
    "collapsed": true
   },
   "outputs": [],
   "source": [
    "clear_freeze = freeze_data.drop_duplicates(no_test_col,\"last\")"
   ]
  },
  {
   "cell_type": "code",
   "execution_count": 255,
   "metadata": {
    "collapsed": false
   },
   "outputs": [
    {
     "data": {
      "text/plain": [
       "0"
      ]
     },
     "execution_count": 255,
     "metadata": {},
     "output_type": "execute_result"
    }
   ],
   "source": [
    "clear_freeze.duplicated().sum()"
   ]
  },
  {
   "cell_type": "code",
   "execution_count": 256,
   "metadata": {
    "collapsed": false
   },
   "outputs": [
    {
     "data": {
      "text/plain": [
       "False    52054\n",
       "True     32183\n",
       "Name: Test, dtype: int64"
      ]
     },
     "execution_count": 256,
     "metadata": {},
     "output_type": "execute_result"
    }
   ],
   "source": [
    "clear_freeze.Test.value_counts()"
   ]
  },
  {
   "cell_type": "code",
   "execution_count": 257,
   "metadata": {
    "collapsed": false
   },
   "outputs": [
    {
     "data": {
      "text/html": [
       "<div>\n",
       "<table border=\"1\" class=\"dataframe\">\n",
       "  <thead>\n",
       "    <tr style=\"text-align: right;\">\n",
       "      <th></th>\n",
       "      <th>КодКонтракта</th>\n",
       "      <th>ДатаНачала</th>\n",
       "      <th>ДатаОкончания</th>\n",
       "      <th>Test</th>\n",
       "    </tr>\n",
       "  </thead>\n",
       "  <tbody>\n",
       "    <tr>\n",
       "      <th>25</th>\n",
       "      <td>7657</td>\n",
       "      <td>27.12.2015</td>\n",
       "      <td>13.01.2016 23:59:59</td>\n",
       "      <td>True</td>\n",
       "    </tr>\n",
       "    <tr>\n",
       "      <th>26</th>\n",
       "      <td>7657</td>\n",
       "      <td>18.02.2016</td>\n",
       "      <td>28.02.2016 23:59:59</td>\n",
       "      <td>True</td>\n",
       "    </tr>\n",
       "    <tr>\n",
       "      <th>28</th>\n",
       "      <td>7658</td>\n",
       "      <td>25.12.2015</td>\n",
       "      <td>08.01.2016 23:59:59</td>\n",
       "      <td>True</td>\n",
       "    </tr>\n",
       "    <tr>\n",
       "      <th>35</th>\n",
       "      <td>7661</td>\n",
       "      <td>09.12.2015</td>\n",
       "      <td>26.12.2015 23:59:59</td>\n",
       "      <td>True</td>\n",
       "    </tr>\n",
       "    <tr>\n",
       "      <th>43</th>\n",
       "      <td>7674</td>\n",
       "      <td>27.12.2015</td>\n",
       "      <td>07.01.2016 23:59:59</td>\n",
       "      <td>True</td>\n",
       "    </tr>\n",
       "  </tbody>\n",
       "</table>\n",
       "</div>"
      ],
      "text/plain": [
       "    КодКонтракта  ДатаНачала        ДатаОкончания  Test\n",
       "25          7657  27.12.2015  13.01.2016 23:59:59  True\n",
       "26          7657  18.02.2016  28.02.2016 23:59:59  True\n",
       "28          7658  25.12.2015  08.01.2016 23:59:59  True\n",
       "35          7661  09.12.2015  26.12.2015 23:59:59  True\n",
       "43          7674  27.12.2015  07.01.2016 23:59:59  True"
      ]
     },
     "execution_count": 257,
     "metadata": {},
     "output_type": "execute_result"
    }
   ],
   "source": [
    "clear_freeze.head()"
   ]
  },
  {
   "cell_type": "code",
   "execution_count": 258,
   "metadata": {
    "collapsed": true
   },
   "outputs": [],
   "source": [
    "lastday_freeze = pd.DataFrame(clear_freeze.ДатаОкончания.str.split().str[0])"
   ]
  },
  {
   "cell_type": "code",
   "execution_count": 259,
   "metadata": {
    "collapsed": false
   },
   "outputs": [
    {
     "data": {
      "text/html": [
       "<div>\n",
       "<table border=\"1\" class=\"dataframe\">\n",
       "  <thead>\n",
       "    <tr style=\"text-align: right;\">\n",
       "      <th></th>\n",
       "      <th>0</th>\n",
       "    </tr>\n",
       "  </thead>\n",
       "  <tbody>\n",
       "    <tr>\n",
       "      <th>25</th>\n",
       "      <td>13.01.2016</td>\n",
       "    </tr>\n",
       "    <tr>\n",
       "      <th>26</th>\n",
       "      <td>28.02.2016</td>\n",
       "    </tr>\n",
       "    <tr>\n",
       "      <th>28</th>\n",
       "      <td>08.01.2016</td>\n",
       "    </tr>\n",
       "    <tr>\n",
       "      <th>35</th>\n",
       "      <td>26.12.2015</td>\n",
       "    </tr>\n",
       "    <tr>\n",
       "      <th>43</th>\n",
       "      <td>07.01.2016</td>\n",
       "    </tr>\n",
       "  </tbody>\n",
       "</table>\n",
       "</div>"
      ],
      "text/plain": [
       "             0\n",
       "25  13.01.2016\n",
       "26  28.02.2016\n",
       "28  08.01.2016\n",
       "35  26.12.2015\n",
       "43  07.01.2016"
      ]
     },
     "execution_count": 259,
     "metadata": {},
     "output_type": "execute_result"
    }
   ],
   "source": [
    "lastday_freeze.head()"
   ]
  },
  {
   "cell_type": "code",
   "execution_count": 260,
   "metadata": {
    "collapsed": false
   },
   "outputs": [
    {
     "name": "stderr",
     "output_type": "stream",
     "text": [
      "C:\\Users\\Julia\\Anaconda3\\lib\\site-packages\\ipykernel\\__main__.py:1: SettingWithCopyWarning: \n",
      "A value is trying to be set on a copy of a slice from a DataFrame.\n",
      "Try using .loc[row_indexer,col_indexer] = value instead\n",
      "\n",
      "See the caveats in the documentation: http://pandas.pydata.org/pandas-docs/stable/indexing.html#indexing-view-versus-copy\n",
      "  if __name__ == '__main__':\n"
     ]
    }
   ],
   "source": [
    "clear_freeze['lastday_freeze'] = lastday_freeze"
   ]
  },
  {
   "cell_type": "code",
   "execution_count": 261,
   "metadata": {
    "collapsed": false
   },
   "outputs": [
    {
     "name": "stderr",
     "output_type": "stream",
     "text": [
      "C:\\Users\\Julia\\Anaconda3\\lib\\site-packages\\ipykernel\\__main__.py:1: SettingWithCopyWarning: \n",
      "A value is trying to be set on a copy of a slice from a DataFrame.\n",
      "Try using .loc[row_indexer,col_indexer] = value instead\n",
      "\n",
      "See the caveats in the documentation: http://pandas.pydata.org/pandas-docs/stable/indexing.html#indexing-view-versus-copy\n",
      "  if __name__ == '__main__':\n"
     ]
    }
   ],
   "source": [
    "clear_freeze['lastday_freeze'] = pd.to_datetime(clear_freeze['lastday_freeze'], format='%d.%m.%Y')"
   ]
  },
  {
   "cell_type": "code",
   "execution_count": 262,
   "metadata": {
    "collapsed": false
   },
   "outputs": [
    {
     "data": {
      "text/html": [
       "<div>\n",
       "<table border=\"1\" class=\"dataframe\">\n",
       "  <thead>\n",
       "    <tr style=\"text-align: right;\">\n",
       "      <th></th>\n",
       "      <th>КодКонтракта</th>\n",
       "      <th>ДатаНачала</th>\n",
       "      <th>ДатаОкончания</th>\n",
       "      <th>Test</th>\n",
       "      <th>lastday_freeze</th>\n",
       "    </tr>\n",
       "  </thead>\n",
       "  <tbody>\n",
       "    <tr>\n",
       "      <th>25</th>\n",
       "      <td>7657</td>\n",
       "      <td>27.12.2015</td>\n",
       "      <td>13.01.2016 23:59:59</td>\n",
       "      <td>True</td>\n",
       "      <td>2016-01-13</td>\n",
       "    </tr>\n",
       "    <tr>\n",
       "      <th>26</th>\n",
       "      <td>7657</td>\n",
       "      <td>18.02.2016</td>\n",
       "      <td>28.02.2016 23:59:59</td>\n",
       "      <td>True</td>\n",
       "      <td>2016-02-28</td>\n",
       "    </tr>\n",
       "    <tr>\n",
       "      <th>28</th>\n",
       "      <td>7658</td>\n",
       "      <td>25.12.2015</td>\n",
       "      <td>08.01.2016 23:59:59</td>\n",
       "      <td>True</td>\n",
       "      <td>2016-01-08</td>\n",
       "    </tr>\n",
       "    <tr>\n",
       "      <th>35</th>\n",
       "      <td>7661</td>\n",
       "      <td>09.12.2015</td>\n",
       "      <td>26.12.2015 23:59:59</td>\n",
       "      <td>True</td>\n",
       "      <td>2015-12-26</td>\n",
       "    </tr>\n",
       "    <tr>\n",
       "      <th>43</th>\n",
       "      <td>7674</td>\n",
       "      <td>27.12.2015</td>\n",
       "      <td>07.01.2016 23:59:59</td>\n",
       "      <td>True</td>\n",
       "      <td>2016-01-07</td>\n",
       "    </tr>\n",
       "  </tbody>\n",
       "</table>\n",
       "</div>"
      ],
      "text/plain": [
       "    КодКонтракта  ДатаНачала        ДатаОкончания  Test lastday_freeze\n",
       "25          7657  27.12.2015  13.01.2016 23:59:59  True     2016-01-13\n",
       "26          7657  18.02.2016  28.02.2016 23:59:59  True     2016-02-28\n",
       "28          7658  25.12.2015  08.01.2016 23:59:59  True     2016-01-08\n",
       "35          7661  09.12.2015  26.12.2015 23:59:59  True     2015-12-26\n",
       "43          7674  27.12.2015  07.01.2016 23:59:59  True     2016-01-07"
      ]
     },
     "execution_count": 262,
     "metadata": {},
     "output_type": "execute_result"
    }
   ],
   "source": [
    "clear_freeze.head()"
   ]
  },
  {
   "cell_type": "code",
   "execution_count": 263,
   "metadata": {
    "collapsed": false
   },
   "outputs": [
    {
     "name": "stderr",
     "output_type": "stream",
     "text": [
      "C:\\Users\\Julia\\Anaconda3\\lib\\site-packages\\ipykernel\\__main__.py:1: SettingWithCopyWarning: \n",
      "A value is trying to be set on a copy of a slice from a DataFrame.\n",
      "Try using .loc[row_indexer,col_indexer] = value instead\n",
      "\n",
      "See the caveats in the documentation: http://pandas.pydata.org/pandas-docs/stable/indexing.html#indexing-view-versus-copy\n",
      "  if __name__ == '__main__':\n"
     ]
    }
   ],
   "source": [
    "clear_freeze['first_freeze'] = pd.to_datetime(clear_freeze['ДатаНачала'], format='%d.%m.%Y')"
   ]
  },
  {
   "cell_type": "code",
   "execution_count": 264,
   "metadata": {
    "collapsed": false
   },
   "outputs": [
    {
     "data": {
      "text/html": [
       "<div>\n",
       "<table border=\"1\" class=\"dataframe\">\n",
       "  <thead>\n",
       "    <tr style=\"text-align: right;\">\n",
       "      <th></th>\n",
       "      <th>КодКонтракта</th>\n",
       "      <th>ДатаНачала</th>\n",
       "      <th>ДатаОкончания</th>\n",
       "      <th>Test</th>\n",
       "      <th>lastday_freeze</th>\n",
       "      <th>first_freeze</th>\n",
       "    </tr>\n",
       "  </thead>\n",
       "  <tbody>\n",
       "    <tr>\n",
       "      <th>25</th>\n",
       "      <td>7657</td>\n",
       "      <td>27.12.2015</td>\n",
       "      <td>13.01.2016 23:59:59</td>\n",
       "      <td>True</td>\n",
       "      <td>2016-01-13</td>\n",
       "      <td>2015-12-27</td>\n",
       "    </tr>\n",
       "    <tr>\n",
       "      <th>26</th>\n",
       "      <td>7657</td>\n",
       "      <td>18.02.2016</td>\n",
       "      <td>28.02.2016 23:59:59</td>\n",
       "      <td>True</td>\n",
       "      <td>2016-02-28</td>\n",
       "      <td>2016-02-18</td>\n",
       "    </tr>\n",
       "    <tr>\n",
       "      <th>28</th>\n",
       "      <td>7658</td>\n",
       "      <td>25.12.2015</td>\n",
       "      <td>08.01.2016 23:59:59</td>\n",
       "      <td>True</td>\n",
       "      <td>2016-01-08</td>\n",
       "      <td>2015-12-25</td>\n",
       "    </tr>\n",
       "    <tr>\n",
       "      <th>35</th>\n",
       "      <td>7661</td>\n",
       "      <td>09.12.2015</td>\n",
       "      <td>26.12.2015 23:59:59</td>\n",
       "      <td>True</td>\n",
       "      <td>2015-12-26</td>\n",
       "      <td>2015-12-09</td>\n",
       "    </tr>\n",
       "    <tr>\n",
       "      <th>43</th>\n",
       "      <td>7674</td>\n",
       "      <td>27.12.2015</td>\n",
       "      <td>07.01.2016 23:59:59</td>\n",
       "      <td>True</td>\n",
       "      <td>2016-01-07</td>\n",
       "      <td>2015-12-27</td>\n",
       "    </tr>\n",
       "  </tbody>\n",
       "</table>\n",
       "</div>"
      ],
      "text/plain": [
       "    КодКонтракта  ДатаНачала        ДатаОкончания  Test lastday_freeze  \\\n",
       "25          7657  27.12.2015  13.01.2016 23:59:59  True     2016-01-13   \n",
       "26          7657  18.02.2016  28.02.2016 23:59:59  True     2016-02-28   \n",
       "28          7658  25.12.2015  08.01.2016 23:59:59  True     2016-01-08   \n",
       "35          7661  09.12.2015  26.12.2015 23:59:59  True     2015-12-26   \n",
       "43          7674  27.12.2015  07.01.2016 23:59:59  True     2016-01-07   \n",
       "\n",
       "   first_freeze  \n",
       "25   2015-12-27  \n",
       "26   2016-02-18  \n",
       "28   2015-12-25  \n",
       "35   2015-12-09  \n",
       "43   2015-12-27  "
      ]
     },
     "execution_count": 264,
     "metadata": {},
     "output_type": "execute_result"
    }
   ],
   "source": [
    "clear_freeze.head()"
   ]
  },
  {
   "cell_type": "code",
   "execution_count": 265,
   "metadata": {
    "collapsed": false
   },
   "outputs": [],
   "source": [
    "clear_freeze =  clear_freeze.dropna()"
   ]
  },
  {
   "cell_type": "code",
   "execution_count": 266,
   "metadata": {
    "collapsed": false
   },
   "outputs": [
    {
     "data": {
      "text/plain": [
       "КодКонтракта      0\n",
       "ДатаНачала        0\n",
       "ДатаОкончания     0\n",
       "Test              0\n",
       "lastday_freeze    0\n",
       "first_freeze      0\n",
       "dtype: int64"
      ]
     },
     "execution_count": 266,
     "metadata": {},
     "output_type": "execute_result"
    }
   ],
   "source": [
    "clear_freeze.isnull().sum()"
   ]
  },
  {
   "cell_type": "code",
   "execution_count": 267,
   "metadata": {
    "collapsed": false
   },
   "outputs": [],
   "source": [
    "days_of_freeze = clear_freeze[\"lastday_freeze\"] - clear_freeze[\"first_freeze\"]"
   ]
  },
  {
   "cell_type": "code",
   "execution_count": 268,
   "metadata": {
    "collapsed": false
   },
   "outputs": [],
   "source": [
    "clear_freeze['days_of_freeze'] = days_of_freeze"
   ]
  },
  {
   "cell_type": "code",
   "execution_count": 269,
   "metadata": {
    "collapsed": false
   },
   "outputs": [
    {
     "data": {
      "text/html": [
       "<div>\n",
       "<table border=\"1\" class=\"dataframe\">\n",
       "  <thead>\n",
       "    <tr style=\"text-align: right;\">\n",
       "      <th></th>\n",
       "      <th>КодКонтракта</th>\n",
       "      <th>ДатаНачала</th>\n",
       "      <th>ДатаОкончания</th>\n",
       "      <th>Test</th>\n",
       "      <th>lastday_freeze</th>\n",
       "      <th>first_freeze</th>\n",
       "      <th>days_of_freeze</th>\n",
       "    </tr>\n",
       "  </thead>\n",
       "  <tbody>\n",
       "    <tr>\n",
       "      <th>25</th>\n",
       "      <td>7657</td>\n",
       "      <td>27.12.2015</td>\n",
       "      <td>13.01.2016 23:59:59</td>\n",
       "      <td>True</td>\n",
       "      <td>2016-01-13</td>\n",
       "      <td>2015-12-27</td>\n",
       "      <td>17 days</td>\n",
       "    </tr>\n",
       "    <tr>\n",
       "      <th>26</th>\n",
       "      <td>7657</td>\n",
       "      <td>18.02.2016</td>\n",
       "      <td>28.02.2016 23:59:59</td>\n",
       "      <td>True</td>\n",
       "      <td>2016-02-28</td>\n",
       "      <td>2016-02-18</td>\n",
       "      <td>10 days</td>\n",
       "    </tr>\n",
       "    <tr>\n",
       "      <th>28</th>\n",
       "      <td>7658</td>\n",
       "      <td>25.12.2015</td>\n",
       "      <td>08.01.2016 23:59:59</td>\n",
       "      <td>True</td>\n",
       "      <td>2016-01-08</td>\n",
       "      <td>2015-12-25</td>\n",
       "      <td>14 days</td>\n",
       "    </tr>\n",
       "    <tr>\n",
       "      <th>35</th>\n",
       "      <td>7661</td>\n",
       "      <td>09.12.2015</td>\n",
       "      <td>26.12.2015 23:59:59</td>\n",
       "      <td>True</td>\n",
       "      <td>2015-12-26</td>\n",
       "      <td>2015-12-09</td>\n",
       "      <td>17 days</td>\n",
       "    </tr>\n",
       "    <tr>\n",
       "      <th>43</th>\n",
       "      <td>7674</td>\n",
       "      <td>27.12.2015</td>\n",
       "      <td>07.01.2016 23:59:59</td>\n",
       "      <td>True</td>\n",
       "      <td>2016-01-07</td>\n",
       "      <td>2015-12-27</td>\n",
       "      <td>11 days</td>\n",
       "    </tr>\n",
       "  </tbody>\n",
       "</table>\n",
       "</div>"
      ],
      "text/plain": [
       "    КодКонтракта  ДатаНачала        ДатаОкончания  Test lastday_freeze  \\\n",
       "25          7657  27.12.2015  13.01.2016 23:59:59  True     2016-01-13   \n",
       "26          7657  18.02.2016  28.02.2016 23:59:59  True     2016-02-28   \n",
       "28          7658  25.12.2015  08.01.2016 23:59:59  True     2016-01-08   \n",
       "35          7661  09.12.2015  26.12.2015 23:59:59  True     2015-12-26   \n",
       "43          7674  27.12.2015  07.01.2016 23:59:59  True     2016-01-07   \n",
       "\n",
       "   first_freeze  days_of_freeze  \n",
       "25   2015-12-27         17 days  \n",
       "26   2016-02-18         10 days  \n",
       "28   2015-12-25         14 days  \n",
       "35   2015-12-09         17 days  \n",
       "43   2015-12-27         11 days  "
      ]
     },
     "execution_count": 269,
     "metadata": {},
     "output_type": "execute_result"
    }
   ],
   "source": [
    "clear_freeze.head()"
   ]
  },
  {
   "cell_type": "markdown",
   "metadata": {},
   "source": [
    "#### Adding season component"
   ]
  },
  {
   "cell_type": "code",
   "execution_count": null,
   "metadata": {
    "collapsed": true
   },
   "outputs": [],
   "source": []
  },
  {
   "cell_type": "code",
   "execution_count": 270,
   "metadata": {
    "collapsed": true
   },
   "outputs": [],
   "source": [
    "clear_freeze['first_month'] = clear_freeze.first_freeze.apply(lambda x: x.month)"
   ]
  },
  {
   "cell_type": "code",
   "execution_count": 271,
   "metadata": {
    "collapsed": false
   },
   "outputs": [
    {
     "data": {
      "text/html": [
       "<div>\n",
       "<table border=\"1\" class=\"dataframe\">\n",
       "  <thead>\n",
       "    <tr style=\"text-align: right;\">\n",
       "      <th></th>\n",
       "      <th>КодКонтракта</th>\n",
       "      <th>ДатаНачала</th>\n",
       "      <th>ДатаОкончания</th>\n",
       "      <th>Test</th>\n",
       "      <th>lastday_freeze</th>\n",
       "      <th>first_freeze</th>\n",
       "      <th>days_of_freeze</th>\n",
       "      <th>first_month</th>\n",
       "    </tr>\n",
       "  </thead>\n",
       "  <tbody>\n",
       "    <tr>\n",
       "      <th>25</th>\n",
       "      <td>7657</td>\n",
       "      <td>27.12.2015</td>\n",
       "      <td>13.01.2016 23:59:59</td>\n",
       "      <td>True</td>\n",
       "      <td>2016-01-13</td>\n",
       "      <td>2015-12-27</td>\n",
       "      <td>17 days</td>\n",
       "      <td>12</td>\n",
       "    </tr>\n",
       "    <tr>\n",
       "      <th>26</th>\n",
       "      <td>7657</td>\n",
       "      <td>18.02.2016</td>\n",
       "      <td>28.02.2016 23:59:59</td>\n",
       "      <td>True</td>\n",
       "      <td>2016-02-28</td>\n",
       "      <td>2016-02-18</td>\n",
       "      <td>10 days</td>\n",
       "      <td>2</td>\n",
       "    </tr>\n",
       "    <tr>\n",
       "      <th>28</th>\n",
       "      <td>7658</td>\n",
       "      <td>25.12.2015</td>\n",
       "      <td>08.01.2016 23:59:59</td>\n",
       "      <td>True</td>\n",
       "      <td>2016-01-08</td>\n",
       "      <td>2015-12-25</td>\n",
       "      <td>14 days</td>\n",
       "      <td>12</td>\n",
       "    </tr>\n",
       "    <tr>\n",
       "      <th>35</th>\n",
       "      <td>7661</td>\n",
       "      <td>09.12.2015</td>\n",
       "      <td>26.12.2015 23:59:59</td>\n",
       "      <td>True</td>\n",
       "      <td>2015-12-26</td>\n",
       "      <td>2015-12-09</td>\n",
       "      <td>17 days</td>\n",
       "      <td>12</td>\n",
       "    </tr>\n",
       "    <tr>\n",
       "      <th>43</th>\n",
       "      <td>7674</td>\n",
       "      <td>27.12.2015</td>\n",
       "      <td>07.01.2016 23:59:59</td>\n",
       "      <td>True</td>\n",
       "      <td>2016-01-07</td>\n",
       "      <td>2015-12-27</td>\n",
       "      <td>11 days</td>\n",
       "      <td>12</td>\n",
       "    </tr>\n",
       "  </tbody>\n",
       "</table>\n",
       "</div>"
      ],
      "text/plain": [
       "    КодКонтракта  ДатаНачала        ДатаОкончания  Test lastday_freeze  \\\n",
       "25          7657  27.12.2015  13.01.2016 23:59:59  True     2016-01-13   \n",
       "26          7657  18.02.2016  28.02.2016 23:59:59  True     2016-02-28   \n",
       "28          7658  25.12.2015  08.01.2016 23:59:59  True     2016-01-08   \n",
       "35          7661  09.12.2015  26.12.2015 23:59:59  True     2015-12-26   \n",
       "43          7674  27.12.2015  07.01.2016 23:59:59  True     2016-01-07   \n",
       "\n",
       "   first_freeze  days_of_freeze  first_month  \n",
       "25   2015-12-27         17 days           12  \n",
       "26   2016-02-18         10 days            2  \n",
       "28   2015-12-25         14 days           12  \n",
       "35   2015-12-09         17 days           12  \n",
       "43   2015-12-27         11 days           12  "
      ]
     },
     "execution_count": 271,
     "metadata": {},
     "output_type": "execute_result"
    }
   ],
   "source": [
    "clear_freeze.head()"
   ]
  },
  {
   "cell_type": "code",
   "execution_count": 272,
   "metadata": {
    "collapsed": true
   },
   "outputs": [],
   "source": [
    "def get_season(month):\n",
    "    if month <= 2 or month==12:\n",
    "        season = 0\n",
    "    elif 2<month<=5:\n",
    "        season = 1\n",
    "    elif 5<month<=8:\n",
    "        season = 2\n",
    "    else:\n",
    "        season = 3\n",
    "    return season"
   ]
  },
  {
   "cell_type": "code",
   "execution_count": 273,
   "metadata": {
    "collapsed": true
   },
   "outputs": [],
   "source": [
    "for month in clear_freeze.first_month.unique():\n",
    "    clear_freeze.loc[clear_freeze.index[clear_freeze.first_month==month], 'Season_freeze'] = get_season(month)"
   ]
  },
  {
   "cell_type": "code",
   "execution_count": 274,
   "metadata": {
    "collapsed": false
   },
   "outputs": [
    {
     "data": {
      "text/plain": [
       "0    31439\n",
       "2    27616\n",
       "3    24256\n",
       "1      923\n",
       "Name: Season_freeze, dtype: int64"
      ]
     },
     "execution_count": 274,
     "metadata": {},
     "output_type": "execute_result"
    }
   ],
   "source": [
    "clear_freeze.Season_freeze.value_counts()"
   ]
  },
  {
   "cell_type": "code",
   "execution_count": 275,
   "metadata": {
    "collapsed": false
   },
   "outputs": [
    {
     "data": {
      "text/plain": [
       "<matplotlib.axes._subplots.AxesSubplot at 0xf62ae9d7b8>"
      ]
     },
     "execution_count": 275,
     "metadata": {},
     "output_type": "execute_result"
    },
    {
     "data": {
      "image/png": "[encoded data removed]",
      "text/plain": [
       "<matplotlib.figure.Figure at 0xf667d3c748>"
      ]
     },
     "metadata": {},
     "output_type": "display_data"
    }
   ],
   "source": [
    "% %matplotlib inline\n",
    "clear_freeze.first_freeze.value_counts()[:20].plot(kind='barh')"
   ]
  },
  {
   "cell_type": "code",
   "execution_count": 276,
   "metadata": {
    "collapsed": true
   },
   "outputs": [],
   "source": [
    "contracts = pd.read_pickle('C://Users//Julia//Desktop//WorldClass//dima.pkl')"
   ]
  },
  {
   "cell_type": "code",
   "execution_count": 277,
   "metadata": {
    "collapsed": false
   },
   "outputs": [
    {
     "data": {
      "text/html": [
       "<div>\n",
       "<table border=\"1\" class=\"dataframe\">\n",
       "  <thead>\n",
       "    <tr style=\"text-align: right;\">\n",
       "      <th></th>\n",
       "      <th>КодКлиента</th>\n",
       "      <th>КодКонтракта</th>\n",
       "      <th>КодНоменклатуры</th>\n",
       "      <th>ДатаНачалаСрокаДействия</th>\n",
       "      <th>ДатаОкончанияСрокаДействия</th>\n",
       "      <th>ВидСтажаНаНачалоМесяца</th>\n",
       "      <th>ВидСтажаВМоментПриобретения</th>\n",
       "      <th>ВидДоговора</th>\n",
       "      <th>БонусыОстаток</th>\n",
       "      <th>ДлительностьКонтракта</th>\n",
       "      <th>...</th>\n",
       "      <th>Cont_length</th>\n",
       "      <th>beg_month</th>\n",
       "      <th>beg_day</th>\n",
       "      <th>Season</th>\n",
       "      <th>age_group</th>\n",
       "      <th>club_segment</th>\n",
       "      <th>bought_freeze</th>\n",
       "      <th>bonus_left</th>\n",
       "      <th>contr_type</th>\n",
       "      <th>nom_lev</th>\n",
       "    </tr>\n",
       "  </thead>\n",
       "  <tbody>\n",
       "    <tr>\n",
       "      <th>0</th>\n",
       "      <td>3101</td>\n",
       "      <td>29908</td>\n",
       "      <td>36109</td>\n",
       "      <td>21.11.2014</td>\n",
       "      <td>20.12.2015</td>\n",
       "      <td>Renew</td>\n",
       "      <td>Renew</td>\n",
       "      <td>other</td>\n",
       "      <td>390</td>\n",
       "      <td>365</td>\n",
       "      <td>...</td>\n",
       "      <td>394</td>\n",
       "      <td>11</td>\n",
       "      <td>21</td>\n",
       "      <td>3</td>\n",
       "      <td>2</td>\n",
       "      <td>1</td>\n",
       "      <td>0</td>\n",
       "      <td>390</td>\n",
       "      <td>0</td>\n",
       "      <td>5</td>\n",
       "    </tr>\n",
       "    <tr>\n",
       "      <th>1</th>\n",
       "      <td>3120</td>\n",
       "      <td>28457</td>\n",
       "      <td>99</td>\n",
       "      <td>26.06.2015</td>\n",
       "      <td>24.12.2015</td>\n",
       "      <td>Renew</td>\n",
       "      <td>Ex</td>\n",
       "      <td>other</td>\n",
       "      <td>645.14</td>\n",
       "      <td>182</td>\n",
       "      <td>...</td>\n",
       "      <td>181</td>\n",
       "      <td>6</td>\n",
       "      <td>26</td>\n",
       "      <td>2</td>\n",
       "      <td>2</td>\n",
       "      <td>1</td>\n",
       "      <td>0</td>\n",
       "      <td>645.14</td>\n",
       "      <td>0</td>\n",
       "      <td>1</td>\n",
       "    </tr>\n",
       "    <tr>\n",
       "      <th>2</th>\n",
       "      <td>3126</td>\n",
       "      <td>8230</td>\n",
       "      <td>99</td>\n",
       "      <td>29.10.2014</td>\n",
       "      <td>27.12.2015</td>\n",
       "      <td>Renew</td>\n",
       "      <td>Renew</td>\n",
       "      <td>other</td>\n",
       "      <td>6 275.96</td>\n",
       "      <td>395</td>\n",
       "      <td>...</td>\n",
       "      <td>424</td>\n",
       "      <td>10</td>\n",
       "      <td>29</td>\n",
       "      <td>3</td>\n",
       "      <td>2</td>\n",
       "      <td>3</td>\n",
       "      <td>0</td>\n",
       "      <td>6275.96</td>\n",
       "      <td>0</td>\n",
       "      <td>1</td>\n",
       "    </tr>\n",
       "    <tr>\n",
       "      <th>3</th>\n",
       "      <td>3153</td>\n",
       "      <td>8121</td>\n",
       "      <td>99</td>\n",
       "      <td>02.12.2014</td>\n",
       "      <td>15.12.2015</td>\n",
       "      <td>Renew</td>\n",
       "      <td>Renew</td>\n",
       "      <td>other</td>\n",
       "      <td>0.72</td>\n",
       "      <td>365</td>\n",
       "      <td>...</td>\n",
       "      <td>378</td>\n",
       "      <td>12</td>\n",
       "      <td>2</td>\n",
       "      <td>0</td>\n",
       "      <td>2</td>\n",
       "      <td>3</td>\n",
       "      <td>0</td>\n",
       "      <td>0.72</td>\n",
       "      <td>0</td>\n",
       "      <td>1</td>\n",
       "    </tr>\n",
       "    <tr>\n",
       "      <th>4</th>\n",
       "      <td>3156</td>\n",
       "      <td>29730</td>\n",
       "      <td>36109</td>\n",
       "      <td>16.11.2014</td>\n",
       "      <td>11.12.2015</td>\n",
       "      <td>Renew</td>\n",
       "      <td>Renew</td>\n",
       "      <td>other</td>\n",
       "      <td>520</td>\n",
       "      <td>365</td>\n",
       "      <td>...</td>\n",
       "      <td>390</td>\n",
       "      <td>11</td>\n",
       "      <td>16</td>\n",
       "      <td>3</td>\n",
       "      <td>2</td>\n",
       "      <td>1</td>\n",
       "      <td>0</td>\n",
       "      <td>520</td>\n",
       "      <td>0</td>\n",
       "      <td>5</td>\n",
       "    </tr>\n",
       "  </tbody>\n",
       "</table>\n",
       "<p>5 rows × 29 columns</p>\n",
       "</div>"
      ],
      "text/plain": [
       "   КодКлиента  КодКонтракта  КодНоменклатуры ДатаНачалаСрокаДействия  \\\n",
       "0        3101         29908            36109              21.11.2014   \n",
       "1        3120         28457               99              26.06.2015   \n",
       "2        3126          8230               99              29.10.2014   \n",
       "3        3153          8121               99              02.12.2014   \n",
       "4        3156         29730            36109              16.11.2014   \n",
       "\n",
       "  ДатаОкончанияСрокаДействия ВидСтажаНаНачалоМесяца  \\\n",
       "0                 20.12.2015                  Renew   \n",
       "1                 24.12.2015                  Renew   \n",
       "2                 27.12.2015                  Renew   \n",
       "3                 15.12.2015                  Renew   \n",
       "4                 11.12.2015                  Renew   \n",
       "\n",
       "  ВидСтажаВМоментПриобретения ВидДоговора БонусыОстаток  \\\n",
       "0                       Renew       other           390   \n",
       "1                          Ex       other        645.14   \n",
       "2                       Renew       other      6 275.96   \n",
       "3                       Renew       other          0.72   \n",
       "4                       Renew       other           520   \n",
       "\n",
       "   ДлительностьКонтракта   ...     Cont_length beg_month beg_day  Season  \\\n",
       "0                    365   ...             394        11      21       3   \n",
       "1                    182   ...             181         6      26       2   \n",
       "2                    395   ...             424        10      29       3   \n",
       "3                    365   ...             378        12       2       0   \n",
       "4                    365   ...             390        11      16       3   \n",
       "\n",
       "   age_group  club_segment bought_freeze  bonus_left  contr_type  nom_lev  \n",
       "0          2             1             0         390           0        5  \n",
       "1          2             1             0      645.14           0        1  \n",
       "2          2             3             0     6275.96           0        1  \n",
       "3          2             3             0        0.72           0        1  \n",
       "4          2             1             0         520           0        5  \n",
       "\n",
       "[5 rows x 29 columns]"
      ]
     },
     "execution_count": 277,
     "metadata": {},
     "output_type": "execute_result"
    }
   ],
   "source": [
    "contracts.head()"
   ]
  },
  {
   "cell_type": "code",
   "execution_count": null,
   "metadata": {
    "collapsed": true
   },
   "outputs": [],
   "source": []
  },
  {
   "cell_type": "code",
   "execution_count": 278,
   "metadata": {
    "collapsed": false
   },
   "outputs": [],
   "source": [
    "grouped = clear_freeze['days_of_freeze'].groupby([clear_freeze['КодКонтракта'],clear_freeze['Test'],clear_freeze['Season_freeze']]).sum()"
   ]
  },
  {
   "cell_type": "code",
   "execution_count": 279,
   "metadata": {
    "collapsed": false
   },
   "outputs": [
    {
     "data": {
      "text/html": [
       "<div>\n",
       "<table border=\"1\" class=\"dataframe\">\n",
       "  <thead>\n",
       "    <tr style=\"text-align: right;\">\n",
       "      <th></th>\n",
       "      <th></th>\n",
       "      <th></th>\n",
       "      <th>days_of_freeze</th>\n",
       "    </tr>\n",
       "    <tr>\n",
       "      <th>КодКонтракта</th>\n",
       "      <th>Test</th>\n",
       "      <th>Season_freeze</th>\n",
       "      <th></th>\n",
       "    </tr>\n",
       "  </thead>\n",
       "  <tbody>\n",
       "    <tr>\n",
       "      <th>100</th>\n",
       "      <th>False</th>\n",
       "      <th>3</th>\n",
       "      <td>6 days</td>\n",
       "    </tr>\n",
       "    <tr>\n",
       "      <th>7558</th>\n",
       "      <th>False</th>\n",
       "      <th>3</th>\n",
       "      <td>11 days</td>\n",
       "    </tr>\n",
       "    <tr>\n",
       "      <th rowspan=\"2\" valign=\"top\">7559</th>\n",
       "      <th rowspan=\"2\" valign=\"top\">False</th>\n",
       "      <th>2</th>\n",
       "      <td>88 days</td>\n",
       "    </tr>\n",
       "    <tr>\n",
       "      <th>3</th>\n",
       "      <td>58 days</td>\n",
       "    </tr>\n",
       "    <tr>\n",
       "      <th rowspan=\"2\" valign=\"top\">7588</th>\n",
       "      <th rowspan=\"2\" valign=\"top\">False</th>\n",
       "      <th>0</th>\n",
       "      <td>59 days</td>\n",
       "    </tr>\n",
       "    <tr>\n",
       "      <th>2</th>\n",
       "      <td>59 days</td>\n",
       "    </tr>\n",
       "    <tr>\n",
       "      <th rowspan=\"2\" valign=\"top\">7589</th>\n",
       "      <th rowspan=\"2\" valign=\"top\">False</th>\n",
       "      <th>2</th>\n",
       "      <td>17 days</td>\n",
       "    </tr>\n",
       "    <tr>\n",
       "      <th>3</th>\n",
       "      <td>7 days</td>\n",
       "    </tr>\n",
       "    <tr>\n",
       "      <th>7590</th>\n",
       "      <th>False</th>\n",
       "      <th>2</th>\n",
       "      <td>14 days</td>\n",
       "    </tr>\n",
       "    <tr>\n",
       "      <th rowspan=\"2\" valign=\"top\">7599</th>\n",
       "      <th rowspan=\"2\" valign=\"top\">False</th>\n",
       "      <th>1</th>\n",
       "      <td>89 days</td>\n",
       "    </tr>\n",
       "    <tr>\n",
       "      <th>2</th>\n",
       "      <td>89 days</td>\n",
       "    </tr>\n",
       "    <tr>\n",
       "      <th rowspan=\"2\" valign=\"top\">7601</th>\n",
       "      <th rowspan=\"2\" valign=\"top\">False</th>\n",
       "      <th>2</th>\n",
       "      <td>16 days</td>\n",
       "    </tr>\n",
       "    <tr>\n",
       "      <th>3</th>\n",
       "      <td>16 days</td>\n",
       "    </tr>\n",
       "    <tr>\n",
       "      <th rowspan=\"2\" valign=\"top\">7605</th>\n",
       "      <th rowspan=\"2\" valign=\"top\">False</th>\n",
       "      <th>1</th>\n",
       "      <td>24 days</td>\n",
       "    </tr>\n",
       "    <tr>\n",
       "      <th>2</th>\n",
       "      <td>24 days</td>\n",
       "    </tr>\n",
       "    <tr>\n",
       "      <th>7617</th>\n",
       "      <th>False</th>\n",
       "      <th>2</th>\n",
       "      <td>45 days</td>\n",
       "    </tr>\n",
       "    <tr>\n",
       "      <th>7631</th>\n",
       "      <th>False</th>\n",
       "      <th>2</th>\n",
       "      <td>13 days</td>\n",
       "    </tr>\n",
       "    <tr>\n",
       "      <th>7639</th>\n",
       "      <th>False</th>\n",
       "      <th>2</th>\n",
       "      <td>16 days</td>\n",
       "    </tr>\n",
       "    <tr>\n",
       "      <th>7644</th>\n",
       "      <th>False</th>\n",
       "      <th>2</th>\n",
       "      <td>23 days</td>\n",
       "    </tr>\n",
       "    <tr>\n",
       "      <th>7650</th>\n",
       "      <th>False</th>\n",
       "      <th>2</th>\n",
       "      <td>19 days</td>\n",
       "    </tr>\n",
       "    <tr>\n",
       "      <th rowspan=\"2\" valign=\"top\">7657</th>\n",
       "      <th>False</th>\n",
       "      <th>2</th>\n",
       "      <td>26 days</td>\n",
       "    </tr>\n",
       "    <tr>\n",
       "      <th>True</th>\n",
       "      <th>0</th>\n",
       "      <td>27 days</td>\n",
       "    </tr>\n",
       "    <tr>\n",
       "      <th rowspan=\"2\" valign=\"top\">7658</th>\n",
       "      <th>False</th>\n",
       "      <th>2</th>\n",
       "      <td>17 days</td>\n",
       "    </tr>\n",
       "    <tr>\n",
       "      <th>True</th>\n",
       "      <th>0</th>\n",
       "      <td>14 days</td>\n",
       "    </tr>\n",
       "    <tr>\n",
       "      <th>7659</th>\n",
       "      <th>False</th>\n",
       "      <th>2</th>\n",
       "      <td>59 days</td>\n",
       "    </tr>\n",
       "    <tr>\n",
       "      <th>7660</th>\n",
       "      <th>False</th>\n",
       "      <th>2</th>\n",
       "      <td>73 days</td>\n",
       "    </tr>\n",
       "    <tr>\n",
       "      <th rowspan=\"3\" valign=\"top\">7661</th>\n",
       "      <th rowspan=\"2\" valign=\"top\">False</th>\n",
       "      <th>2</th>\n",
       "      <td>15 days</td>\n",
       "    </tr>\n",
       "    <tr>\n",
       "      <th>3</th>\n",
       "      <td>16 days</td>\n",
       "    </tr>\n",
       "    <tr>\n",
       "      <th>True</th>\n",
       "      <th>0</th>\n",
       "      <td>17 days</td>\n",
       "    </tr>\n",
       "    <tr>\n",
       "      <th>7662</th>\n",
       "      <th>False</th>\n",
       "      <th>2</th>\n",
       "      <td>10 days</td>\n",
       "    </tr>\n",
       "    <tr>\n",
       "      <th>...</th>\n",
       "      <th>...</th>\n",
       "      <th>...</th>\n",
       "      <td>...</td>\n",
       "    </tr>\n",
       "    <tr>\n",
       "      <th rowspan=\"2\" valign=\"top\">7747</th>\n",
       "      <th rowspan=\"2\" valign=\"top\">False</th>\n",
       "      <th>1</th>\n",
       "      <td>59 days</td>\n",
       "    </tr>\n",
       "    <tr>\n",
       "      <th>2</th>\n",
       "      <td>59 days</td>\n",
       "    </tr>\n",
       "    <tr>\n",
       "      <th>7760</th>\n",
       "      <th>False</th>\n",
       "      <th>2</th>\n",
       "      <td>61 days</td>\n",
       "    </tr>\n",
       "    <tr>\n",
       "      <th>7762</th>\n",
       "      <th>False</th>\n",
       "      <th>2</th>\n",
       "      <td>29 days</td>\n",
       "    </tr>\n",
       "    <tr>\n",
       "      <th>7775</th>\n",
       "      <th>False</th>\n",
       "      <th>2</th>\n",
       "      <td>29 days</td>\n",
       "    </tr>\n",
       "    <tr>\n",
       "      <th>7778</th>\n",
       "      <th>False</th>\n",
       "      <th>3</th>\n",
       "      <td>14 days</td>\n",
       "    </tr>\n",
       "    <tr>\n",
       "      <th>7782</th>\n",
       "      <th>False</th>\n",
       "      <th>2</th>\n",
       "      <td>29 days</td>\n",
       "    </tr>\n",
       "    <tr>\n",
       "      <th>7783</th>\n",
       "      <th>False</th>\n",
       "      <th>2</th>\n",
       "      <td>29 days</td>\n",
       "    </tr>\n",
       "    <tr>\n",
       "      <th>7785</th>\n",
       "      <th>False</th>\n",
       "      <th>2</th>\n",
       "      <td>24 days</td>\n",
       "    </tr>\n",
       "    <tr>\n",
       "      <th rowspan=\"2\" valign=\"top\">7812</th>\n",
       "      <th rowspan=\"2\" valign=\"top\">False</th>\n",
       "      <th>2</th>\n",
       "      <td>6 days</td>\n",
       "    </tr>\n",
       "    <tr>\n",
       "      <th>3</th>\n",
       "      <td>7 days</td>\n",
       "    </tr>\n",
       "    <tr>\n",
       "      <th>7825</th>\n",
       "      <th>False</th>\n",
       "      <th>2</th>\n",
       "      <td>80 days</td>\n",
       "    </tr>\n",
       "    <tr>\n",
       "      <th>7828</th>\n",
       "      <th>False</th>\n",
       "      <th>2</th>\n",
       "      <td>8 days</td>\n",
       "    </tr>\n",
       "    <tr>\n",
       "      <th rowspan=\"2\" valign=\"top\">7834</th>\n",
       "      <th rowspan=\"2\" valign=\"top\">False</th>\n",
       "      <th>2</th>\n",
       "      <td>12 days</td>\n",
       "    </tr>\n",
       "    <tr>\n",
       "      <th>3</th>\n",
       "      <td>18 days</td>\n",
       "    </tr>\n",
       "    <tr>\n",
       "      <th>7835</th>\n",
       "      <th>False</th>\n",
       "      <th>3</th>\n",
       "      <td>8 days</td>\n",
       "    </tr>\n",
       "    <tr>\n",
       "      <th>7836</th>\n",
       "      <th>False</th>\n",
       "      <th>2</th>\n",
       "      <td>29 days</td>\n",
       "    </tr>\n",
       "    <tr>\n",
       "      <th>7837</th>\n",
       "      <th>False</th>\n",
       "      <th>1</th>\n",
       "      <td>89 days</td>\n",
       "    </tr>\n",
       "    <tr>\n",
       "      <th>7838</th>\n",
       "      <th>False</th>\n",
       "      <th>1</th>\n",
       "      <td>243 days</td>\n",
       "    </tr>\n",
       "    <tr>\n",
       "      <th rowspan=\"2\" valign=\"top\">7846</th>\n",
       "      <th>False</th>\n",
       "      <th>2</th>\n",
       "      <td>16 days</td>\n",
       "    </tr>\n",
       "    <tr>\n",
       "      <th>True</th>\n",
       "      <th>0</th>\n",
       "      <td>16 days</td>\n",
       "    </tr>\n",
       "    <tr>\n",
       "      <th>7855</th>\n",
       "      <th>True</th>\n",
       "      <th>0</th>\n",
       "      <td>13 days</td>\n",
       "    </tr>\n",
       "    <tr>\n",
       "      <th>7861</th>\n",
       "      <th>False</th>\n",
       "      <th>2</th>\n",
       "      <td>8 days</td>\n",
       "    </tr>\n",
       "    <tr>\n",
       "      <th>7862</th>\n",
       "      <th>False</th>\n",
       "      <th>2</th>\n",
       "      <td>8 days</td>\n",
       "    </tr>\n",
       "    <tr>\n",
       "      <th rowspan=\"2\" valign=\"top\">7863</th>\n",
       "      <th rowspan=\"2\" valign=\"top\">False</th>\n",
       "      <th>2</th>\n",
       "      <td>15 days</td>\n",
       "    </tr>\n",
       "    <tr>\n",
       "      <th>3</th>\n",
       "      <td>11 days</td>\n",
       "    </tr>\n",
       "    <tr>\n",
       "      <th>7870</th>\n",
       "      <th>False</th>\n",
       "      <th>3</th>\n",
       "      <td>31 days</td>\n",
       "    </tr>\n",
       "    <tr>\n",
       "      <th rowspan=\"3\" valign=\"top\">7871</th>\n",
       "      <th rowspan=\"2\" valign=\"top\">False</th>\n",
       "      <th>2</th>\n",
       "      <td>6 days</td>\n",
       "    </tr>\n",
       "    <tr>\n",
       "      <th>3</th>\n",
       "      <td>18 days</td>\n",
       "    </tr>\n",
       "    <tr>\n",
       "      <th>True</th>\n",
       "      <th>0</th>\n",
       "      <td>6 days</td>\n",
       "    </tr>\n",
       "  </tbody>\n",
       "</table>\n",
       "<p>100 rows × 1 columns</p>\n",
       "</div>"
      ],
      "text/plain": [
       "                                  days_of_freeze\n",
       "КодКонтракта Test  Season_freeze                \n",
       "100          False 3                      6 days\n",
       "7558         False 3                     11 days\n",
       "7559         False 2                     88 days\n",
       "                   3                     58 days\n",
       "7588         False 0                     59 days\n",
       "                   2                     59 days\n",
       "7589         False 2                     17 days\n",
       "                   3                      7 days\n",
       "7590         False 2                     14 days\n",
       "7599         False 1                     89 days\n",
       "                   2                     89 days\n",
       "7601         False 2                     16 days\n",
       "                   3                     16 days\n",
       "7605         False 1                     24 days\n",
       "                   2                     24 days\n",
       "7617         False 2                     45 days\n",
       "7631         False 2                     13 days\n",
       "7639         False 2                     16 days\n",
       "7644         False 2                     23 days\n",
       "7650         False 2                     19 days\n",
       "7657         False 2                     26 days\n",
       "             True  0                     27 days\n",
       "7658         False 2                     17 days\n",
       "             True  0                     14 days\n",
       "7659         False 2                     59 days\n",
       "7660         False 2                     73 days\n",
       "7661         False 2                     15 days\n",
       "                   3                     16 days\n",
       "             True  0                     17 days\n",
       "7662         False 2                     10 days\n",
       "...                                          ...\n",
       "7747         False 1                     59 days\n",
       "                   2                     59 days\n",
       "7760         False 2                     61 days\n",
       "7762         False 2                     29 days\n",
       "7775         False 2                     29 days\n",
       "7778         False 3                     14 days\n",
       "7782         False 2                     29 days\n",
       "7783         False 2                     29 days\n",
       "7785         False 2                     24 days\n",
       "7812         False 2                      6 days\n",
       "                   3                      7 days\n",
       "7825         False 2                     80 days\n",
       "7828         False 2                      8 days\n",
       "7834         False 2                     12 days\n",
       "                   3                     18 days\n",
       "7835         False 3                      8 days\n",
       "7836         False 2                     29 days\n",
       "7837         False 1                     89 days\n",
       "7838         False 1                    243 days\n",
       "7846         False 2                     16 days\n",
       "             True  0                     16 days\n",
       "7855         True  0                     13 days\n",
       "7861         False 2                      8 days\n",
       "7862         False 2                      8 days\n",
       "7863         False 2                     15 days\n",
       "                   3                     11 days\n",
       "7870         False 3                     31 days\n",
       "7871         False 2                      6 days\n",
       "                   3                     18 days\n",
       "             True  0                      6 days\n",
       "\n",
       "[100 rows x 1 columns]"
      ]
     },
     "execution_count": 279,
     "metadata": {},
     "output_type": "execute_result"
    }
   ],
   "source": [
    "pd.DataFrame(grouped).head(100)"
   ]
  },
  {
   "cell_type": "code",
   "execution_count": 280,
   "metadata": {
    "collapsed": false
   },
   "outputs": [
    {
     "data": {
      "text/html": [
       "<div>\n",
       "<table border=\"1\" class=\"dataframe\">\n",
       "  <thead>\n",
       "    <tr style=\"text-align: right;\">\n",
       "      <th></th>\n",
       "      <th>КодКонтракта</th>\n",
       "      <th>ДатаНачала</th>\n",
       "      <th>ДатаОкончания</th>\n",
       "      <th>Test</th>\n",
       "      <th>lastday_freeze</th>\n",
       "      <th>first_freeze</th>\n",
       "      <th>days_of_freeze</th>\n",
       "      <th>first_month</th>\n",
       "      <th>Season_freeze</th>\n",
       "    </tr>\n",
       "  </thead>\n",
       "  <tbody>\n",
       "    <tr>\n",
       "      <th>35</th>\n",
       "      <td>7661</td>\n",
       "      <td>09.12.2015</td>\n",
       "      <td>26.12.2015 23:59:59</td>\n",
       "      <td>True</td>\n",
       "      <td>2015-12-26</td>\n",
       "      <td>2015-12-09</td>\n",
       "      <td>17 days</td>\n",
       "      <td>12</td>\n",
       "      <td>0</td>\n",
       "    </tr>\n",
       "    <tr>\n",
       "      <th>83922</th>\n",
       "      <td>7661</td>\n",
       "      <td>10.08.2015</td>\n",
       "      <td>25.08.2015 23:59:59</td>\n",
       "      <td>False</td>\n",
       "      <td>2015-08-25</td>\n",
       "      <td>2015-08-10</td>\n",
       "      <td>15 days</td>\n",
       "      <td>8</td>\n",
       "      <td>2</td>\n",
       "    </tr>\n",
       "    <tr>\n",
       "      <th>83923</th>\n",
       "      <td>7661</td>\n",
       "      <td>09.11.2015</td>\n",
       "      <td>15.11.2015 23:59:59</td>\n",
       "      <td>False</td>\n",
       "      <td>2015-11-15</td>\n",
       "      <td>2015-11-09</td>\n",
       "      <td>6 days</td>\n",
       "      <td>11</td>\n",
       "      <td>3</td>\n",
       "    </tr>\n",
       "    <tr>\n",
       "      <th>83924</th>\n",
       "      <td>7661</td>\n",
       "      <td>25.11.2015</td>\n",
       "      <td>05.12.2015 23:59:59</td>\n",
       "      <td>False</td>\n",
       "      <td>2015-12-05</td>\n",
       "      <td>2015-11-25</td>\n",
       "      <td>10 days</td>\n",
       "      <td>11</td>\n",
       "      <td>3</td>\n",
       "    </tr>\n",
       "  </tbody>\n",
       "</table>\n",
       "</div>"
      ],
      "text/plain": [
       "       КодКонтракта  ДатаНачала        ДатаОкончания   Test lastday_freeze  \\\n",
       "35             7661  09.12.2015  26.12.2015 23:59:59   True     2015-12-26   \n",
       "83922          7661  10.08.2015  25.08.2015 23:59:59  False     2015-08-25   \n",
       "83923          7661  09.11.2015  15.11.2015 23:59:59  False     2015-11-15   \n",
       "83924          7661  25.11.2015  05.12.2015 23:59:59  False     2015-12-05   \n",
       "\n",
       "      first_freeze  days_of_freeze  first_month  Season_freeze  \n",
       "35      2015-12-09         17 days           12              0  \n",
       "83922   2015-08-10         15 days            8              2  \n",
       "83923   2015-11-09          6 days           11              3  \n",
       "83924   2015-11-25         10 days           11              3  "
      ]
     },
     "execution_count": 280,
     "metadata": {},
     "output_type": "execute_result"
    }
   ],
   "source": [
    "clear_freeze[clear_freeze['КодКонтракта'] == 7661]"
   ]
  },
  {
   "cell_type": "code",
   "execution_count": 281,
   "metadata": {
    "collapsed": false
   },
   "outputs": [
    {
     "name": "stdout",
     "output_type": "stream",
     "text": [
      "7787\n"
     ]
    }
   ],
   "source": [
    "count = 0\n",
    "contr_good = []\n",
    "from_contracts = contracts.КодКонтракта.unique()\n",
    "for cont in clear_freeze.КодКонтракта.unique():\n",
    "    if cont in from_contracts:\n",
    "        count += 1\n",
    "        contr_good.append(cont)\n",
    "print(count)"
   ]
  },
  {
   "cell_type": "code",
   "execution_count": 282,
   "metadata": {
    "collapsed": false
   },
   "outputs": [
    {
     "data": {
      "text/plain": [
       "53795"
      ]
     },
     "execution_count": 282,
     "metadata": {},
     "output_type": "execute_result"
    }
   ],
   "source": [
    "len(clear_freeze.КодКонтракта.unique())"
   ]
  },
  {
   "cell_type": "code",
   "execution_count": 283,
   "metadata": {
    "collapsed": true
   },
   "outputs": [],
   "source": [
    "boolean = clear_freeze.КодКонтракта.apply(lambda x: x in contr_good)"
   ]
  },
  {
   "cell_type": "code",
   "execution_count": 284,
   "metadata": {
    "collapsed": false
   },
   "outputs": [],
   "source": [
    "clear_clear_freeze = clear_freeze[boolean]"
   ]
  },
  {
   "cell_type": "code",
   "execution_count": 285,
   "metadata": {
    "collapsed": false
   },
   "outputs": [
    {
     "data": {
      "text/plain": [
       "7787"
      ]
     },
     "execution_count": 285,
     "metadata": {},
     "output_type": "execute_result"
    }
   ],
   "source": [
    "len(clear_clear_freeze.КодКонтракта.unique())"
   ]
  },
  {
   "cell_type": "code",
   "execution_count": 286,
   "metadata": {
    "collapsed": false
   },
   "outputs": [
    {
     "data": {
      "text/html": [
       "<div>\n",
       "<table border=\"1\" class=\"dataframe\">\n",
       "  <thead>\n",
       "    <tr style=\"text-align: right;\">\n",
       "      <th></th>\n",
       "      <th>КодКонтракта</th>\n",
       "      <th>ДатаНачала</th>\n",
       "      <th>ДатаОкончания</th>\n",
       "      <th>Test</th>\n",
       "      <th>lastday_freeze</th>\n",
       "      <th>first_freeze</th>\n",
       "      <th>days_of_freeze</th>\n",
       "      <th>first_month</th>\n",
       "      <th>Season_freeze</th>\n",
       "    </tr>\n",
       "  </thead>\n",
       "  <tbody>\n",
       "    <tr>\n",
       "      <th>35</th>\n",
       "      <td>7661</td>\n",
       "      <td>09.12.2015</td>\n",
       "      <td>26.12.2015 23:59:59</td>\n",
       "      <td>True</td>\n",
       "      <td>2015-12-26</td>\n",
       "      <td>2015-12-09</td>\n",
       "      <td>17 days</td>\n",
       "      <td>12</td>\n",
       "      <td>0</td>\n",
       "    </tr>\n",
       "    <tr>\n",
       "      <th>43</th>\n",
       "      <td>7674</td>\n",
       "      <td>27.12.2015</td>\n",
       "      <td>07.01.2016 23:59:59</td>\n",
       "      <td>True</td>\n",
       "      <td>2016-01-07</td>\n",
       "      <td>2015-12-27</td>\n",
       "      <td>11 days</td>\n",
       "      <td>12</td>\n",
       "      <td>0</td>\n",
       "    </tr>\n",
       "    <tr>\n",
       "      <th>50</th>\n",
       "      <td>7690</td>\n",
       "      <td>20.12.2015</td>\n",
       "      <td>07.01.2016 23:59:59</td>\n",
       "      <td>True</td>\n",
       "      <td>2016-01-07</td>\n",
       "      <td>2015-12-20</td>\n",
       "      <td>18 days</td>\n",
       "      <td>12</td>\n",
       "      <td>0</td>\n",
       "    </tr>\n",
       "    <tr>\n",
       "      <th>83</th>\n",
       "      <td>7737</td>\n",
       "      <td>06.12.2015</td>\n",
       "      <td>13.12.2015 23:59:59</td>\n",
       "      <td>True</td>\n",
       "      <td>2015-12-13</td>\n",
       "      <td>2015-12-06</td>\n",
       "      <td>7 days</td>\n",
       "      <td>12</td>\n",
       "      <td>0</td>\n",
       "    </tr>\n",
       "    <tr>\n",
       "      <th>108</th>\n",
       "      <td>7846</td>\n",
       "      <td>30.12.2015</td>\n",
       "      <td>15.01.2016 23:59:59</td>\n",
       "      <td>True</td>\n",
       "      <td>2016-01-15</td>\n",
       "      <td>2015-12-30</td>\n",
       "      <td>16 days</td>\n",
       "      <td>12</td>\n",
       "      <td>0</td>\n",
       "    </tr>\n",
       "  </tbody>\n",
       "</table>\n",
       "</div>"
      ],
      "text/plain": [
       "     КодКонтракта  ДатаНачала        ДатаОкончания  Test lastday_freeze  \\\n",
       "35           7661  09.12.2015  26.12.2015 23:59:59  True     2015-12-26   \n",
       "43           7674  27.12.2015  07.01.2016 23:59:59  True     2016-01-07   \n",
       "50           7690  20.12.2015  07.01.2016 23:59:59  True     2016-01-07   \n",
       "83           7737  06.12.2015  13.12.2015 23:59:59  True     2015-12-13   \n",
       "108          7846  30.12.2015  15.01.2016 23:59:59  True     2016-01-15   \n",
       "\n",
       "    first_freeze  days_of_freeze  first_month  Season_freeze  \n",
       "35    2015-12-09         17 days           12              0  \n",
       "43    2015-12-27         11 days           12              0  \n",
       "50    2015-12-20         18 days           12              0  \n",
       "83    2015-12-06          7 days           12              0  \n",
       "108   2015-12-30         16 days           12              0  "
      ]
     },
     "execution_count": 286,
     "metadata": {},
     "output_type": "execute_result"
    }
   ],
   "source": [
    "clear_clear_freeze.head()"
   ]
  },
  {
   "cell_type": "code",
   "execution_count": 287,
   "metadata": {
    "collapsed": false
   },
   "outputs": [
    {
     "name": "stderr",
     "output_type": "stream",
     "text": [
      "C:\\Users\\Julia\\Anaconda3\\lib\\site-packages\\ipykernel\\__main__.py:1: SettingWithCopyWarning: \n",
      "A value is trying to be set on a copy of a slice from a DataFrame.\n",
      "Try using .loc[row_indexer,col_indexer] = value instead\n",
      "\n",
      "See the caveats in the documentation: http://pandas.pydata.org/pandas-docs/stable/indexing.html#indexing-view-versus-copy\n",
      "  if __name__ == '__main__':\n"
     ]
    }
   ],
   "source": [
    "clear_clear_freeze['Test_new'] = clear_clear_freeze.КодКонтракта.apply(lambda x: int(contracts.Test[contracts.КодКонтракта == x] ))"
   ]
  },
  {
   "cell_type": "code",
   "execution_count": 288,
   "metadata": {
    "collapsed": false
   },
   "outputs": [
    {
     "data": {
      "text/html": [
       "<div>\n",
       "<table border=\"1\" class=\"dataframe\">\n",
       "  <thead>\n",
       "    <tr style=\"text-align: right;\">\n",
       "      <th></th>\n",
       "      <th>КодКонтракта</th>\n",
       "      <th>ДатаНачала</th>\n",
       "      <th>ДатаОкончания</th>\n",
       "      <th>Test</th>\n",
       "      <th>lastday_freeze</th>\n",
       "      <th>first_freeze</th>\n",
       "      <th>days_of_freeze</th>\n",
       "      <th>first_month</th>\n",
       "      <th>Season_freeze</th>\n",
       "      <th>Test_new</th>\n",
       "    </tr>\n",
       "  </thead>\n",
       "  <tbody>\n",
       "    <tr>\n",
       "      <th>35</th>\n",
       "      <td>7661</td>\n",
       "      <td>09.12.2015</td>\n",
       "      <td>26.12.2015 23:59:59</td>\n",
       "      <td>True</td>\n",
       "      <td>2015-12-26</td>\n",
       "      <td>2015-12-09</td>\n",
       "      <td>17 days</td>\n",
       "      <td>12</td>\n",
       "      <td>0</td>\n",
       "      <td>1</td>\n",
       "    </tr>\n",
       "    <tr>\n",
       "      <th>43</th>\n",
       "      <td>7674</td>\n",
       "      <td>27.12.2015</td>\n",
       "      <td>07.01.2016 23:59:59</td>\n",
       "      <td>True</td>\n",
       "      <td>2016-01-07</td>\n",
       "      <td>2015-12-27</td>\n",
       "      <td>11 days</td>\n",
       "      <td>12</td>\n",
       "      <td>0</td>\n",
       "      <td>1</td>\n",
       "    </tr>\n",
       "    <tr>\n",
       "      <th>50</th>\n",
       "      <td>7690</td>\n",
       "      <td>20.12.2015</td>\n",
       "      <td>07.01.2016 23:59:59</td>\n",
       "      <td>True</td>\n",
       "      <td>2016-01-07</td>\n",
       "      <td>2015-12-20</td>\n",
       "      <td>18 days</td>\n",
       "      <td>12</td>\n",
       "      <td>0</td>\n",
       "      <td>1</td>\n",
       "    </tr>\n",
       "    <tr>\n",
       "      <th>83</th>\n",
       "      <td>7737</td>\n",
       "      <td>06.12.2015</td>\n",
       "      <td>13.12.2015 23:59:59</td>\n",
       "      <td>True</td>\n",
       "      <td>2015-12-13</td>\n",
       "      <td>2015-12-06</td>\n",
       "      <td>7 days</td>\n",
       "      <td>12</td>\n",
       "      <td>0</td>\n",
       "      <td>0</td>\n",
       "    </tr>\n",
       "    <tr>\n",
       "      <th>108</th>\n",
       "      <td>7846</td>\n",
       "      <td>30.12.2015</td>\n",
       "      <td>15.01.2016 23:59:59</td>\n",
       "      <td>True</td>\n",
       "      <td>2016-01-15</td>\n",
       "      <td>2015-12-30</td>\n",
       "      <td>16 days</td>\n",
       "      <td>12</td>\n",
       "      <td>0</td>\n",
       "      <td>1</td>\n",
       "    </tr>\n",
       "    <tr>\n",
       "      <th>145</th>\n",
       "      <td>7921</td>\n",
       "      <td>11.01.2016</td>\n",
       "      <td>19.01.2016 23:59:59</td>\n",
       "      <td>True</td>\n",
       "      <td>2016-01-19</td>\n",
       "      <td>2016-01-11</td>\n",
       "      <td>8 days</td>\n",
       "      <td>1</td>\n",
       "      <td>0</td>\n",
       "      <td>1</td>\n",
       "    </tr>\n",
       "    <tr>\n",
       "      <th>245</th>\n",
       "      <td>8151</td>\n",
       "      <td>18.12.2015</td>\n",
       "      <td>24.12.2015 23:59:59</td>\n",
       "      <td>True</td>\n",
       "      <td>2015-12-24</td>\n",
       "      <td>2015-12-18</td>\n",
       "      <td>6 days</td>\n",
       "      <td>12</td>\n",
       "      <td>0</td>\n",
       "      <td>0</td>\n",
       "    </tr>\n",
       "    <tr>\n",
       "      <th>247</th>\n",
       "      <td>8153</td>\n",
       "      <td>25.12.2015</td>\n",
       "      <td>12.01.2016 23:59:59</td>\n",
       "      <td>True</td>\n",
       "      <td>2016-01-12</td>\n",
       "      <td>2015-12-25</td>\n",
       "      <td>18 days</td>\n",
       "      <td>12</td>\n",
       "      <td>0</td>\n",
       "      <td>1</td>\n",
       "    </tr>\n",
       "    <tr>\n",
       "      <th>332</th>\n",
       "      <td>8312</td>\n",
       "      <td>03.12.2015</td>\n",
       "      <td>09.12.2015 23:59:59</td>\n",
       "      <td>True</td>\n",
       "      <td>2015-12-09</td>\n",
       "      <td>2015-12-03</td>\n",
       "      <td>6 days</td>\n",
       "      <td>12</td>\n",
       "      <td>0</td>\n",
       "      <td>1</td>\n",
       "    </tr>\n",
       "    <tr>\n",
       "      <th>355</th>\n",
       "      <td>8351</td>\n",
       "      <td>27.12.2015</td>\n",
       "      <td>15.01.2016 23:59:59</td>\n",
       "      <td>True</td>\n",
       "      <td>2016-01-15</td>\n",
       "      <td>2015-12-27</td>\n",
       "      <td>19 days</td>\n",
       "      <td>12</td>\n",
       "      <td>0</td>\n",
       "      <td>1</td>\n",
       "    </tr>\n",
       "    <tr>\n",
       "      <th>417</th>\n",
       "      <td>8426</td>\n",
       "      <td>23.02.2016</td>\n",
       "      <td>29.02.2016 23:59:59</td>\n",
       "      <td>True</td>\n",
       "      <td>2016-02-29</td>\n",
       "      <td>2016-02-23</td>\n",
       "      <td>6 days</td>\n",
       "      <td>2</td>\n",
       "      <td>0</td>\n",
       "      <td>1</td>\n",
       "    </tr>\n",
       "    <tr>\n",
       "      <th>418</th>\n",
       "      <td>8426</td>\n",
       "      <td>30.12.2015</td>\n",
       "      <td>10.01.2016 23:59:59</td>\n",
       "      <td>True</td>\n",
       "      <td>2016-01-10</td>\n",
       "      <td>2015-12-30</td>\n",
       "      <td>11 days</td>\n",
       "      <td>12</td>\n",
       "      <td>0</td>\n",
       "      <td>1</td>\n",
       "    </tr>\n",
       "    <tr>\n",
       "      <th>425</th>\n",
       "      <td>8432</td>\n",
       "      <td>07.12.2015</td>\n",
       "      <td>14.12.2015 23:59:59</td>\n",
       "      <td>True</td>\n",
       "      <td>2015-12-14</td>\n",
       "      <td>2015-12-07</td>\n",
       "      <td>7 days</td>\n",
       "      <td>12</td>\n",
       "      <td>0</td>\n",
       "      <td>1</td>\n",
       "    </tr>\n",
       "    <tr>\n",
       "      <th>437</th>\n",
       "      <td>8451</td>\n",
       "      <td>08.12.2015</td>\n",
       "      <td>21.12.2015 23:59:59</td>\n",
       "      <td>True</td>\n",
       "      <td>2015-12-21</td>\n",
       "      <td>2015-12-08</td>\n",
       "      <td>13 days</td>\n",
       "      <td>12</td>\n",
       "      <td>0</td>\n",
       "      <td>1</td>\n",
       "    </tr>\n",
       "    <tr>\n",
       "      <th>446</th>\n",
       "      <td>8462</td>\n",
       "      <td>10.12.2015</td>\n",
       "      <td>16.12.2015 23:59:59</td>\n",
       "      <td>True</td>\n",
       "      <td>2015-12-16</td>\n",
       "      <td>2015-12-10</td>\n",
       "      <td>6 days</td>\n",
       "      <td>12</td>\n",
       "      <td>0</td>\n",
       "      <td>0</td>\n",
       "    </tr>\n",
       "  </tbody>\n",
       "</table>\n",
       "</div>"
      ],
      "text/plain": [
       "     КодКонтракта  ДатаНачала        ДатаОкончания  Test lastday_freeze  \\\n",
       "35           7661  09.12.2015  26.12.2015 23:59:59  True     2015-12-26   \n",
       "43           7674  27.12.2015  07.01.2016 23:59:59  True     2016-01-07   \n",
       "50           7690  20.12.2015  07.01.2016 23:59:59  True     2016-01-07   \n",
       "83           7737  06.12.2015  13.12.2015 23:59:59  True     2015-12-13   \n",
       "108          7846  30.12.2015  15.01.2016 23:59:59  True     2016-01-15   \n",
       "145          7921  11.01.2016  19.01.2016 23:59:59  True     2016-01-19   \n",
       "245          8151  18.12.2015  24.12.2015 23:59:59  True     2015-12-24   \n",
       "247          8153  25.12.2015  12.01.2016 23:59:59  True     2016-01-12   \n",
       "332          8312  03.12.2015  09.12.2015 23:59:59  True     2015-12-09   \n",
       "355          8351  27.12.2015  15.01.2016 23:59:59  True     2016-01-15   \n",
       "417          8426  23.02.2016  29.02.2016 23:59:59  True     2016-02-29   \n",
       "418          8426  30.12.2015  10.01.2016 23:59:59  True     2016-01-10   \n",
       "425          8432  07.12.2015  14.12.2015 23:59:59  True     2015-12-14   \n",
       "437          8451  08.12.2015  21.12.2015 23:59:59  True     2015-12-21   \n",
       "446          8462  10.12.2015  16.12.2015 23:59:59  True     2015-12-16   \n",
       "\n",
       "    first_freeze  days_of_freeze  first_month  Season_freeze  Test_new  \n",
       "35    2015-12-09         17 days           12              0         1  \n",
       "43    2015-12-27         11 days           12              0         1  \n",
       "50    2015-12-20         18 days           12              0         1  \n",
       "83    2015-12-06          7 days           12              0         0  \n",
       "108   2015-12-30         16 days           12              0         1  \n",
       "145   2016-01-11          8 days            1              0         1  \n",
       "245   2015-12-18          6 days           12              0         0  \n",
       "247   2015-12-25         18 days           12              0         1  \n",
       "332   2015-12-03          6 days           12              0         1  \n",
       "355   2015-12-27         19 days           12              0         1  \n",
       "417   2016-02-23          6 days            2              0         1  \n",
       "418   2015-12-30         11 days           12              0         1  \n",
       "425   2015-12-07          7 days           12              0         1  \n",
       "437   2015-12-08         13 days           12              0         1  \n",
       "446   2015-12-10          6 days           12              0         0  "
      ]
     },
     "execution_count": 288,
     "metadata": {},
     "output_type": "execute_result"
    }
   ],
   "source": [
    "clear_clear_freeze.head(15)"
   ]
  },
  {
   "cell_type": "code",
   "execution_count": 289,
   "metadata": {
    "collapsed": false
   },
   "outputs": [
    {
     "name": "stderr",
     "output_type": "stream",
     "text": [
      "C:\\Users\\Julia\\Anaconda3\\lib\\site-packages\\ipykernel\\__main__.py:1: SettingWithCopyWarning: \n",
      "A value is trying to be set on a copy of a slice from a DataFrame\n",
      "\n",
      "See the caveats in the documentation: http://pandas.pydata.org/pandas-docs/stable/indexing.html#indexing-view-versus-copy\n",
      "  if __name__ == '__main__':\n"
     ]
    }
   ],
   "source": [
    "clear_clear_freeze.drop([\"Test\"], axis = 1, inplace = True)"
   ]
  },
  {
   "cell_type": "code",
   "execution_count": 290,
   "metadata": {
    "collapsed": false
   },
   "outputs": [
    {
     "name": "stderr",
     "output_type": "stream",
     "text": [
      "C:\\Users\\Julia\\Anaconda3\\lib\\site-packages\\ipykernel\\__main__.py:1: SettingWithCopyWarning: \n",
      "A value is trying to be set on a copy of a slice from a DataFrame.\n",
      "Try using .loc[row_indexer,col_indexer] = value instead\n",
      "\n",
      "See the caveats in the documentation: http://pandas.pydata.org/pandas-docs/stable/indexing.html#indexing-view-versus-copy\n",
      "  if __name__ == '__main__':\n"
     ]
    }
   ],
   "source": [
    "clear_clear_freeze['Test']= clear_clear_freeze['Test_new'].astype(bool)"
   ]
  },
  {
   "cell_type": "code",
   "execution_count": 291,
   "metadata": {
    "collapsed": false
   },
   "outputs": [
    {
     "name": "stderr",
     "output_type": "stream",
     "text": [
      "C:\\Users\\Julia\\Anaconda3\\lib\\site-packages\\ipykernel\\__main__.py:1: SettingWithCopyWarning: \n",
      "A value is trying to be set on a copy of a slice from a DataFrame\n",
      "\n",
      "See the caveats in the documentation: http://pandas.pydata.org/pandas-docs/stable/indexing.html#indexing-view-versus-copy\n",
      "  if __name__ == '__main__':\n"
     ]
    }
   ],
   "source": [
    "clear_clear_freeze.drop([\"Test_new\"], axis = 1, inplace = True)"
   ]
  },
  {
   "cell_type": "code",
   "execution_count": 292,
   "metadata": {
    "collapsed": false
   },
   "outputs": [
    {
     "data": {
      "text/html": [
       "<div>\n",
       "<table border=\"1\" class=\"dataframe\">\n",
       "  <thead>\n",
       "    <tr style=\"text-align: right;\">\n",
       "      <th></th>\n",
       "      <th>КодКонтракта</th>\n",
       "      <th>ДатаНачала</th>\n",
       "      <th>ДатаОкончания</th>\n",
       "      <th>lastday_freeze</th>\n",
       "      <th>first_freeze</th>\n",
       "      <th>days_of_freeze</th>\n",
       "      <th>first_month</th>\n",
       "      <th>Season_freeze</th>\n",
       "      <th>Test</th>\n",
       "    </tr>\n",
       "  </thead>\n",
       "  <tbody>\n",
       "    <tr>\n",
       "      <th>35</th>\n",
       "      <td>7661</td>\n",
       "      <td>09.12.2015</td>\n",
       "      <td>26.12.2015 23:59:59</td>\n",
       "      <td>2015-12-26</td>\n",
       "      <td>2015-12-09</td>\n",
       "      <td>17 days</td>\n",
       "      <td>12</td>\n",
       "      <td>0</td>\n",
       "      <td>True</td>\n",
       "    </tr>\n",
       "    <tr>\n",
       "      <th>43</th>\n",
       "      <td>7674</td>\n",
       "      <td>27.12.2015</td>\n",
       "      <td>07.01.2016 23:59:59</td>\n",
       "      <td>2016-01-07</td>\n",
       "      <td>2015-12-27</td>\n",
       "      <td>11 days</td>\n",
       "      <td>12</td>\n",
       "      <td>0</td>\n",
       "      <td>True</td>\n",
       "    </tr>\n",
       "    <tr>\n",
       "      <th>50</th>\n",
       "      <td>7690</td>\n",
       "      <td>20.12.2015</td>\n",
       "      <td>07.01.2016 23:59:59</td>\n",
       "      <td>2016-01-07</td>\n",
       "      <td>2015-12-20</td>\n",
       "      <td>18 days</td>\n",
       "      <td>12</td>\n",
       "      <td>0</td>\n",
       "      <td>True</td>\n",
       "    </tr>\n",
       "    <tr>\n",
       "      <th>83</th>\n",
       "      <td>7737</td>\n",
       "      <td>06.12.2015</td>\n",
       "      <td>13.12.2015 23:59:59</td>\n",
       "      <td>2015-12-13</td>\n",
       "      <td>2015-12-06</td>\n",
       "      <td>7 days</td>\n",
       "      <td>12</td>\n",
       "      <td>0</td>\n",
       "      <td>False</td>\n",
       "    </tr>\n",
       "    <tr>\n",
       "      <th>108</th>\n",
       "      <td>7846</td>\n",
       "      <td>30.12.2015</td>\n",
       "      <td>15.01.2016 23:59:59</td>\n",
       "      <td>2016-01-15</td>\n",
       "      <td>2015-12-30</td>\n",
       "      <td>16 days</td>\n",
       "      <td>12</td>\n",
       "      <td>0</td>\n",
       "      <td>True</td>\n",
       "    </tr>\n",
       "  </tbody>\n",
       "</table>\n",
       "</div>"
      ],
      "text/plain": [
       "     КодКонтракта  ДатаНачала        ДатаОкончания lastday_freeze  \\\n",
       "35           7661  09.12.2015  26.12.2015 23:59:59     2015-12-26   \n",
       "43           7674  27.12.2015  07.01.2016 23:59:59     2016-01-07   \n",
       "50           7690  20.12.2015  07.01.2016 23:59:59     2016-01-07   \n",
       "83           7737  06.12.2015  13.12.2015 23:59:59     2015-12-13   \n",
       "108          7846  30.12.2015  15.01.2016 23:59:59     2016-01-15   \n",
       "\n",
       "    first_freeze  days_of_freeze  first_month  Season_freeze   Test  \n",
       "35    2015-12-09         17 days           12              0   True  \n",
       "43    2015-12-27         11 days           12              0   True  \n",
       "50    2015-12-20         18 days           12              0   True  \n",
       "83    2015-12-06          7 days           12              0  False  \n",
       "108   2015-12-30         16 days           12              0   True  "
      ]
     },
     "execution_count": 292,
     "metadata": {},
     "output_type": "execute_result"
    }
   ],
   "source": [
    "clear_clear_freeze.head()"
   ]
  },
  {
   "cell_type": "code",
   "execution_count": 293,
   "metadata": {
    "collapsed": false
   },
   "outputs": [],
   "source": [
    "grouped = clear_clear_freeze['days_of_freeze'].groupby([clear_clear_freeze['КодКонтракта'],clear_clear_freeze['Test'],clear_clear_freeze['Season_freeze'],\n",
    "                                                        clear_clear_freeze['first_month']]).sum()"
   ]
  },
  {
   "cell_type": "code",
   "execution_count": 294,
   "metadata": {
    "collapsed": false
   },
   "outputs": [],
   "source": [
    "new_freeze = pd.DataFrame(grouped.reset_index())"
   ]
  },
  {
   "cell_type": "code",
   "execution_count": 295,
   "metadata": {
    "collapsed": false
   },
   "outputs": [
    {
     "data": {
      "text/html": [
       "<div>\n",
       "<table border=\"1\" class=\"dataframe\">\n",
       "  <thead>\n",
       "    <tr style=\"text-align: right;\">\n",
       "      <th></th>\n",
       "      <th>КодКонтракта</th>\n",
       "      <th>Test</th>\n",
       "      <th>Season_freeze</th>\n",
       "      <th>first_month</th>\n",
       "      <th>days_of_freeze</th>\n",
       "    </tr>\n",
       "  </thead>\n",
       "  <tbody>\n",
       "    <tr>\n",
       "      <th>0</th>\n",
       "      <td>7601</td>\n",
       "      <td>False</td>\n",
       "      <td>2</td>\n",
       "      <td>8</td>\n",
       "      <td>16 days</td>\n",
       "    </tr>\n",
       "    <tr>\n",
       "      <th>1</th>\n",
       "      <td>7601</td>\n",
       "      <td>False</td>\n",
       "      <td>3</td>\n",
       "      <td>9</td>\n",
       "      <td>10 days</td>\n",
       "    </tr>\n",
       "    <tr>\n",
       "      <th>2</th>\n",
       "      <td>7601</td>\n",
       "      <td>False</td>\n",
       "      <td>3</td>\n",
       "      <td>10</td>\n",
       "      <td>6 days</td>\n",
       "    </tr>\n",
       "    <tr>\n",
       "      <th>3</th>\n",
       "      <td>7605</td>\n",
       "      <td>False</td>\n",
       "      <td>1</td>\n",
       "      <td>5</td>\n",
       "      <td>24 days</td>\n",
       "    </tr>\n",
       "    <tr>\n",
       "      <th>4</th>\n",
       "      <td>7605</td>\n",
       "      <td>False</td>\n",
       "      <td>2</td>\n",
       "      <td>7</td>\n",
       "      <td>24 days</td>\n",
       "    </tr>\n",
       "  </tbody>\n",
       "</table>\n",
       "</div>"
      ],
      "text/plain": [
       "   КодКонтракта   Test  Season_freeze  first_month  days_of_freeze\n",
       "0          7601  False              2            8         16 days\n",
       "1          7601  False              3            9         10 days\n",
       "2          7601  False              3           10          6 days\n",
       "3          7605  False              1            5         24 days\n",
       "4          7605  False              2            7         24 days"
      ]
     },
     "execution_count": 295,
     "metadata": {},
     "output_type": "execute_result"
    }
   ],
   "source": [
    "new_freeze.head()"
   ]
  },
  {
   "cell_type": "code",
   "execution_count": 296,
   "metadata": {
    "collapsed": false
   },
   "outputs": [
    {
     "data": {
      "text/plain": [
       "11266"
      ]
     },
     "execution_count": 296,
     "metadata": {},
     "output_type": "execute_result"
    }
   ],
   "source": [
    "len(new_freeze)"
   ]
  },
  {
   "cell_type": "code",
   "execution_count": 297,
   "metadata": {
    "collapsed": false
   },
   "outputs": [],
   "source": [
    "data = pd.DataFrame()"
   ]
  },
  {
   "cell_type": "code",
   "execution_count": 298,
   "metadata": {
    "collapsed": false
   },
   "outputs": [
    {
     "data": {
      "text/plain": [
       "16"
      ]
     },
     "execution_count": 298,
     "metadata": {},
     "output_type": "execute_result"
    }
   ],
   "source": [
    "new_freeze.loc[0, 'days_of_freeze'].days"
   ]
  },
  {
   "cell_type": "code",
   "execution_count": 299,
   "metadata": {
    "collapsed": false
   },
   "outputs": [],
   "source": [
    "\n",
    "for row in range(0, len(new_freeze)):\n",
    "    if new_freeze.loc[row, 'Season_freeze'] == 2:\n",
    "        data.loc[row, \"Summer\"] = new_freeze.loc[row, 'days_of_freeze'].days\n",
    "        data.loc[row, \"Winter\"] = 0\n",
    "        data.loc[row, \"Spring\"] = 0\n",
    "        data.loc[row, \"Autumn\"] = 0\n",
    "    elif new_freeze.loc[row, 'Season_freeze'] == 0:\n",
    "        data.loc[row, \"Winter\"] = new_freeze.loc[row, 'days_of_freeze'].days\n",
    "        data.loc[row, \"Summer\"] = 0\n",
    "        data.loc[row, \"Spring\"] = 0\n",
    "        data.loc[row, \"Autumn\"] = 0\n",
    "    elif new_freeze.loc[row, 'Season_freeze'] == 1:\n",
    "        data.loc[row, \"Spring\"] = new_freeze.loc[row, 'days_of_freeze'].days\n",
    "        data.loc[row, \"Summer\"] = 0\n",
    "        data.loc[row, \"Winter\"] = 0\n",
    "        data.loc[row, \"Autumn\"] = 0\n",
    "    else:\n",
    "        data.loc[row, \"Autumn\"] = new_freeze.loc[row, 'days_of_freeze'].days\n",
    "        data.loc[row, \"Summer\"] = 0\n",
    "        data.loc[row, \"Winter\"] = 0\n",
    "        data.loc[row, \"Spring\"] = 0\n",
    "    "
   ]
  },
  {
   "cell_type": "code",
   "execution_count": 300,
   "metadata": {
    "collapsed": false
   },
   "outputs": [
    {
     "data": {
      "text/html": [
       "<div>\n",
       "<table border=\"1\" class=\"dataframe\">\n",
       "  <thead>\n",
       "    <tr style=\"text-align: right;\">\n",
       "      <th></th>\n",
       "      <th>Summer</th>\n",
       "      <th>Winter</th>\n",
       "      <th>Spring</th>\n",
       "      <th>Autumn</th>\n",
       "    </tr>\n",
       "  </thead>\n",
       "  <tbody>\n",
       "    <tr>\n",
       "      <th>0</th>\n",
       "      <td>16</td>\n",
       "      <td>0</td>\n",
       "      <td>0</td>\n",
       "      <td>0</td>\n",
       "    </tr>\n",
       "    <tr>\n",
       "      <th>1</th>\n",
       "      <td>0</td>\n",
       "      <td>0</td>\n",
       "      <td>0</td>\n",
       "      <td>10</td>\n",
       "    </tr>\n",
       "    <tr>\n",
       "      <th>2</th>\n",
       "      <td>0</td>\n",
       "      <td>0</td>\n",
       "      <td>0</td>\n",
       "      <td>6</td>\n",
       "    </tr>\n",
       "    <tr>\n",
       "      <th>3</th>\n",
       "      <td>0</td>\n",
       "      <td>0</td>\n",
       "      <td>24</td>\n",
       "      <td>0</td>\n",
       "    </tr>\n",
       "    <tr>\n",
       "      <th>4</th>\n",
       "      <td>24</td>\n",
       "      <td>0</td>\n",
       "      <td>0</td>\n",
       "      <td>0</td>\n",
       "    </tr>\n",
       "  </tbody>\n",
       "</table>\n",
       "</div>"
      ],
      "text/plain": [
       "   Summer  Winter  Spring  Autumn\n",
       "0      16       0       0       0\n",
       "1       0       0       0      10\n",
       "2       0       0       0       6\n",
       "3       0       0      24       0\n",
       "4      24       0       0       0"
      ]
     },
     "execution_count": 300,
     "metadata": {},
     "output_type": "execute_result"
    }
   ],
   "source": [
    "data.head()"
   ]
  },
  {
   "cell_type": "code",
   "execution_count": 301,
   "metadata": {
    "collapsed": false
   },
   "outputs": [
    {
     "data": {
      "text/plain": [
       "11266"
      ]
     },
     "execution_count": 301,
     "metadata": {},
     "output_type": "execute_result"
    }
   ],
   "source": [
    "len(data)"
   ]
  },
  {
   "cell_type": "code",
   "execution_count": 302,
   "metadata": {
    "collapsed": false
   },
   "outputs": [
    {
     "data": {
      "text/plain": [
       "11266"
      ]
     },
     "execution_count": 302,
     "metadata": {},
     "output_type": "execute_result"
    }
   ],
   "source": [
    "len(new_freeze)"
   ]
  },
  {
   "cell_type": "markdown",
   "metadata": {},
   "source": [
    "Соединяем два дата фрейма"
   ]
  },
  {
   "cell_type": "code",
   "execution_count": 305,
   "metadata": {
    "collapsed": true
   },
   "outputs": [],
   "source": [
    "final_freeze = new_freeze"
   ]
  },
  {
   "cell_type": "code",
   "execution_count": 306,
   "metadata": {
    "collapsed": false
   },
   "outputs": [],
   "source": [
    "final_freeze['Summer'] = data['Summer']\n",
    "final_freeze['Winter'] = data['Winter']\n",
    "final_freeze['Autumn'] = data['Autumn']\n",
    "final_freeze['Spring'] = data['Spring']"
   ]
  },
  {
   "cell_type": "code",
   "execution_count": 307,
   "metadata": {
    "collapsed": false
   },
   "outputs": [
    {
     "data": {
      "text/html": [
       "<div>\n",
       "<table border=\"1\" class=\"dataframe\">\n",
       "  <thead>\n",
       "    <tr style=\"text-align: right;\">\n",
       "      <th></th>\n",
       "      <th>КодКонтракта</th>\n",
       "      <th>Test</th>\n",
       "      <th>Season_freeze</th>\n",
       "      <th>first_month</th>\n",
       "      <th>days_of_freeze</th>\n",
       "      <th>Summer</th>\n",
       "      <th>Winter</th>\n",
       "      <th>Autumn</th>\n",
       "      <th>Spring</th>\n",
       "    </tr>\n",
       "  </thead>\n",
       "  <tbody>\n",
       "    <tr>\n",
       "      <th>0</th>\n",
       "      <td>7601</td>\n",
       "      <td>False</td>\n",
       "      <td>2</td>\n",
       "      <td>8</td>\n",
       "      <td>16 days</td>\n",
       "      <td>16</td>\n",
       "      <td>0</td>\n",
       "      <td>0</td>\n",
       "      <td>0</td>\n",
       "    </tr>\n",
       "    <tr>\n",
       "      <th>1</th>\n",
       "      <td>7601</td>\n",
       "      <td>False</td>\n",
       "      <td>3</td>\n",
       "      <td>9</td>\n",
       "      <td>10 days</td>\n",
       "      <td>0</td>\n",
       "      <td>0</td>\n",
       "      <td>10</td>\n",
       "      <td>0</td>\n",
       "    </tr>\n",
       "    <tr>\n",
       "      <th>2</th>\n",
       "      <td>7601</td>\n",
       "      <td>False</td>\n",
       "      <td>3</td>\n",
       "      <td>10</td>\n",
       "      <td>6 days</td>\n",
       "      <td>0</td>\n",
       "      <td>0</td>\n",
       "      <td>6</td>\n",
       "      <td>0</td>\n",
       "    </tr>\n",
       "    <tr>\n",
       "      <th>3</th>\n",
       "      <td>7605</td>\n",
       "      <td>False</td>\n",
       "      <td>1</td>\n",
       "      <td>5</td>\n",
       "      <td>24 days</td>\n",
       "      <td>0</td>\n",
       "      <td>0</td>\n",
       "      <td>0</td>\n",
       "      <td>24</td>\n",
       "    </tr>\n",
       "    <tr>\n",
       "      <th>4</th>\n",
       "      <td>7605</td>\n",
       "      <td>False</td>\n",
       "      <td>2</td>\n",
       "      <td>7</td>\n",
       "      <td>24 days</td>\n",
       "      <td>24</td>\n",
       "      <td>0</td>\n",
       "      <td>0</td>\n",
       "      <td>0</td>\n",
       "    </tr>\n",
       "    <tr>\n",
       "      <th>5</th>\n",
       "      <td>7639</td>\n",
       "      <td>False</td>\n",
       "      <td>2</td>\n",
       "      <td>7</td>\n",
       "      <td>16 days</td>\n",
       "      <td>16</td>\n",
       "      <td>0</td>\n",
       "      <td>0</td>\n",
       "      <td>0</td>\n",
       "    </tr>\n",
       "    <tr>\n",
       "      <th>6</th>\n",
       "      <td>7661</td>\n",
       "      <td>True</td>\n",
       "      <td>0</td>\n",
       "      <td>12</td>\n",
       "      <td>17 days</td>\n",
       "      <td>0</td>\n",
       "      <td>17</td>\n",
       "      <td>0</td>\n",
       "      <td>0</td>\n",
       "    </tr>\n",
       "    <tr>\n",
       "      <th>7</th>\n",
       "      <td>7661</td>\n",
       "      <td>True</td>\n",
       "      <td>2</td>\n",
       "      <td>8</td>\n",
       "      <td>15 days</td>\n",
       "      <td>15</td>\n",
       "      <td>0</td>\n",
       "      <td>0</td>\n",
       "      <td>0</td>\n",
       "    </tr>\n",
       "    <tr>\n",
       "      <th>8</th>\n",
       "      <td>7661</td>\n",
       "      <td>True</td>\n",
       "      <td>3</td>\n",
       "      <td>11</td>\n",
       "      <td>16 days</td>\n",
       "      <td>0</td>\n",
       "      <td>0</td>\n",
       "      <td>16</td>\n",
       "      <td>0</td>\n",
       "    </tr>\n",
       "    <tr>\n",
       "      <th>9</th>\n",
       "      <td>7662</td>\n",
       "      <td>False</td>\n",
       "      <td>2</td>\n",
       "      <td>8</td>\n",
       "      <td>10 days</td>\n",
       "      <td>10</td>\n",
       "      <td>0</td>\n",
       "      <td>0</td>\n",
       "      <td>0</td>\n",
       "    </tr>\n",
       "  </tbody>\n",
       "</table>\n",
       "</div>"
      ],
      "text/plain": [
       "   КодКонтракта   Test  Season_freeze  first_month  days_of_freeze  Summer  \\\n",
       "0          7601  False              2            8         16 days      16   \n",
       "1          7601  False              3            9         10 days       0   \n",
       "2          7601  False              3           10          6 days       0   \n",
       "3          7605  False              1            5         24 days       0   \n",
       "4          7605  False              2            7         24 days      24   \n",
       "5          7639  False              2            7         16 days      16   \n",
       "6          7661   True              0           12         17 days       0   \n",
       "7          7661   True              2            8         15 days      15   \n",
       "8          7661   True              3           11         16 days       0   \n",
       "9          7662  False              2            8         10 days      10   \n",
       "\n",
       "   Winter  Autumn  Spring  \n",
       "0       0       0       0  \n",
       "1       0      10       0  \n",
       "2       0       6       0  \n",
       "3       0       0      24  \n",
       "4       0       0       0  \n",
       "5       0       0       0  \n",
       "6      17       0       0  \n",
       "7       0       0       0  \n",
       "8       0      16       0  \n",
       "9       0       0       0  "
      ]
     },
     "execution_count": 307,
     "metadata": {},
     "output_type": "execute_result"
    }
   ],
   "source": [
    "final_freeze.head(10)"
   ]
  },
  {
   "cell_type": "code",
   "execution_count": 309,
   "metadata": {
    "collapsed": false
   },
   "outputs": [
    {
     "data": {
      "text/plain": [
       "16"
      ]
     },
     "execution_count": 309,
     "metadata": {},
     "output_type": "execute_result"
    }
   ],
   "source": [
    "final_freeze.drop([])"
   ]
  },
  {
   "cell_type": "code",
   "execution_count": 311,
   "metadata": {
    "collapsed": false
   },
   "outputs": [
    {
     "data": {
      "text/plain": [
       "<matplotlib.axes._subplots.AxesSubplot at 0xf666c03668>"
      ]
     },
     "execution_count": 311,
     "metadata": {},
     "output_type": "execute_result"
    },
    {
     "data": {
      "image/png": "[encoded data removed]",
      "text/plain": [
       "<matplotlib.figure.Figure at 0xf62c1eb748>"
      ]
     },
     "metadata": {},
     "output_type": "display_data"
    }
   ],
   "source": [
    "final_freeze.first_month.hist(bins = 12)"
   ]
  },
  {
   "cell_type": "code",
   "execution_count": 322,
   "metadata": {
    "collapsed": true
   },
   "outputs": [],
   "source": [
    "final_freeze.drop(['Season_freeze'], axis=1, inplace = True)"
   ]
  },
  {
   "cell_type": "code",
   "execution_count": 330,
   "metadata": {
    "collapsed": true
   },
   "outputs": [],
   "source": [
    "final_freeze.drop(['first_month'], axis=1, inplace = True)"
   ]
  },
  {
   "cell_type": "code",
   "execution_count": 335,
   "metadata": {
    "collapsed": false
   },
   "outputs": [
    {
     "data": {
      "text/html": [
       "<div>\n",
       "<table border=\"1\" class=\"dataframe\">\n",
       "  <thead>\n",
       "    <tr style=\"text-align: right;\">\n",
       "      <th></th>\n",
       "      <th>КодКонтракта</th>\n",
       "      <th>Test</th>\n",
       "      <th>days_of_freeze</th>\n",
       "      <th>Summer</th>\n",
       "      <th>Winter</th>\n",
       "      <th>Autumn</th>\n",
       "      <th>Spring</th>\n",
       "    </tr>\n",
       "  </thead>\n",
       "  <tbody>\n",
       "    <tr>\n",
       "      <th>0</th>\n",
       "      <td>7601</td>\n",
       "      <td>False</td>\n",
       "      <td>16 days</td>\n",
       "      <td>16</td>\n",
       "      <td>0</td>\n",
       "      <td>0</td>\n",
       "      <td>0</td>\n",
       "    </tr>\n",
       "    <tr>\n",
       "      <th>1</th>\n",
       "      <td>7601</td>\n",
       "      <td>False</td>\n",
       "      <td>10 days</td>\n",
       "      <td>0</td>\n",
       "      <td>0</td>\n",
       "      <td>10</td>\n",
       "      <td>0</td>\n",
       "    </tr>\n",
       "    <tr>\n",
       "      <th>2</th>\n",
       "      <td>7601</td>\n",
       "      <td>False</td>\n",
       "      <td>6 days</td>\n",
       "      <td>0</td>\n",
       "      <td>0</td>\n",
       "      <td>6</td>\n",
       "      <td>0</td>\n",
       "    </tr>\n",
       "    <tr>\n",
       "      <th>3</th>\n",
       "      <td>7605</td>\n",
       "      <td>False</td>\n",
       "      <td>24 days</td>\n",
       "      <td>0</td>\n",
       "      <td>0</td>\n",
       "      <td>0</td>\n",
       "      <td>24</td>\n",
       "    </tr>\n",
       "    <tr>\n",
       "      <th>4</th>\n",
       "      <td>7605</td>\n",
       "      <td>False</td>\n",
       "      <td>24 days</td>\n",
       "      <td>24</td>\n",
       "      <td>0</td>\n",
       "      <td>0</td>\n",
       "      <td>0</td>\n",
       "    </tr>\n",
       "  </tbody>\n",
       "</table>\n",
       "</div>"
      ],
      "text/plain": [
       "   КодКонтракта   Test  days_of_freeze  Summer  Winter  Autumn  Spring\n",
       "0          7601  False         16 days      16       0       0       0\n",
       "1          7601  False         10 days       0       0      10       0\n",
       "2          7601  False          6 days       0       0       6       0\n",
       "3          7605  False         24 days       0       0       0      24\n",
       "4          7605  False         24 days      24       0       0       0"
      ]
     },
     "execution_count": 335,
     "metadata": {},
     "output_type": "execute_result"
    }
   ],
   "source": [
    "final_freeze.head()"
   ]
  },
  {
   "cell_type": "code",
   "execution_count": 331,
   "metadata": {
    "collapsed": true
   },
   "outputs": [],
   "source": [
    "grouped = final_freeze.groupby([final_freeze['КодКонтракта']]).sum()"
   ]
  },
  {
   "cell_type": "code",
   "execution_count": 332,
   "metadata": {
    "collapsed": false
   },
   "outputs": [],
   "source": [
    "grouped.Test = grouped.Test > 0 "
   ]
  },
  {
   "cell_type": "code",
   "execution_count": null,
   "metadata": {
    "collapsed": true
   },
   "outputs": [],
   "source": [
    "very_last_freeze = pd.DataFrame(grouped.reset_index())"
   ]
  },
  {
   "cell_type": "code",
   "execution_count": 355,
   "metadata": {
    "collapsed": false
   },
   "outputs": [
    {
     "data": {
      "text/html": [
       "<div>\n",
       "<table border=\"1\" class=\"dataframe\">\n",
       "  <thead>\n",
       "    <tr style=\"text-align: right;\">\n",
       "      <th></th>\n",
       "      <th>КодКонтракта</th>\n",
       "      <th>Test</th>\n",
       "      <th>Summer</th>\n",
       "      <th>Winter</th>\n",
       "      <th>Autumn</th>\n",
       "      <th>Spring</th>\n",
       "    </tr>\n",
       "  </thead>\n",
       "  <tbody>\n",
       "    <tr>\n",
       "      <th>0</th>\n",
       "      <td>7601</td>\n",
       "      <td>False</td>\n",
       "      <td>16</td>\n",
       "      <td>0</td>\n",
       "      <td>16</td>\n",
       "      <td>0</td>\n",
       "    </tr>\n",
       "    <tr>\n",
       "      <th>1</th>\n",
       "      <td>7605</td>\n",
       "      <td>False</td>\n",
       "      <td>24</td>\n",
       "      <td>0</td>\n",
       "      <td>0</td>\n",
       "      <td>24</td>\n",
       "    </tr>\n",
       "    <tr>\n",
       "      <th>2</th>\n",
       "      <td>7639</td>\n",
       "      <td>False</td>\n",
       "      <td>16</td>\n",
       "      <td>0</td>\n",
       "      <td>0</td>\n",
       "      <td>0</td>\n",
       "    </tr>\n",
       "    <tr>\n",
       "      <th>3</th>\n",
       "      <td>7661</td>\n",
       "      <td>True</td>\n",
       "      <td>15</td>\n",
       "      <td>17</td>\n",
       "      <td>16</td>\n",
       "      <td>0</td>\n",
       "    </tr>\n",
       "    <tr>\n",
       "      <th>4</th>\n",
       "      <td>7662</td>\n",
       "      <td>False</td>\n",
       "      <td>10</td>\n",
       "      <td>0</td>\n",
       "      <td>10</td>\n",
       "      <td>0</td>\n",
       "    </tr>\n",
       "  </tbody>\n",
       "</table>\n",
       "</div>"
      ],
      "text/plain": [
       "   КодКонтракта   Test  Summer  Winter  Autumn  Spring\n",
       "0          7601  False      16       0      16       0\n",
       "1          7605  False      24       0       0      24\n",
       "2          7639  False      16       0       0       0\n",
       "3          7661   True      15      17      16       0\n",
       "4          7662  False      10       0      10       0"
      ]
     },
     "execution_count": 355,
     "metadata": {},
     "output_type": "execute_result"
    }
   ],
   "source": [
    "very_last_freeze.head()"
   ]
  },
  {
   "cell_type": "code",
   "execution_count": 353,
   "metadata": {
    "collapsed": false
   },
   "outputs": [
    {
     "data": {
      "text/plain": [
       "True"
      ]
     },
     "execution_count": 353,
     "metadata": {},
     "output_type": "execute_result"
    }
   ],
   "source": [
    "len(grouped)== len(final_freeze.КодКонтракта.unique())"
   ]
  },
  {
   "cell_type": "code",
   "execution_count": 356,
   "metadata": {
    "collapsed": true
   },
   "outputs": [],
   "source": [
    "very_last_freeze.to_pickle('C://Users//Julia//Desktop//WorldClass//final_freeze.pkl')"
   ]
  },
  {
   "cell_type": "code",
   "execution_count": null,
   "metadata": {
    "collapsed": true
   },
   "outputs": [],
   "source": []
  }
 ],
 "metadata": {
  "kernelspec": {
   "display_name": "Python 3",
   "language": "python",
   "name": "python3"
  },
  "language_info": {
   "codemirror_mode": {
    "name": "ipython",
    "version": 3
   },
   "file_extension": ".py",
   "mimetype": "text/x-python",
   "name": "python",
   "nbconvert_exporter": "python",
   "pygments_lexer": "ipython3",
   "version": "3.5.1"
  }
 },
 "nbformat": 4,
 "nbformat_minor": 0
}
