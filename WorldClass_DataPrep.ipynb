{
 "cells": [
  {
   "cell_type": "markdown",
   "metadata": {},
   "source": [
    "# [Hackaton WorldCalss](http://www.forbes.ru/sp/microsoft/)\n",
    "\n",
    "Определите вероятность перехода каждого клиента компании в статус бывшего члена клуба, достигнув максимального значения по статистической метрике качества *AUC ROC*"
   ]
  },
  {
   "cell_type": "markdown",
   "metadata": {},
   "source": [
    "## Variables\n",
    "\n",
    "### Contracts\n",
    "- КодКлиента                         \n",
    "- КодКонтракта                       \n",
    "- КодНоменклатуры                    \n",
    "- **REMADE** ДатаНачалаСрокаДействия            \n",
    "- **REMADE**ДатаОкончанияСрокаДействия         \n",
    "- **REMADE** ВидСтажаНаНачалоМесяца             \n",
    "- **REMADE** ВидСтажаВМоментПриобретения        \n",
    "- **REMADE** ВидДоговора                    \n",
    "- **FIXED** БонусыОстаток                    \n",
    "- **REMADE** ДлительностьКонтракта              \n",
    "- **GOOD** Переоформлялся                     \n",
    "- **REMADE** ВозрастнаяКатегория                \n",
    "- **REMADE** СегментКлуба                       \n",
    "- **GOOD** КоличествоПлатныхСодоступов        \n",
    "- **GOOD** ОстатокДнейЗаморозок               \n",
    "- **REMADE** КупленоВсегоЗаморозок "
   ]
  },
  {
   "cell_type": "markdown",
   "metadata": {},
   "source": [
    "### To Dummies:\n",
    "- Exp_beg_month\n",
    "- Exp_at_purchase\n",
    "- Переоформлялся\n",
    "- age_group\n",
    "- club_segment\n",
    "- bounght_freeze\n",
    "- contr_type"
   ]
  },
  {
   "cell_type": "markdown",
   "metadata": {},
   "source": [
    "### To Drop:\n",
    "- ВидСтажаНаНачалоМесяца\n",
    "- ВидСтажаВМоментПриобретения\n",
    "- ДатаНачалаСрокаДействия\n",
    "- ДатаОкончанияСрокаДействия\n",
    "- Возрастная категория\n",
    "- СегментКлуба\n",
    "- КупленоВсегоЗаморозок\n",
    "- ДлительностьКонтракта\n",
    "- ВидДоговора\n",
    "- БонусыОстаток"
   ]
  },
  {
   "cell_type": "markdown",
   "metadata": {},
   "source": [
    "### All your data belongs to us!"
   ]
  },
  {
   "cell_type": "markdown",
   "metadata": {},
   "source": [
    "- So far we have two fractions of data - one from December (train set), the other from March (test set)\n",
    "- Both have four datasets in each, somehow we need to concatenate all of them into one large matrix\n",
    "- First of all, I'll connect pairwisely the similar datasets from test and train"
   ]
  },
  {
   "cell_type": "code",
   "execution_count": 11,
   "metadata": {
    "collapsed": true
   },
   "outputs": [],
   "source": [
    "import pandas as pd\n",
    "import numpy as np\n",
    "import matplotlib\n",
    "from datetime import datetime\n",
    "import matplotlib.pyplot as plt\n",
    "from matplotlib.ticker import MaxNLocator\n",
    "from matplotlib import cm\n",
    "from mpl_toolkits.mplot3d import Axes3D\n",
    "from scipy import array, newaxis"
   ]
  },
  {
   "cell_type": "code",
   "execution_count": 12,
   "metadata": {
    "collapsed": true
   },
   "outputs": [],
   "source": [
    "from sklearn.preprocessing import LabelEncoder\n",
    "le = LabelEncoder()"
   ]
  },
  {
   "cell_type": "markdown",
   "metadata": {},
   "source": [
    "## Contracts"
   ]
  },
  {
   "cell_type": "code",
   "execution_count": 13,
   "metadata": {
    "collapsed": false
   },
   "outputs": [],
   "source": [
    "cont_train = pd.read_csv('C://Users//Auditore//Desktop//MicrosoftHack//December//contracts.csv', encoding = 'cp1251')\n",
    "cont_test = pd.read_csv('C://Users//Auditore//Desktop//MicrosoftHack//March//contracts.csv', encoding = 'cp1251')"
   ]
  },
  {
   "cell_type": "code",
   "execution_count": 14,
   "metadata": {
    "collapsed": false
   },
   "outputs": [],
   "source": [
    "#cont_train.info()"
   ]
  },
  {
   "cell_type": "code",
   "execution_count": 15,
   "metadata": {
    "collapsed": false
   },
   "outputs": [],
   "source": [
    "#cont_test.info()"
   ]
  },
  {
   "cell_type": "code",
   "execution_count": 56,
   "metadata": {
    "collapsed": false
   },
   "outputs": [
    {
     "data": {
      "image/png": "[encoded data removed]",
      "text/plain": [
       "<matplotlib.figure.Figure at 0x93a6a90>"
      ]
     },
     "metadata": {},
     "output_type": "display_data"
    }
   ],
   "source": [
    "%matplotlib inline\n",
    "cont_train.ВидСтажаВМоментПриобретения.value_counts().plot(kind='barh')\n",
    "plt.style.use('ggplot')"
   ]
  },
  {
   "cell_type": "code",
   "execution_count": 17,
   "metadata": {
    "collapsed": true
   },
   "outputs": [],
   "source": [
    "prodlilsya = cont_train.Продлился\n",
    "cont_train.drop(['Продлился'], axis = 1, inplace = True)"
   ]
  },
  {
   "cell_type": "code",
   "execution_count": 18,
   "metadata": {
    "collapsed": true
   },
   "outputs": [],
   "source": [
    "cont_train['Test'] = False\n",
    "cont_test['Test'] = True\n",
    "cont_data = pd.concat([cont_train, cont_test], ignore_index=True)"
   ]
  },
  {
   "cell_type": "code",
   "execution_count": 19,
   "metadata": {
    "collapsed": false
   },
   "outputs": [
    {
     "data": {
      "text/html": [
       "<div style=\"max-height:1000px;max-width:1500px;overflow:auto;\">\n",
       "<table border=\"1\" class=\"dataframe\">\n",
       "  <thead>\n",
       "    <tr style=\"text-align: right;\">\n",
       "      <th></th>\n",
       "      <th>КодКлиента</th>\n",
       "      <th>КодКонтракта</th>\n",
       "      <th>КодНоменклатуры</th>\n",
       "      <th>ДатаНачалаСрокаДействия</th>\n",
       "      <th>ДатаОкончанияСрокаДействия</th>\n",
       "      <th>ВидСтажаНаНачалоМесяца</th>\n",
       "      <th>ВидСтажаВМоментПриобретения</th>\n",
       "      <th>ВидДоговора</th>\n",
       "      <th>БонусыОстаток</th>\n",
       "      <th>ДлительностьКонтракта</th>\n",
       "      <th>Переоформлялся</th>\n",
       "      <th>ВозрастнаяКатегория</th>\n",
       "      <th>СегментКлуба</th>\n",
       "      <th>КоличествоПлатныхСодоступов</th>\n",
       "      <th>ОстатокДнейЗаморозок</th>\n",
       "      <th>КупленоВсегоЗаморозок</th>\n",
       "      <th>Test</th>\n",
       "    </tr>\n",
       "  </thead>\n",
       "  <tbody>\n",
       "    <tr>\n",
       "      <th>0</th>\n",
       "      <td> 3101</td>\n",
       "      <td> 29908</td>\n",
       "      <td> 36109</td>\n",
       "      <td> 21.11.2014</td>\n",
       "      <td> 20.12.2015</td>\n",
       "      <td> Renew</td>\n",
       "      <td> Renew</td>\n",
       "      <td> NaN</td>\n",
       "      <td>      390</td>\n",
       "      <td> 365</td>\n",
       "      <td> 0</td>\n",
       "      <td> Взрослые</td>\n",
       "      <td> Lower</td>\n",
       "      <td> 0</td>\n",
       "      <td>  0</td>\n",
       "      <td> 0</td>\n",
       "      <td> False</td>\n",
       "    </tr>\n",
       "    <tr>\n",
       "      <th>1</th>\n",
       "      <td> 3120</td>\n",
       "      <td> 28457</td>\n",
       "      <td>    99</td>\n",
       "      <td> 26.06.2015</td>\n",
       "      <td> 24.12.2015</td>\n",
       "      <td> Renew</td>\n",
       "      <td>    Ex</td>\n",
       "      <td> NaN</td>\n",
       "      <td>   645.14</td>\n",
       "      <td> 182</td>\n",
       "      <td> 0</td>\n",
       "      <td> Взрослые</td>\n",
       "      <td> Lower</td>\n",
       "      <td> 0</td>\n",
       "      <td>  0</td>\n",
       "      <td> 0</td>\n",
       "      <td> False</td>\n",
       "    </tr>\n",
       "    <tr>\n",
       "      <th>2</th>\n",
       "      <td> 3126</td>\n",
       "      <td>  8230</td>\n",
       "      <td>    99</td>\n",
       "      <td> 29.10.2014</td>\n",
       "      <td> 27.12.2015</td>\n",
       "      <td> Renew</td>\n",
       "      <td> Renew</td>\n",
       "      <td> NaN</td>\n",
       "      <td> 6 275.96</td>\n",
       "      <td> 395</td>\n",
       "      <td> 0</td>\n",
       "      <td> Взрослые</td>\n",
       "      <td> Upper</td>\n",
       "      <td> 0</td>\n",
       "      <td>  0</td>\n",
       "      <td> 0</td>\n",
       "      <td> False</td>\n",
       "    </tr>\n",
       "    <tr>\n",
       "      <th>3</th>\n",
       "      <td> 3153</td>\n",
       "      <td>  8121</td>\n",
       "      <td>    99</td>\n",
       "      <td> 02.12.2014</td>\n",
       "      <td> 15.12.2015</td>\n",
       "      <td> Renew</td>\n",
       "      <td> Renew</td>\n",
       "      <td> NaN</td>\n",
       "      <td>     0.72</td>\n",
       "      <td> 365</td>\n",
       "      <td> 0</td>\n",
       "      <td> Взрослые</td>\n",
       "      <td> Upper</td>\n",
       "      <td> 0</td>\n",
       "      <td> 16</td>\n",
       "      <td> 0</td>\n",
       "      <td> False</td>\n",
       "    </tr>\n",
       "    <tr>\n",
       "      <th>4</th>\n",
       "      <td> 3156</td>\n",
       "      <td> 29730</td>\n",
       "      <td> 36109</td>\n",
       "      <td> 16.11.2014</td>\n",
       "      <td> 11.12.2015</td>\n",
       "      <td> Renew</td>\n",
       "      <td> Renew</td>\n",
       "      <td> NaN</td>\n",
       "      <td>      520</td>\n",
       "      <td> 365</td>\n",
       "      <td> 0</td>\n",
       "      <td> Взрослые</td>\n",
       "      <td> Lower</td>\n",
       "      <td> 0</td>\n",
       "      <td>  4</td>\n",
       "      <td> 0</td>\n",
       "      <td> False</td>\n",
       "    </tr>\n",
       "  </tbody>\n",
       "</table>\n",
       "</div>"
      ],
      "text/plain": [
       "   КодКлиента  КодКонтракта  КодНоменклатуры ДатаНачалаСрокаДействия  \\\n",
       "0        3101         29908            36109              21.11.2014   \n",
       "1        3120         28457               99              26.06.2015   \n",
       "2        3126          8230               99              29.10.2014   \n",
       "3        3153          8121               99              02.12.2014   \n",
       "4        3156         29730            36109              16.11.2014   \n",
       "\n",
       "  ДатаОкончанияСрокаДействия ВидСтажаНаНачалоМесяца  \\\n",
       "0                 20.12.2015                  Renew   \n",
       "1                 24.12.2015                  Renew   \n",
       "2                 27.12.2015                  Renew   \n",
       "3                 15.12.2015                  Renew   \n",
       "4                 11.12.2015                  Renew   \n",
       "\n",
       "  ВидСтажаВМоментПриобретения ВидДоговора БонусыОстаток  \\\n",
       "0                       Renew         NaN           390   \n",
       "1                          Ex         NaN        645.14   \n",
       "2                       Renew         NaN      6 275.96   \n",
       "3                       Renew         NaN          0.72   \n",
       "4                       Renew         NaN           520   \n",
       "\n",
       "   ДлительностьКонтракта  Переоформлялся ВозрастнаяКатегория СегментКлуба  \\\n",
       "0                    365               0            Взрослые        Lower   \n",
       "1                    182               0            Взрослые        Lower   \n",
       "2                    395               0            Взрослые        Upper   \n",
       "3                    365               0            Взрослые        Upper   \n",
       "4                    365               0            Взрослые        Lower   \n",
       "\n",
       "   КоличествоПлатныхСодоступов  ОстатокДнейЗаморозок  КупленоВсегоЗаморозок  \\\n",
       "0                            0                     0                      0   \n",
       "1                            0                     0                      0   \n",
       "2                            0                     0                      0   \n",
       "3                            0                    16                      0   \n",
       "4                            0                     4                      0   \n",
       "\n",
       "    Test  \n",
       "0  False  \n",
       "1  False  \n",
       "2  False  \n",
       "3  False  \n",
       "4  False  "
      ]
     },
     "execution_count": 19,
     "metadata": {},
     "output_type": "execute_result"
    }
   ],
   "source": [
    "cont_data.head()"
   ]
  },
  {
   "cell_type": "markdown",
   "metadata": {},
   "source": [
    "# It's Engineering time!\n",
    "---"
   ]
  },
  {
   "cell_type": "code",
   "execution_count": 20,
   "metadata": {
    "collapsed": false
   },
   "outputs": [
    {
     "data": {
      "text/plain": [
       "КодКлиента                         1\n",
       "КодКонтракта                       0\n",
       "КодНоменклатуры                    0\n",
       "ДатаНачалаСрокаДействия            1\n",
       "ДатаОкончанияСрокаДействия         0\n",
       "ВидСтажаНаНачалоМесяца             0\n",
       "ВидСтажаВМоментПриобретения        1\n",
       "ВидДоговора                    13841\n",
       "БонусыОстаток                    312\n",
       "ДлительностьКонтракта              1\n",
       "Переоформлялся                     0\n",
       "ВозрастнаяКатегория                0\n",
       "СегментКлуба                       0\n",
       "КоличествоПлатныхСодоступов        0\n",
       "ОстатокДнейЗаморозок               0\n",
       "КупленоВсегоЗаморозок              0\n",
       "Test                               0\n",
       "dtype: int64"
      ]
     },
     "execution_count": 20,
     "metadata": {},
     "output_type": "execute_result"
    }
   ],
   "source": [
    "cont_data.isnull().sum()"
   ]
  },
  {
   "cell_type": "markdown",
   "metadata": {},
   "source": [
    "---\n",
    "- ВидСтажаНаНачалоМесяца"
   ]
  },
  {
   "cell_type": "code",
   "execution_count": 21,
   "metadata": {
    "collapsed": false
   },
   "outputs": [
    {
     "data": {
      "text/plain": [
       "Renew    9184\n",
       "New      8446\n",
       "Ex          2\n",
       "dtype: int64"
      ]
     },
     "execution_count": 21,
     "metadata": {},
     "output_type": "execute_result"
    }
   ],
   "source": [
    "cont_data.ВидСтажаНаНачалоМесяца.value_counts()"
   ]
  },
  {
   "cell_type": "code",
   "execution_count": 22,
   "metadata": {
    "collapsed": true
   },
   "outputs": [],
   "source": [
    "cont_data['Exp_beg_month'] = le.fit_transform(cont_data.ВидСтажаНаНачалоМесяца)"
   ]
  },
  {
   "cell_type": "code",
   "execution_count": 23,
   "metadata": {
    "collapsed": false
   },
   "outputs": [
    {
     "data": {
      "text/plain": [
       "2    9184\n",
       "1    8446\n",
       "0       2\n",
       "dtype: int64"
      ]
     },
     "execution_count": 23,
     "metadata": {},
     "output_type": "execute_result"
    }
   ],
   "source": [
    "cont_data.Exp_beg_month.value_counts()"
   ]
  },
  {
   "cell_type": "markdown",
   "metadata": {},
   "source": [
    "---"
   ]
  },
  {
   "cell_type": "markdown",
   "metadata": {},
   "source": [
    "- ВидСтажаВМоментПриобретения"
   ]
  },
  {
   "cell_type": "code",
   "execution_count": 24,
   "metadata": {
    "collapsed": false
   },
   "outputs": [
    {
     "data": {
      "text/plain": [
       "Int64Index([17440], dtype='int64')"
      ]
     },
     "execution_count": 24,
     "metadata": {},
     "output_type": "execute_result"
    }
   ],
   "source": [
    "cont_data.index[cont_data.ВидСтажаВМоментПриобретения.isnull()]"
   ]
  },
  {
   "cell_type": "code",
   "execution_count": 25,
   "metadata": {
    "collapsed": false
   },
   "outputs": [],
   "source": [
    "cont_data.loc[17440, 'ВидСтажаВМоментПриобретения'] = 'New'"
   ]
  },
  {
   "cell_type": "code",
   "execution_count": 26,
   "metadata": {
    "collapsed": false
   },
   "outputs": [],
   "source": [
    "cont_data['Exp_at_purchase'] = le.fit_transform(cont_data.ВидСтажаВМоментПриобретения)"
   ]
  },
  {
   "cell_type": "code",
   "execution_count": 27,
   "metadata": {
    "collapsed": false
   },
   "outputs": [
    {
     "data": {
      "text/plain": [
       "1    7647\n",
       "2    6268\n",
       "0    3717\n",
       "dtype: int64"
      ]
     },
     "execution_count": 27,
     "metadata": {},
     "output_type": "execute_result"
    }
   ],
   "source": [
    "cont_data.Exp_at_purchase.value_counts()"
   ]
  },
  {
   "cell_type": "markdown",
   "metadata": {},
   "source": [
    "---"
   ]
  },
  {
   "cell_type": "markdown",
   "metadata": {},
   "source": [
    "- ДатаНачалаСрокаДействия\n",
    "- ДатаОкончанияСрокаДействия\n",
    "- ДлителностьКонтракта"
   ]
  },
  {
   "cell_type": "code",
   "execution_count": 28,
   "metadata": {
    "collapsed": false
   },
   "outputs": [
    {
     "data": {
      "text/plain": [
       "Int64Index([6499], dtype='int64')"
      ]
     },
     "execution_count": 28,
     "metadata": {},
     "output_type": "execute_result"
    }
   ],
   "source": [
    "cont_data.index[cont_data.ДатаНачалаСрокаДействия.isnull()]"
   ]
  },
  {
   "cell_type": "code",
   "execution_count": 29,
   "metadata": {
    "collapsed": false
   },
   "outputs": [
    {
     "data": {
      "text/plain": [
       "'30.12.2015'"
      ]
     },
     "execution_count": 29,
     "metadata": {},
     "output_type": "execute_result"
    }
   ],
   "source": [
    "cont_data.loc[6499, 'ДатаОкончанияСрокаДействия']"
   ]
  },
  {
   "cell_type": "code",
   "execution_count": 30,
   "metadata": {
    "collapsed": false
   },
   "outputs": [
    {
     "data": {
      "text/plain": [
       "365.0"
      ]
     },
     "execution_count": 30,
     "metadata": {},
     "output_type": "execute_result"
    }
   ],
   "source": [
    "cont_data.loc[6499, 'ДлительностьКонтракта']"
   ]
  },
  {
   "cell_type": "code",
   "execution_count": 31,
   "metadata": {
    "collapsed": true
   },
   "outputs": [],
   "source": [
    "cont_data.loc[6499, 'ДатаНачалаСрокаДействия'] = '30.12.2014'"
   ]
  },
  {
   "cell_type": "code",
   "execution_count": 32,
   "metadata": {
    "collapsed": false
   },
   "outputs": [],
   "source": [
    "dates_begin = pd.to_datetime(cont_data.ДатаНачалаСрокаДействия, format = '%d.%m.%Y')\n",
    "dates_end = pd.to_datetime(cont_data.ДатаОкончанияСрокаДействия, format = '%d.%m.%Y')"
   ]
  },
  {
   "cell_type": "code",
   "execution_count": 33,
   "metadata": {
    "collapsed": false
   },
   "outputs": [],
   "source": [
    "cont_data['Cont_length'] = dates_end-dates_begin"
   ]
  },
  {
   "cell_type": "code",
   "execution_count": 34,
   "metadata": {
    "collapsed": false
   },
   "outputs": [],
   "source": [
    "cont_data['Cont_length'] = cont_data['Cont_length'].apply(lambda x: x / np.timedelta64(1,'D'))"
   ]
  },
  {
   "cell_type": "markdown",
   "metadata": {},
   "source": [
    "- Adding columns with month and day of purchase "
   ]
  },
  {
   "cell_type": "code",
   "execution_count": 35,
   "metadata": {
    "collapsed": false
   },
   "outputs": [],
   "source": [
    "cont_data['beg_month'] = dates_begin.apply(lambda x: x.month)\n",
    "cont_data['beg_day'] = dates_begin.apply(lambda x: x.day)"
   ]
  },
  {
   "cell_type": "code",
   "execution_count": 36,
   "metadata": {
    "collapsed": false
   },
   "outputs": [
    {
     "data": {
      "text/plain": [
       "<matplotlib.axes._subplots.AxesSubplot at 0x8f20588>"
      ]
     },
     "execution_count": 36,
     "metadata": {},
     "output_type": "execute_result"
    },
    {
     "data": {
      "image/png": "[encoded data removed]",
      "text/plain": [
       "<matplotlib.figure.Figure at 0x8f14908>"
      ]
     },
     "metadata": {},
     "output_type": "display_data"
    }
   ],
   "source": [
    "cont_data.beg_month.value_counts().plot(kind='barh')"
   ]
  },
  {
   "cell_type": "markdown",
   "metadata": {},
   "source": [
    "- Maybe it will be useful to know, what was the season when the purchase was made"
   ]
  },
  {
   "cell_type": "code",
   "execution_count": 37,
   "metadata": {
    "collapsed": true
   },
   "outputs": [],
   "source": [
    "def get_season(month):\n",
    "    if month <= 2 or month==12:\n",
    "        season = 0\n",
    "    elif 2<month<=5:\n",
    "        season = 1\n",
    "    elif 5<month<=8:\n",
    "        season = 2\n",
    "    else:\n",
    "        season = 3\n",
    "    return season"
   ]
  },
  {
   "cell_type": "code",
   "execution_count": 38,
   "metadata": {
    "collapsed": false
   },
   "outputs": [],
   "source": [
    "for month in cont_data.beg_month.unique():\n",
    "    cont_data.loc[cont_data.index[cont_data.beg_month==month], 'Season'] = get_season(month)"
   ]
  },
  {
   "cell_type": "code",
   "execution_count": 39,
   "metadata": {
    "collapsed": false
   },
   "outputs": [
    {
     "data": {
      "text/plain": [
       "<matplotlib.axes._subplots.AxesSubplot at 0x9291ef0>"
      ]
     },
     "execution_count": 39,
     "metadata": {},
     "output_type": "execute_result"
    },
    {
     "data": {
      "image/png": "[encoded data removed]",
      "text/plain": [
       "<matplotlib.figure.Figure at 0x92949b0>"
      ]
     },
     "metadata": {},
     "output_type": "display_data"
    }
   ],
   "source": [
    "cont_data.Season.value_counts().plot(kind='barh')"
   ]
  },
  {
   "cell_type": "code",
   "execution_count": 40,
   "metadata": {
    "collapsed": false
   },
   "outputs": [
    {
     "data": {
      "text/plain": [
       "Int64Index([17440], dtype='int64')"
      ]
     },
     "execution_count": 40,
     "metadata": {},
     "output_type": "execute_result"
    }
   ],
   "source": [
    "cont_data.index[cont_data.ДлительностьКонтракта.isnull()]"
   ]
  },
  {
   "cell_type": "code",
   "execution_count": 41,
   "metadata": {
    "collapsed": true
   },
   "outputs": [],
   "source": [
    "cont_data.loc[17440, 'ДлительностьКонтракта'] = cont_data.loc[17440, 'Cont_length']"
   ]
  },
  {
   "cell_type": "markdown",
   "metadata": {},
   "source": [
    "---"
   ]
  },
  {
   "cell_type": "markdown",
   "metadata": {},
   "source": [
    "- ВидДоговора"
   ]
  },
  {
   "cell_type": "code",
   "execution_count": 42,
   "metadata": {
    "collapsed": false
   },
   "outputs": [
    {
     "data": {
      "text/plain": [
       "Корпоративный              2967\n",
       "Индивидуальный              777\n",
       "Групповой                    45\n",
       "Члены семей сотрудников       2\n",
       "dtype: int64"
      ]
     },
     "execution_count": 42,
     "metadata": {},
     "output_type": "execute_result"
    }
   ],
   "source": [
    "cont_data.ВидДоговора.value_counts()"
   ]
  },
  {
   "cell_type": "markdown",
   "metadata": {},
   "source": [
    "---\n",
    "- Переоформлялся"
   ]
  },
  {
   "cell_type": "code",
   "execution_count": 43,
   "metadata": {
    "collapsed": false
   },
   "outputs": [
    {
     "data": {
      "text/plain": [
       "Взрослые    16379\n",
       "Kids         1136\n",
       "Teens         117\n",
       "dtype: int64"
      ]
     },
     "execution_count": 43,
     "metadata": {},
     "output_type": "execute_result"
    }
   ],
   "source": [
    "cont_data.ВозрастнаяКатегория.value_counts()"
   ]
  },
  {
   "cell_type": "code",
   "execution_count": 44,
   "metadata": {
    "collapsed": true
   },
   "outputs": [],
   "source": [
    "cont_data['age_group'] = le.fit_transform(cont_data.ВозрастнаяКатегория)"
   ]
  },
  {
   "cell_type": "code",
   "execution_count": 45,
   "metadata": {
    "collapsed": false
   },
   "outputs": [
    {
     "data": {
      "text/plain": [
       "2    16379\n",
       "0     1136\n",
       "1      117\n",
       "dtype: int64"
      ]
     },
     "execution_count": 45,
     "metadata": {},
     "output_type": "execute_result"
    }
   ],
   "source": [
    "cont_data.age_group.value_counts()"
   ]
  },
  {
   "cell_type": "markdown",
   "metadata": {},
   "source": [
    "---\n",
    "- СегментКлуба"
   ]
  },
  {
   "cell_type": "code",
   "execution_count": 46,
   "metadata": {
    "collapsed": false
   },
   "outputs": [
    {
     "data": {
      "text/plain": [
       "Lite       6360\n",
       "Lower      5760\n",
       "Upper      4941\n",
       "Lux         540\n",
       "Жуковка      31\n",
       "dtype: int64"
      ]
     },
     "execution_count": 46,
     "metadata": {},
     "output_type": "execute_result"
    }
   ],
   "source": [
    "cont_data.СегментКлуба.value_counts()"
   ]
  },
  {
   "cell_type": "code",
   "execution_count": 47,
   "metadata": {
    "collapsed": true
   },
   "outputs": [],
   "source": [
    "cont_data['club_segment'] = le.fit_transform(cont_data.СегментКлуба)"
   ]
  },
  {
   "cell_type": "code",
   "execution_count": 48,
   "metadata": {
    "collapsed": false
   },
   "outputs": [
    {
     "data": {
      "text/plain": [
       "0    6360\n",
       "1    5760\n",
       "3    4941\n",
       "2     540\n",
       "4      31\n",
       "dtype: int64"
      ]
     },
     "execution_count": 48,
     "metadata": {},
     "output_type": "execute_result"
    }
   ],
   "source": [
    "cont_data.club_segment.value_counts()"
   ]
  },
  {
   "cell_type": "markdown",
   "metadata": {},
   "source": [
    "---\n",
    "- ОстатокДнейЗаморозок"
   ]
  },
  {
   "cell_type": "code",
   "execution_count": 49,
   "metadata": {
    "collapsed": false
   },
   "outputs": [
    {
     "data": {
      "text/plain": [
       "<matplotlib.axes._subplots.AxesSubplot at 0x92bacf8>"
      ]
     },
     "execution_count": 49,
     "metadata": {},
     "output_type": "execute_result"
    },
    {
     "data": {
      "image/png": "[encoded data removed]",
      "text/plain": [
       "<matplotlib.figure.Figure at 0x92b5f60>"
      ]
     },
     "metadata": {},
     "output_type": "display_data"
    }
   ],
   "source": [
    "cont_data.ОстатокДнейЗаморозок.hist(bins=20)"
   ]
  },
  {
   "cell_type": "code",
   "execution_count": 50,
   "metadata": {
    "collapsed": false
   },
   "outputs": [
    {
     "data": {
      "text/plain": [
       "0      17489\n",
       "30       115\n",
       "60        23\n",
       "90         3\n",
       "120        2\n",
       "dtype: int64"
      ]
     },
     "execution_count": 50,
     "metadata": {},
     "output_type": "execute_result"
    }
   ],
   "source": [
    "cont_data.КупленоВсегоЗаморозок.value_counts()"
   ]
  },
  {
   "cell_type": "code",
   "execution_count": 51,
   "metadata": {
    "collapsed": true
   },
   "outputs": [],
   "source": [
    "cont_data['bought_freeze'] = le.fit_transform(cont_data.КупленоВсегоЗаморозок)"
   ]
  },
  {
   "cell_type": "code",
   "execution_count": 52,
   "metadata": {
    "collapsed": false
   },
   "outputs": [
    {
     "data": {
      "text/plain": [
       "0    17489\n",
       "1      115\n",
       "2       23\n",
       "3        3\n",
       "4        2\n",
       "dtype: int64"
      ]
     },
     "execution_count": 52,
     "metadata": {},
     "output_type": "execute_result"
    }
   ],
   "source": [
    "cont_data.bought_freeze.value_counts()"
   ]
  },
  {
   "cell_type": "markdown",
   "metadata": {},
   "source": [
    "---\n",
    "- БонусыОстаток"
   ]
  },
  {
   "cell_type": "code",
   "execution_count": 53,
   "metadata": {
    "collapsed": false
   },
   "outputs": [
    {
     "data": {
      "text/plain": [
       "5100.47"
      ]
     },
     "execution_count": 53,
     "metadata": {},
     "output_type": "execute_result"
    }
   ],
   "source": [
    "def get_number(value):\n",
    "    try:\n",
    "        value = value.split(' ')\n",
    "        clean = ''\n",
    "        for i in value:\n",
    "            clean += i\n",
    "        return float(clean)\n",
    "    except:\n",
    "        return value\n",
    "    \n",
    "get_number('5 100.47')"
   ]
  },
  {
   "cell_type": "code",
   "execution_count": 54,
   "metadata": {
    "collapsed": false
   },
   "outputs": [],
   "source": [
    "cont_data['bonus_left'] = cont_data.БонусыОстаток[:]\n",
    "for row in range(0, len(cont_data)):\n",
    "    cont_data.loc[row, 'bonus_left'] = get_number(cont_data.БонусыОстаток[row])"
   ]
  },
  {
   "cell_type": "code",
   "execution_count": 55,
   "metadata": {
    "collapsed": false
   },
   "outputs": [
    {
     "data": {
      "text/plain": [
       "<matplotlib.axes._subplots.AxesSubplot at 0x8f02358>"
      ]
     },
     "execution_count": 55,
     "metadata": {},
     "output_type": "execute_result"
    },
    {
     "data": {
      "image/png": "[encoded data removed]",
      "text/plain": [
       "<matplotlib.figure.Figure at 0x949acf8>"
      ]
     },
     "metadata": {},
     "output_type": "display_data"
    }
   ],
   "source": [
    "cont_data.bonus_left.hist(bins=15)"
   ]
  },
  {
   "cell_type": "code",
   "execution_count": 72,
   "metadata": {
    "collapsed": true
   },
   "outputs": [],
   "source": [
    "cont_data.loc[cont_data.bonus_left.isnull(), 'bonus_left'] = 0"
   ]
  },
  {
   "cell_type": "markdown",
   "metadata": {},
   "source": [
    "---\n",
    "- ВидДоговора"
   ]
  },
  {
   "cell_type": "code",
   "execution_count": 57,
   "metadata": {
    "collapsed": false
   },
   "outputs": [
    {
     "data": {
      "text/plain": [
       "Корпоративный              2967\n",
       "Индивидуальный              777\n",
       "Групповой                    45\n",
       "Члены семей сотрудников       2\n",
       "dtype: int64"
      ]
     },
     "execution_count": 57,
     "metadata": {},
     "output_type": "execute_result"
    }
   ],
   "source": [
    "cont_data.ВидДоговора.value_counts()"
   ]
  },
  {
   "cell_type": "code",
   "execution_count": 62,
   "metadata": {
    "collapsed": false
   },
   "outputs": [
    {
     "data": {
      "text/plain": [
       "ВидДоговора\n",
       "Групповой                  291.022222\n",
       "Индивидуальный             378.962677\n",
       "Корпоративный              349.448264\n",
       "Члены семей сотрудников     35.000000\n",
       "Name: Cont_length, dtype: float64"
      ]
     },
     "execution_count": 62,
     "metadata": {},
     "output_type": "execute_result"
    }
   ],
   "source": [
    "cont_data.groupby('ВидДоговора')['Cont_length'].mean()"
   ]
  },
  {
   "cell_type": "code",
   "execution_count": 69,
   "metadata": {
    "collapsed": false
   },
   "outputs": [
    {
     "data": {
      "text/plain": [
       "0.78499319419237745"
      ]
     },
     "execution_count": 69,
     "metadata": {},
     "output_type": "execute_result"
    }
   ],
   "source": [
    "cont_data.ВидДоговора.isnull().sum()/len(cont_data)"
   ]
  },
  {
   "cell_type": "code",
   "execution_count": 70,
   "metadata": {
    "collapsed": true
   },
   "outputs": [],
   "source": [
    "cont_data.loc[cont_data.ВидДоговора.isnull(), 'ВидДоговора'] = 'other'"
   ]
  },
  {
   "cell_type": "code",
   "execution_count": 75,
   "metadata": {
    "collapsed": false
   },
   "outputs": [],
   "source": [
    "cont_data['contr_type'] = le.fit_transform(cont_data.ВидДоговора)"
   ]
  },
  {
   "cell_type": "code",
   "execution_count": 77,
   "metadata": {
    "collapsed": false
   },
   "outputs": [
    {
     "data": {
      "text/plain": [
       "0    13841\n",
       "3     2967\n",
       "2      777\n",
       "1       45\n",
       "4        2\n",
       "dtype: int64"
      ]
     },
     "execution_count": 77,
     "metadata": {},
     "output_type": "execute_result"
    }
   ],
   "source": [
    "cont_data.contr_type.value_counts()"
   ]
  },
  {
   "cell_type": "code",
   "execution_count": null,
   "metadata": {
    "collapsed": true
   },
   "outputs": [],
   "source": []
  }
 ],
 "metadata": {
  "kernelspec": {
   "display_name": "Python 3",
   "language": "python",
   "name": "python3"
  },
  "language_info": {
   "codemirror_mode": {
    "name": "ipython",
    "version": 3
   },
   "file_extension": ".py",
   "mimetype": "text/x-python",
   "name": "python",
   "nbconvert_exporter": "python",
   "pygments_lexer": "ipython3",
   "version": "3.4.3"
  }
 },
 "nbformat": 4,
 "nbformat_minor": 0
}
