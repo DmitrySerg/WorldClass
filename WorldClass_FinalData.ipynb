{
 "cells": [
  {
   "cell_type": "markdown",
   "metadata": {},
   "source": [
    "# WorldClass freeze and calls"
   ]
  },
  {
   "cell_type": "code",
   "execution_count": 2,
   "metadata": {
    "collapsed": true
   },
   "outputs": [],
   "source": [
    "import pandas as pd\n",
    "import numpy as np\n",
    "import matplotlib\n",
    "from datetime import datetime\n",
    "import matplotlib.pyplot as plt\n",
    "from matplotlib.ticker import MaxNLocator\n",
    "from matplotlib import cm\n",
    "from mpl_toolkits.mplot3d import Axes3D\n",
    "from scipy import array, newaxis"
   ]
  },
  {
   "cell_type": "code",
   "execution_count": 3,
   "metadata": {
    "collapsed": true
   },
   "outputs": [],
   "source": [
    "from sklearn.preprocessing import LabelEncoder\n",
    "le = LabelEncoder()"
   ]
  },
  {
   "cell_type": "code",
   "execution_count": 4,
   "metadata": {
    "collapsed": true
   },
   "outputs": [],
   "source": [
    "%matplotlib inline"
   ]
  },
  {
   "cell_type": "code",
   "execution_count": 5,
   "metadata": {
    "collapsed": true
   },
   "outputs": [],
   "source": [
    "plt.style.use('ggplot')"
   ]
  },
  {
   "cell_type": "markdown",
   "metadata": {},
   "source": [
    "### Freeze data (from [Julia Petropavlovskaya](https://github.com/JuliaPetropavlovskaya/CrackingWorldClass))"
   ]
  },
  {
   "cell_type": "code",
   "execution_count": 6,
   "metadata": {
    "collapsed": true
   },
   "outputs": [],
   "source": [
    "freeze_data = pd.read_pickle('C://Users//Auditore//Desktop//MicrosoftHack//final_freeze.pkl')"
   ]
  },
  {
   "cell_type": "code",
   "execution_count": 7,
   "metadata": {
    "collapsed": false
   },
   "outputs": [
    {
     "data": {
      "text/html": [
       "<div style=\"max-height:1000px;max-width:1500px;overflow:auto;\">\n",
       "<table border=\"1\" class=\"dataframe\">\n",
       "  <thead>\n",
       "    <tr style=\"text-align: right;\">\n",
       "      <th></th>\n",
       "      <th>КодКонтракта</th>\n",
       "      <th>Test</th>\n",
       "      <th>Summer</th>\n",
       "      <th>Winter</th>\n",
       "      <th>Autumn</th>\n",
       "      <th>Spring</th>\n",
       "    </tr>\n",
       "  </thead>\n",
       "  <tbody>\n",
       "    <tr>\n",
       "      <th>0</th>\n",
       "      <td> 7601</td>\n",
       "      <td> False</td>\n",
       "      <td> 16</td>\n",
       "      <td>  0</td>\n",
       "      <td> 16</td>\n",
       "      <td>  0</td>\n",
       "    </tr>\n",
       "    <tr>\n",
       "      <th>1</th>\n",
       "      <td> 7605</td>\n",
       "      <td> False</td>\n",
       "      <td> 24</td>\n",
       "      <td>  0</td>\n",
       "      <td>  0</td>\n",
       "      <td> 24</td>\n",
       "    </tr>\n",
       "    <tr>\n",
       "      <th>2</th>\n",
       "      <td> 7639</td>\n",
       "      <td> False</td>\n",
       "      <td> 16</td>\n",
       "      <td>  0</td>\n",
       "      <td>  0</td>\n",
       "      <td>  0</td>\n",
       "    </tr>\n",
       "    <tr>\n",
       "      <th>3</th>\n",
       "      <td> 7661</td>\n",
       "      <td>  True</td>\n",
       "      <td> 15</td>\n",
       "      <td> 17</td>\n",
       "      <td> 16</td>\n",
       "      <td>  0</td>\n",
       "    </tr>\n",
       "    <tr>\n",
       "      <th>4</th>\n",
       "      <td> 7662</td>\n",
       "      <td> False</td>\n",
       "      <td> 10</td>\n",
       "      <td>  0</td>\n",
       "      <td> 10</td>\n",
       "      <td>  0</td>\n",
       "    </tr>\n",
       "  </tbody>\n",
       "</table>\n",
       "</div>"
      ],
      "text/plain": [
       "   КодКонтракта   Test  Summer  Winter  Autumn  Spring\n",
       "0          7601  False      16       0      16       0\n",
       "1          7605  False      24       0       0      24\n",
       "2          7639  False      16       0       0       0\n",
       "3          7661   True      15      17      16       0\n",
       "4          7662  False      10       0      10       0"
      ]
     },
     "execution_count": 7,
     "metadata": {},
     "output_type": "execute_result"
    }
   ],
   "source": [
    "freeze_data.head()"
   ]
  },
  {
   "cell_type": "code",
   "execution_count": 18,
   "metadata": {
    "collapsed": false
   },
   "outputs": [
    {
     "data": {
      "text/plain": [
       "7787"
      ]
     },
     "execution_count": 18,
     "metadata": {},
     "output_type": "execute_result"
    }
   ],
   "source": [
    "len(freeze_data)"
   ]
  },
  {
   "cell_type": "code",
   "execution_count": 8,
   "metadata": {
    "collapsed": true
   },
   "outputs": [],
   "source": [
    "cont_att = pd.read_pickle('C://Users//Auditore//Desktop//MicrosoftHack//contracts_attend.pkl')"
   ]
  },
  {
   "cell_type": "code",
   "execution_count": 14,
   "metadata": {
    "collapsed": true
   },
   "outputs": [],
   "source": [
    "cont_att.bonus_left = cont_att.bonus_left.astype(float)"
   ]
  },
  {
   "cell_type": "code",
   "execution_count": 13,
   "metadata": {
    "collapsed": false
   },
   "outputs": [
    {
     "name": "stdout",
     "output_type": "stream",
     "text": [
      "<class 'pandas.core.frame.DataFrame'>\n",
      "Int64Index: 17632 entries, 0 to 17631\n",
      "Data columns (total 29 columns):\n",
      "КодКлиента                     17631 non-null float64\n",
      "КодКонтракта                   17632 non-null int64\n",
      "Переоформлялся                 17632 non-null int64\n",
      "КоличествоПлатныхСодоступов    17632 non-null int64\n",
      "ОстатокДнейЗаморозок           17632 non-null int64\n",
      "Test                           17632 non-null bool\n",
      "Exp_beg_month                  17632 non-null int32\n",
      "Exp_at_purchase                17632 non-null int32\n",
      "Cont_length                    17632 non-null float64\n",
      "beg_month                      17632 non-null int64\n",
      "beg_day                        17632 non-null int64\n",
      "Season                         17632 non-null float64\n",
      "age_group                      17632 non-null int32\n",
      "club_segment                   17632 non-null int32\n",
      "bought_freeze                  17632 non-null int32\n",
      "bonus_left                     17632 non-null float64\n",
      "contr_type                     17632 non-null int32\n",
      "nom_lev                        17632 non-null int32\n",
      "visit_length                   15322 non-null float64\n",
      "sport_sevice                   15322 non-null float64\n",
      "health_beauty                  15322 non-null float64\n",
      "other                          15322 non-null float64\n",
      "additional                     15322 non-null float64\n",
      "coach                          15322 non-null float64\n",
      "coach_vip                      15322 non-null float64\n",
      "season_0                       15322 non-null float64\n",
      "season_1                       15322 non-null float64\n",
      "season_2                       15322 non-null float64\n",
      "season_3                       15322 non-null float64\n",
      "dtypes: bool(1), float64(15), int32(7), int64(6)\n",
      "memory usage: 3.4 MB\n"
     ]
    }
   ],
   "source": [
    "cont_att.info()"
   ]
  },
  {
   "cell_type": "markdown",
   "metadata": {},
   "source": [
    "## Merging the datasets together \n",
    "*(cross the fingers!)*"
   ]
  },
  {
   "cell_type": "code",
   "execution_count": 16,
   "metadata": {
    "collapsed": true
   },
   "outputs": [],
   "source": [
    "cont_att_freeze = pd.merge(cont_att, freeze_data, on='КодКонтракта', how='left')"
   ]
  },
  {
   "cell_type": "code",
   "execution_count": 17,
   "metadata": {
    "collapsed": false
   },
   "outputs": [
    {
     "name": "stdout",
     "output_type": "stream",
     "text": [
      "<class 'pandas.core.frame.DataFrame'>\n",
      "Int64Index: 17632 entries, 0 to 17631\n",
      "Data columns (total 34 columns):\n",
      "КодКлиента                     17631 non-null float64\n",
      "КодКонтракта                   17632 non-null int64\n",
      "Переоформлялся                 17632 non-null int64\n",
      "КоличествоПлатныхСодоступов    17632 non-null int64\n",
      "ОстатокДнейЗаморозок           17632 non-null int64\n",
      "Test_x                         17632 non-null bool\n",
      "Exp_beg_month                  17632 non-null int32\n",
      "Exp_at_purchase                17632 non-null int32\n",
      "Cont_length                    17632 non-null float64\n",
      "beg_month                      17632 non-null int64\n",
      "beg_day                        17632 non-null int64\n",
      "Season                         17632 non-null float64\n",
      "age_group                      17632 non-null int32\n",
      "club_segment                   17632 non-null int32\n",
      "bought_freeze                  17632 non-null int32\n",
      "bonus_left                     17632 non-null float64\n",
      "contr_type                     17632 non-null int32\n",
      "nom_lev                        17632 non-null int32\n",
      "visit_length                   15322 non-null float64\n",
      "sport_sevice                   15322 non-null float64\n",
      "health_beauty                  15322 non-null float64\n",
      "other                          15322 non-null float64\n",
      "additional                     15322 non-null float64\n",
      "coach                          15322 non-null float64\n",
      "coach_vip                      15322 non-null float64\n",
      "season_0                       15322 non-null float64\n",
      "season_1                       15322 non-null float64\n",
      "season_2                       15322 non-null float64\n",
      "season_3                       15322 non-null float64\n",
      "Test_y                         7787 non-null object\n",
      "Summer                         7787 non-null float64\n",
      "Winter                         7787 non-null float64\n",
      "Autumn                         7787 non-null float64\n",
      "Spring                         7787 non-null float64\n",
      "dtypes: bool(1), float64(19), int32(7), int64(6), object(1)\n",
      "memory usage: 4.1+ MB\n"
     ]
    }
   ],
   "source": [
    "cont_att_freeze.info()"
   ]
  },
  {
   "cell_type": "code",
   "execution_count": 24,
   "metadata": {
    "collapsed": false
   },
   "outputs": [],
   "source": [
    "cont_att_freeze.drop(['Test_y'], axis=1, inplace = True)"
   ]
  },
  {
   "cell_type": "code",
   "execution_count": 22,
   "metadata": {
    "collapsed": false
   },
   "outputs": [
    {
     "data": {
      "text/plain": [
       "True     8998\n",
       "False    8634\n",
       "dtype: int64"
      ]
     },
     "execution_count": 22,
     "metadata": {},
     "output_type": "execute_result"
    }
   ],
   "source": [
    "cont_att_freeze.Test_x.value_counts()"
   ]
  },
  {
   "cell_type": "code",
   "execution_count": 25,
   "metadata": {
    "collapsed": true
   },
   "outputs": [],
   "source": [
    "cont_att_freeze.rename(columns={'Test_x': 'Test'}, inplace=True)"
   ]
  },
  {
   "cell_type": "code",
   "execution_count": 35,
   "metadata": {
    "collapsed": true
   },
   "outputs": [],
   "source": [
    "cont_att_freeze.rename(columns={'Переоформлялся': 'Pereoforml', \n",
    "                                'КоличествоПлатныхСодоступов': 'AmPaySod',\n",
    "                                'ОстатокДнейЗаморозок': 'freeze_day_left'}, inplace=True)"
   ]
  },
  {
   "cell_type": "markdown",
   "metadata": {},
   "source": [
    "Having some freeze days missing might mean there were no of them. Replace with zeroes, proceed with caution"
   ]
  },
  {
   "cell_type": "code",
   "execution_count": 29,
   "metadata": {
    "collapsed": false
   },
   "outputs": [],
   "source": [
    "for season in ['Winter', 'Spring', 'Summer', 'Autumn']:\n",
    "    cont_att_freeze.loc[cont_att_freeze[season].isnull(), season] = 0"
   ]
  },
  {
   "cell_type": "markdown",
   "metadata": {},
   "source": [
    "---\n",
    "Since I know nothing about the attendance of the missing clients, I replace all the values with, guess what, *zeroes*!\n",
    "\n",
    "\n",
    "<img src=\"https://s-media-cache-ak0.pinimg.com/736x/46/03/1d/46031d84912066baa94dd8bad5a474b7.jpg\" width=\"380\">"
   ]
  },
  {
   "cell_type": "code",
   "execution_count": 31,
   "metadata": {
    "collapsed": false
   },
   "outputs": [],
   "source": [
    "na_list = ['visit_length', 'sport_sevice', 'health_beauty', 'other', 'additional', 'coach', 'coach_vip', 'season_0', 'season_1', 'season_2', 'season_3']"
   ]
  },
  {
   "cell_type": "code",
   "execution_count": 32,
   "metadata": {
    "collapsed": true
   },
   "outputs": [],
   "source": [
    "for column in na_list:\n",
    "    cont_att_freeze.loc[cont_att_freeze[column].isnull(), column] = 0"
   ]
  },
  {
   "cell_type": "code",
   "execution_count": 36,
   "metadata": {
    "collapsed": false
   },
   "outputs": [
    {
     "data": {
      "text/plain": [
       "КодКлиента         1\n",
       "КодКонтракта       0\n",
       "Pereoforml         0\n",
       "AmPaySod           0\n",
       "freeze_day_left    0\n",
       "Test               0\n",
       "Exp_beg_month      0\n",
       "Exp_at_purchase    0\n",
       "Cont_length        0\n",
       "beg_month          0\n",
       "beg_day            0\n",
       "Season             0\n",
       "age_group          0\n",
       "club_segment       0\n",
       "bought_freeze      0\n",
       "bonus_left         0\n",
       "contr_type         0\n",
       "nom_lev            0\n",
       "visit_length       0\n",
       "sport_sevice       0\n",
       "health_beauty      0\n",
       "other              0\n",
       "additional         0\n",
       "coach              0\n",
       "coach_vip          0\n",
       "season_0           0\n",
       "season_1           0\n",
       "season_2           0\n",
       "season_3           0\n",
       "Summer             0\n",
       "Winter             0\n",
       "Autumn             0\n",
       "Spring             0\n",
       "dtype: int64"
      ]
     },
     "execution_count": 36,
     "metadata": {},
     "output_type": "execute_result"
    }
   ],
   "source": [
    "cont_att_freeze.isnull().sum()"
   ]
  },
  {
   "cell_type": "code",
   "execution_count": null,
   "metadata": {
    "collapsed": true
   },
   "outputs": [],
   "source": []
  }
 ],
 "metadata": {
  "kernelspec": {
   "display_name": "Python 3",
   "language": "python",
   "name": "python3"
  },
  "language_info": {
   "codemirror_mode": {
    "name": "ipython",
    "version": 3
   },
   "file_extension": ".py",
   "mimetype": "text/x-python",
   "name": "python",
   "nbconvert_exporter": "python",
   "pygments_lexer": "ipython3",
   "version": "3.4.3"
  }
 },
 "nbformat": 4,
 "nbformat_minor": 0
}
